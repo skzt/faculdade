{
  "cells": [
    {
      "cell_type": "code",
      "execution_count": 2,
      "metadata": {
        "collapsed": true,
        "pycharm": {
          "is_executing": false
        }
      },
      "outputs": [],
      "source": "import matplotlib.pyplot as plt\nimport numpy as np\nimport cv2\nimport os\nfrom random import shuffle\nfrom tqdm import tqdm\n\nTRAIN_DIR \u003d \"C:/Users/skzt/Documents/TCC/fotos/Treino\"\nTEST_DIR \u003d \"C:/Users/skzt/Documents/TCC/fotos/Teste\"\nIMG_SIZE_LINHA \u003d 15\nIMG_SIZE_COLUNA \u003d 50\nLEARNING_RATE \u003d 0.01\n\nNOME_MODELO \u003d \"LR-LPR-({}, {})-{}\".format(IMG_SIZE_LINHA, IMG_SIZE_COLUNA, LEARNING_RATE)"
    },
    {
      "cell_type": "code",
      "execution_count": 3,
      "outputs": [],
      "source": "def create_labels(img_name):\n    \"\"\"\n    Pega o nome da imagem, separa os numeros da placa e gera um array para cada numero de 10 posições binarias (0 ou 1).\n          0  1  2  3  4  5  6  7  8  9      \n    0 \u003d [ 1, 0, 0, 0, 0, 0, 0, 0, 0, 0 ]\n    1 \u003d [ 0, 1, 0, 0, 0, 0, 0, 0, 0, 0 ]\n    2 \u003d [ 0, 0, 1, 0, 0, 0, 0, 0, 0, 0 ]\n    3 \u003d [ 0, 0, 0, 1, 0, 0, 0, 0, 0, 0 ]\n    4 \u003d [ 0, 0, 0, 0, 1, 0, 0, 0, 0, 0 ]\n    5 \u003d [ 0, 0, 0, 0, 0, 1, 0, 0, 0, 0 ]\n    6 \u003d [ 0, 0, 0, 0, 0, 0, 1, 0, 0, 0 ]\n    7 \u003d [ 0, 0, 0, 0, 0, 0, 0, 1, 0, 0 ]\n    8 \u003d [ 0, 0, 0, 0, 0, 0, 0, 0, 1, 0 ]\n    9 \u003d [ 0, 0, 0, 0, 0, 0, 0, 0, 0, 1 ]\n    :param img: nome do arquivo da imagem.\n    :return: um array de arrays, representando os numeros da placa.\n    \"\"\"\n    label \u003d [ [ 0, 0, 0, 0, 0, 0, 0, 0, 0, 0 ],\n              [ 0, 0, 0, 0, 0, 0, 0, 0, 0, 0 ],\n              [ 0, 0, 0, 0, 0, 0, 0, 0, 0, 0 ],\n              [ 0, 0, 0, 0, 0, 0, 0, 0, 0, 0 ]\n            ]\n    for index, number in enumerate(img_name.split(\u0027.\u0027)):\n        label[index][number] \u003d 1\n    return label",
      "metadata": {
        "pycharm": {
          "metadata": false,
          "name": "#%%\n",
          "is_executing": false
        }
      }
    },
    {
      "cell_type": "code",
      "execution_count": 4,
      "outputs": [],
      "source": "def create_train_data():\n    training_data \u003d []\n    for img_name in tqdm(os.listdir(TRAIN_DIR)):\n        label \u003d create_labels(img_name)\n        img \u003d cv2.resize(cv2.imread(os.path.join(TRAIN_DIR, img_name), cv2.IMREAD_GRAYSCALE), (IMG_SIZE_COLUNA, IMG_SIZE_LINHA))\n        numbers_array \u003d [[],[],[],[]] # [ [IMG_NUM1], [IMG_NUM2], [IMG_NUM3], [IMG_NUM4]]\n        \n        for linha in range(IMG_SIZE_LINHA):\n            tmp \u003d [[],[],[],[]] # [ [IMG_NUM1], [IMG_NUM2], [IMG_NUM3], [IMG_NUM4]]\n            for coluna in range(24, IMG_SIZE_COLUNA):\n                if coluna \u003c\u003d 29:\n                    tmp[0].append(img[linha][coluna])\n                elif coluna \u003c\u003d 35:\n                    tmp[1].append(img[linha][coluna])\n                elif coluna \u003c\u003d 41:\n                    tmp[2].append(img[linha][coluna])\n                elif coluna \u003c\u003d 47:\n                    tmp[3].append(img[linha][coluna])\n                else:\n                    continue\n            numbers_array[0].append(tmp[0])\n            numbers_array[1].append(tmp[1])\n            numbers_array[2].append(tmp[2])\n            numbers_array[3].append(tmp[3])\n            \n        # numbers_array[0] \u003d np.array(numbers_array[0])\n        # numbers_array[1] \u003d np.array(numbers_array[1])\n        # numbers_array[2] \u003d np.array(numbers_array[2])\n        # numbers_array[3] \u003d np.array(numbers_array[3])\n        \n        for index, number_img in enumerate(numbers_array):\n            training_data.append([np.array(number_img), np.array(label[index])])\n    \n    shuffle(training_data)\n    np.save(\u0027training_data-30-03-({}, {})-{}.npy\u0027.format(IMG_SIZE_LINHA, IMG_SIZE_COLUNA, LEARNING_RATE), training_data)\n    return training_data\n        \n        ",
      "metadata": {
        "pycharm": {
          "metadata": false,
          "name": "#%%\n",
          "is_executing": false
        }
      }
    },
    {
      "cell_type": "code",
      "execution_count": 1,
      "outputs": [],
      "source": "def create_test_data():\n    testing_data \u003d []\n    for img_name in tqdm(os.listdir(TEST_DIR)):\n        img \u003d cv2.resize(cv2.imread(os.path.join(TEST_DIR, img_name), cv2.IMREAD_GRAYSCALE), (IMG_SIZE_COLUNA, IMG_SIZE_LINHA))\n        numbers_array \u003d [[],[],[],[]] # [ [IMG_NUM1], [IMG_NUM2], [IMG_NUM3], [IMG_NUM4]]\n        \n        for linha in range(IMG_SIZE_LINHA):\n            tmp \u003d [[],[],[],[]] # [ [IMG_NUM1], [IMG_NUM2], [IMG_NUM3], [IMG_NUM4]]\n            for coluna in range(24, IMG_SIZE_COLUNA):\n                if coluna \u003c\u003d 29:\n                    tmp[0].append(img[linha][coluna])\n                elif coluna \u003c\u003d 35:\n                    tmp[1].append(img[linha][coluna])\n                elif coluna \u003c\u003d 41:\n                    tmp[2].append(img[linha][coluna])\n                elif coluna \u003c\u003d 47:\n                    tmp[3].append(img[linha][coluna])\n                else:\n                    continue\n            numbers_array[0].append(tmp[0])\n            numbers_array[1].append(tmp[1])\n            numbers_array[2].append(tmp[2])\n            numbers_array[3].append(tmp[3])\n            \n        # numbers_array[0] \u003d np.array(numbers_array[0])\n        # numbers_array[1] \u003d np.array(numbers_array[1])\n        # numbers_array[2] \u003d np.array(numbers_array[2])\n        # numbers_array[3] \u003d np.array(numbers_array[3])\n        for number_img in numbers_array:\n            testing_data.append([np.array(number_img), img_name.split(\u0027.\u0027)[0]])\n        np.save(\u0027testing_data-30-03-({}, {})-{}.npy\u0027.format(IMG_SIZE_LINHA, IMG_SIZE_COLUNA, LEARNING_RATE), training_data)\n        return testing_data",
      "metadata": {
        "pycharm": {
          "metadata": false,
          "name": "#%%\n",
          "is_executing": false
        }
      }
    },
    {
      "cell_type": "code",
      "execution_count": 2,
      "outputs": [],
      "source": "try:\n    training_data \u003d np.load(\u0027testing_data-30-03-({}, {})-{}.npy\u0027.format(IMG_SIZE_LINHA, IMG_SIZE_COLUNA, LEARNING_RATE))\nexcept IOError:\n    training_data \u003d create_train_data()\n",
      "metadata": {
        "pycharm": {
          "metadata": false,
          "name": "#%%\n",
          "is_executing": false
        }
      }
    },
    {
      "cell_type": "code",
      "execution_count": 2,
      "outputs": [],
      "source": "",
      "metadata": {
        "pycharm": {
          "metadata": false,
          "name": "#%%\n",
          "is_executing": false
        }
      }
    },
    {
      "cell_type": "code",
      "execution_count": null,
      "outputs": [],
      "source": "\n",
      "metadata": {
        "pycharm": {
          "metadata": false,
          "name": "#%%\n"
        }
      }
    }
  ],
  "metadata": {
    "language_info": {
      "codemirror_mode": {
        "name": "ipython",
        "version": 2
      },
      "file_extension": ".py",
      "mimetype": "text/x-python",
      "name": "python",
      "nbconvert_exporter": "python",
      "pygments_lexer": "ipython2",
      "version": "2.7.6"
    },
    "kernelspec": {
      "name": "python3",
      "language": "python",
      "display_name": "Python 3"
    }
  },
  "nbformat": 4,
  "nbformat_minor": 0
}