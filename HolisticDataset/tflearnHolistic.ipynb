{
 "cells": [
  {
   "cell_type": "code",
   "execution_count": 1,
   "metadata": {},
   "outputs": [
    {
     "name": "stdout",
     "output_type": "stream",
     "text": [
      "curses is not supported on this machine (please install/reinstall curses for an optimal experience)\n",
      "WARNING:tensorflow:From C:\\VirtualEnv\\tcc-venv\\lib\\site-packages\\tensorflow\\python\\framework\\op_def_library.py:263: colocate_with (from tensorflow.python.framework.ops) is deprecated and will be removed in a future version.\n",
      "Instructions for updating:\n",
      "Colocations handled automatically by placer.\n"
     ]
    }
   ],
   "source": [
    "\n",
    "from time import strftime\n",
    "\n",
    "import numpy as np\n",
    "import matplotlib.pyplot as plt\n",
    "import tflearn\n",
    "from tflearn.layers.conv import conv_2d, max_pool_2d\n",
    "from tflearn.layers.core import input_data, dropout, fully_connected\n",
    "from tflearn.layers.estimator import regression\n",
    "from tflearn.optimizers import SGD\n",
    "from tflearn.data_utils import to_categorical\n",
    "%matplotlib inline"
   ]
  },
  {
   "cell_type": "code",
   "execution_count": 2,
   "metadata": {
    "pycharm": {
     "name": "#%%\n"
    }
   },
   "outputs": [],
   "source": [
    "TRAIN_DATA = \"hlp-dataset-4875-(26, 13)-train.npy\"\n",
    "VALIDATE_DATA = \"hlp-dataset-2089-(26, 13)-validate.npy\"\n",
    "TEST_DATA = \"hlp-dataset-365-(26, 13)-test.npy\"\n",
    "\n",
    "LR = 1e-4\n",
    "ROW_SIZE = 26\n",
    "COL_SIZE = 13\n",
    "EPOCHS = 300\n",
    "CLASSES = 10 #[ 0, 1, 2, 3, 4, 5, 6, 7, 8, 9 ]\n",
    "MODEL_NAME = f\"HLP-{EPOCHS}-5\""
   ]
  },
  {
   "cell_type": "code",
   "execution_count": 3,
   "metadata": {
    "pycharm": {
     "name": "#%%\n"
    }
   },
   "outputs": [],
   "source": [
    "def prepareData():\n",
    "    train_data = np.load(TRAIN_DATA, allow_pickle=True)\n",
    "    validate_data = np.load(VALIDATE_DATA, allow_pickle=True)\n",
    "    np.random.shuffle(train_data)\n",
    "    np.random.shuffle(validate_data)\n",
    "     \n",
    "    X = []\n",
    "    y = []\n",
    "    test_x = []\n",
    "    test_y = []\n",
    "    \n",
    "    for img in train_data:\n",
    "        X.append(img[0])\n",
    "        y.append(to_categorical([img[1]], CLASSES)[0])\n",
    "        \n",
    "    for img in validate_data:\n",
    "        test_x.append(img[0])\n",
    "        test_y.append(to_categorical([img[1]], CLASSES)[0])\n",
    "        \n",
    "    X = np.array(X).reshape(-1, COL_SIZE, ROW_SIZE, 1)\n",
    "    test_x = np.array(test_x).reshape(-1, COL_SIZE, ROW_SIZE, 1)\n",
    "    return X, np.array(y), test_x, np.array(test_y)\n"
   ]
  },
  {
   "cell_type": "code",
   "execution_count": 4,
   "metadata": {
    "pycharm": {
     "name": "#%%\n"
    }
   },
   "outputs": [
    {
     "name": "stdout",
     "output_type": "stream",
     "text": [
      "WARNING:tensorflow:From C:\\VirtualEnv\\tcc-venv\\lib\\site-packages\\tflearn\\initializations.py:119: UniformUnitScaling.__init__ (from tensorflow.python.ops.init_ops) is deprecated and will be removed in a future version.\n",
      "Instructions for updating:\n",
      "Use tf.initializers.variance_scaling instead with distribution=uniform to get equivalent behavior.\n",
      "WARNING:tensorflow:From C:\\VirtualEnv\\tcc-venv\\lib\\site-packages\\tflearn\\objectives.py:66: calling reduce_sum_v1 (from tensorflow.python.ops.math_ops) with keep_dims is deprecated and will be removed in a future version.\n",
      "Instructions for updating:\n",
      "keep_dims is deprecated, use keepdims instead\n",
      "WARNING:tensorflow:From C:\\VirtualEnv\\tcc-venv\\lib\\site-packages\\tensorflow\\python\\ops\\math_ops.py:3066: to_int32 (from tensorflow.python.ops.math_ops) is deprecated and will be removed in a future version.\n",
      "Instructions for updating:\n",
      "Use tf.cast instead.\n"
     ]
    }
   ],
   "source": [
    "# TODO: Aumentar numero de epocas. algo entre 500 - 1000\n",
    "X, y, test_x, test_y = prepareData()\n",
    "X = X/255.0\n",
    "\n",
    "convnet = input_data(shape=[None, COL_SIZE, ROW_SIZE, 1], name='input')\n",
    "\n",
    "convnet = conv_2d(convnet, 128, 3, activation='relu')\n",
    "convnet = max_pool_2d(convnet, 2)\n",
    "\n",
    "convnet = conv_2d(convnet, 64, 3, activation='relu')\n",
    "convnet = max_pool_2d(convnet, 2)\n",
    "\n",
    "# convnet = conv_2d(convnet, 32, 3, activation='relu')\n",
    "# convnet = max_pool_2d(convnet, 2)\n",
    "\n",
    "convnet = fully_connected(convnet, 128, activation='relu')\n",
    "\n",
    "convnet = fully_connected(convnet, CLASSES, activation='softmax')\n",
    "\n",
    "optmizer = SGD(learning_rate=LR, decay_step=1e-3)\n",
    "convnet = regression(convnet, optimizer=optmizer, loss='categorical_crossentropy', name='targets')\n",
    "\n",
    "model = tflearn.DNN(convnet, tensorboard_dir=f\"../logs/hlp/{MODEL_NAME}-{strftime('%d-%m-%Y')}-{strftime('%H-%M-%S')}\")"
   ]
  },
  {
   "cell_type": "code",
   "execution_count": 5,
   "metadata": {
    "pycharm": {
     "name": "#%%\n"
    }
   },
   "outputs": [
    {
     "name": "stdout",
     "output_type": "stream",
     "text": [
      "Training Step: 23099  | total loss: \u001b[1m\u001b[32m2.20344\u001b[0m\u001b[0m | time: 0.463s\n",
      "| SGD | epoch: 300 | loss: 2.20344 - acc: 0.4267 -- iter: 4864/4875\n",
      "Training Step: 23100  | total loss: \u001b[1m\u001b[32m2.20190\u001b[0m\u001b[0m | time: 1.473s\n",
      "| SGD | epoch: 300 | loss: 2.20190 - acc: 0.4309 | val_loss: 11.97753 - val_acc: 0.4203 -- iter: 4875/4875\n",
      "--\n"
     ]
    }
   ],
   "source": [
    "model.fit({'input': X}, {'targets': y}, n_epoch=EPOCHS, validation_set=({'input': test_x}, {'targets': test_y}), \n",
    "    show_metric=True, run_id=MODEL_NAME)"
   ]
  },
  {
   "cell_type": "code",
   "execution_count": 6,
   "metadata": {
    "pycharm": {
     "name": "#%%\n"
    }
   },
   "outputs": [
    {
     "name": "stdout",
     "output_type": "stream",
     "text": [
      "INFO:tensorflow:C:\\Users\\Skzt-Desk\\PycharmProjects\\faculdade\\HolisticDataset\\HLP-300-5.tflearn is not in all_model_checkpoint_paths. Manually adding it.\n"
     ]
    }
   ],
   "source": [
    "model.save(f\"{MODEL_NAME}.tflearn\")"
   ]
  },
  {
   "cell_type": "code",
   "execution_count": 29,
   "metadata": {
    "pycharm": {
     "name": "#%%\n"
    }
   },
   "outputs": [
    {
     "name": "stdout",
     "output_type": "stream",
     "text": [
      "INFO:tensorflow:Restoring parameters from C:\\Users\\Skzt-Desk\\PycharmProjects\\faculdade\\HolisticDataset\\HLP-1000-2.model\n"
     ]
    },
    {
     "ename": "NotFoundError",
     "evalue": "Restoring from checkpoint failed. This is most likely due to a Variable name or other graph key that is missing from the checkpoint. Please ensure that you have not altered the graph expected based on the checkpoint. Original error:\n\nKey Conv2D_2/W not found in checkpoint\n\t [[node save_14/RestoreV2 (defined at C:\\VirtualEnv\\tcc-venv\\lib\\site-packages\\tflearn\\helpers\\trainer.py:147) ]]\n\nCaused by op 'save_14/RestoreV2', defined at:\n  File \"C:\\Users\\Skzt-Desk\\AppData\\Local\\Programs\\Python\\Python37\\lib\\runpy.py\", line 193, in _run_module_as_main\n    \"__main__\", mod_spec)\n  File \"C:\\Users\\Skzt-Desk\\AppData\\Local\\Programs\\Python\\Python37\\lib\\runpy.py\", line 85, in _run_code\n    exec(code, run_globals)\n  File \"C:\\VirtualEnv\\tcc-venv\\lib\\site-packages\\ipykernel_launcher.py\", line 16, in <module>\n    app.launch_new_instance()\n  File \"C:\\VirtualEnv\\tcc-venv\\lib\\site-packages\\traitlets\\config\\application.py\", line 658, in launch_instance\n    app.start()\n  File \"C:\\VirtualEnv\\tcc-venv\\lib\\site-packages\\ipykernel\\kernelapp.py\", line 505, in start\n    self.io_loop.start()\n  File \"C:\\VirtualEnv\\tcc-venv\\lib\\site-packages\\tornado\\platform\\asyncio.py\", line 148, in start\n    self.asyncio_loop.run_forever()\n  File \"C:\\Users\\Skzt-Desk\\AppData\\Local\\Programs\\Python\\Python37\\lib\\asyncio\\base_events.py\", line 539, in run_forever\n    self._run_once()\n  File \"C:\\Users\\Skzt-Desk\\AppData\\Local\\Programs\\Python\\Python37\\lib\\asyncio\\base_events.py\", line 1775, in _run_once\n    handle._run()\n  File \"C:\\Users\\Skzt-Desk\\AppData\\Local\\Programs\\Python\\Python37\\lib\\asyncio\\events.py\", line 88, in _run\n    self._context.run(self._callback, *self._args)\n  File \"C:\\VirtualEnv\\tcc-venv\\lib\\site-packages\\tornado\\ioloop.py\", line 690, in <lambda>\n    lambda f: self._run_callback(functools.partial(callback, future))\n  File \"C:\\VirtualEnv\\tcc-venv\\lib\\site-packages\\tornado\\ioloop.py\", line 743, in _run_callback\n    ret = callback()\n  File \"C:\\VirtualEnv\\tcc-venv\\lib\\site-packages\\tornado\\gen.py\", line 781, in inner\n    self.run()\n  File \"C:\\VirtualEnv\\tcc-venv\\lib\\site-packages\\tornado\\gen.py\", line 742, in run\n    yielded = self.gen.send(value)\n  File \"C:\\VirtualEnv\\tcc-venv\\lib\\site-packages\\ipykernel\\kernelbase.py\", line 365, in process_one\n    yield gen.maybe_future(dispatch(*args))\n  File \"C:\\VirtualEnv\\tcc-venv\\lib\\site-packages\\tornado\\gen.py\", line 209, in wrapper\n    yielded = next(result)\n  File \"C:\\VirtualEnv\\tcc-venv\\lib\\site-packages\\ipykernel\\kernelbase.py\", line 272, in dispatch_shell\n    yield gen.maybe_future(handler(stream, idents, msg))\n  File \"C:\\VirtualEnv\\tcc-venv\\lib\\site-packages\\tornado\\gen.py\", line 209, in wrapper\n    yielded = next(result)\n  File \"C:\\VirtualEnv\\tcc-venv\\lib\\site-packages\\ipykernel\\kernelbase.py\", line 542, in execute_request\n    user_expressions, allow_stdin,\n  File \"C:\\VirtualEnv\\tcc-venv\\lib\\site-packages\\tornado\\gen.py\", line 209, in wrapper\n    yielded = next(result)\n  File \"C:\\VirtualEnv\\tcc-venv\\lib\\site-packages\\ipykernel\\ipkernel.py\", line 294, in do_execute\n    res = shell.run_cell(code, store_history=store_history, silent=silent)\n  File \"C:\\VirtualEnv\\tcc-venv\\lib\\site-packages\\ipykernel\\zmqshell.py\", line 536, in run_cell\n    return super(ZMQInteractiveShell, self).run_cell(*args, **kwargs)\n  File \"C:\\VirtualEnv\\tcc-venv\\lib\\site-packages\\IPython\\core\\interactiveshell.py\", line 2848, in run_cell\n    raw_cell, store_history, silent, shell_futures)\n  File \"C:\\VirtualEnv\\tcc-venv\\lib\\site-packages\\IPython\\core\\interactiveshell.py\", line 2874, in _run_cell\n    return runner(coro)\n  File \"C:\\VirtualEnv\\tcc-venv\\lib\\site-packages\\IPython\\core\\async_helpers.py\", line 67, in _pseudo_sync_runner\n    coro.send(None)\n  File \"C:\\VirtualEnv\\tcc-venv\\lib\\site-packages\\IPython\\core\\interactiveshell.py\", line 3049, in run_cell_async\n    interactivity=interactivity, compiler=compiler, result=result)\n  File \"C:\\VirtualEnv\\tcc-venv\\lib\\site-packages\\IPython\\core\\interactiveshell.py\", line 3214, in run_ast_nodes\n    if (yield from self.run_code(code, result)):\n  File \"C:\\VirtualEnv\\tcc-venv\\lib\\site-packages\\IPython\\core\\interactiveshell.py\", line 3296, in run_code\n    exec(code_obj, self.user_global_ns, self.user_ns)\n  File \"<ipython-input-22-433424a87bf9>\", line 23, in <module>\n    model = tflearn.DNN(convnet, tensorboard_dir=f\"../logs/hlp/{MODEL_NAME}-{strftime('%d-%m-%Y')}-{strftime('%H-%M-%S')}\")\n  File \"C:\\VirtualEnv\\tcc-venv\\lib\\site-packages\\tflearn\\models\\dnn.py\", line 65, in __init__\n    best_val_accuracy=best_val_accuracy)\n  File \"C:\\VirtualEnv\\tcc-venv\\lib\\site-packages\\tflearn\\helpers\\trainer.py\", line 147, in __init__\n    allow_empty=True)\n  File \"C:\\VirtualEnv\\tcc-venv\\lib\\site-packages\\tensorflow\\python\\training\\saver.py\", line 832, in __init__\n    self.build()\n  File \"C:\\VirtualEnv\\tcc-venv\\lib\\site-packages\\tensorflow\\python\\training\\saver.py\", line 844, in build\n    self._build(self._filename, build_save=True, build_restore=True)\n  File \"C:\\VirtualEnv\\tcc-venv\\lib\\site-packages\\tensorflow\\python\\training\\saver.py\", line 881, in _build\n    build_save=build_save, build_restore=build_restore)\n  File \"C:\\VirtualEnv\\tcc-venv\\lib\\site-packages\\tensorflow\\python\\training\\saver.py\", line 513, in _build_internal\n    restore_sequentially, reshape)\n  File \"C:\\VirtualEnv\\tcc-venv\\lib\\site-packages\\tensorflow\\python\\training\\saver.py\", line 332, in _AddRestoreOps\n    restore_sequentially)\n  File \"C:\\VirtualEnv\\tcc-venv\\lib\\site-packages\\tensorflow\\python\\training\\saver.py\", line 580, in bulk_restore\n    return io_ops.restore_v2(filename_tensor, names, slices, dtypes)\n  File \"C:\\VirtualEnv\\tcc-venv\\lib\\site-packages\\tensorflow\\python\\ops\\gen_io_ops.py\", line 1656, in restore_v2\n    name=name)\n  File \"C:\\VirtualEnv\\tcc-venv\\lib\\site-packages\\tensorflow\\python\\framework\\op_def_library.py\", line 788, in _apply_op_helper\n    op_def=op_def)\n  File \"C:\\VirtualEnv\\tcc-venv\\lib\\site-packages\\tensorflow\\python\\util\\deprecation.py\", line 507, in new_func\n    return func(*args, **kwargs)\n  File \"C:\\VirtualEnv\\tcc-venv\\lib\\site-packages\\tensorflow\\python\\framework\\ops.py\", line 3300, in create_op\n    op_def=op_def)\n  File \"C:\\VirtualEnv\\tcc-venv\\lib\\site-packages\\tensorflow\\python\\framework\\ops.py\", line 1801, in __init__\n    self._traceback = tf_stack.extract_stack()\n\nNotFoundError (see above for traceback): Restoring from checkpoint failed. This is most likely due to a Variable name or other graph key that is missing from the checkpoint. Please ensure that you have not altered the graph expected based on the checkpoint. Original error:\n\nKey Conv2D_2/W not found in checkpoint\n\t [[node save_14/RestoreV2 (defined at C:\\VirtualEnv\\tcc-venv\\lib\\site-packages\\tflearn\\helpers\\trainer.py:147) ]]\n",
     "output_type": "error",
     "traceback": [
      "\u001b[1;31m---------------------------------------------------------------------------\u001b[0m",
      "\u001b[1;31mNotFoundError\u001b[0m                             Traceback (most recent call last)",
      "\u001b[1;32mC:\\VirtualEnv\\tcc-venv\\lib\\site-packages\\tensorflow\\python\\client\\session.py\u001b[0m in \u001b[0;36m_do_call\u001b[1;34m(self, fn, *args)\u001b[0m\n\u001b[0;32m   1333\u001b[0m     \u001b[1;32mtry\u001b[0m\u001b[1;33m:\u001b[0m\u001b[1;33m\u001b[0m\u001b[1;33m\u001b[0m\u001b[0m\n\u001b[1;32m-> 1334\u001b[1;33m       \u001b[1;32mreturn\u001b[0m \u001b[0mfn\u001b[0m\u001b[1;33m(\u001b[0m\u001b[1;33m*\u001b[0m\u001b[0margs\u001b[0m\u001b[1;33m)\u001b[0m\u001b[1;33m\u001b[0m\u001b[1;33m\u001b[0m\u001b[0m\n\u001b[0m\u001b[0;32m   1335\u001b[0m     \u001b[1;32mexcept\u001b[0m \u001b[0merrors\u001b[0m\u001b[1;33m.\u001b[0m\u001b[0mOpError\u001b[0m \u001b[1;32mas\u001b[0m \u001b[0me\u001b[0m\u001b[1;33m:\u001b[0m\u001b[1;33m\u001b[0m\u001b[1;33m\u001b[0m\u001b[0m\n",
      "\u001b[1;32mC:\\VirtualEnv\\tcc-venv\\lib\\site-packages\\tensorflow\\python\\client\\session.py\u001b[0m in \u001b[0;36m_run_fn\u001b[1;34m(feed_dict, fetch_list, target_list, options, run_metadata)\u001b[0m\n\u001b[0;32m   1318\u001b[0m       return self._call_tf_sessionrun(\n\u001b[1;32m-> 1319\u001b[1;33m           options, feed_dict, fetch_list, target_list, run_metadata)\n\u001b[0m\u001b[0;32m   1320\u001b[0m \u001b[1;33m\u001b[0m\u001b[0m\n",
      "\u001b[1;32mC:\\VirtualEnv\\tcc-venv\\lib\\site-packages\\tensorflow\\python\\client\\session.py\u001b[0m in \u001b[0;36m_call_tf_sessionrun\u001b[1;34m(self, options, feed_dict, fetch_list, target_list, run_metadata)\u001b[0m\n\u001b[0;32m   1406\u001b[0m         \u001b[0mself\u001b[0m\u001b[1;33m.\u001b[0m\u001b[0m_session\u001b[0m\u001b[1;33m,\u001b[0m \u001b[0moptions\u001b[0m\u001b[1;33m,\u001b[0m \u001b[0mfeed_dict\u001b[0m\u001b[1;33m,\u001b[0m \u001b[0mfetch_list\u001b[0m\u001b[1;33m,\u001b[0m \u001b[0mtarget_list\u001b[0m\u001b[1;33m,\u001b[0m\u001b[1;33m\u001b[0m\u001b[1;33m\u001b[0m\u001b[0m\n\u001b[1;32m-> 1407\u001b[1;33m         run_metadata)\n\u001b[0m\u001b[0;32m   1408\u001b[0m \u001b[1;33m\u001b[0m\u001b[0m\n",
      "\u001b[1;31mNotFoundError\u001b[0m: Key Conv2D_2/W not found in checkpoint\n\t [[{{node save_14/RestoreV2}}]]",
      "\nDuring handling of the above exception, another exception occurred:\n",
      "\u001b[1;31mNotFoundError\u001b[0m                             Traceback (most recent call last)",
      "\u001b[1;32mC:\\VirtualEnv\\tcc-venv\\lib\\site-packages\\tensorflow\\python\\training\\saver.py\u001b[0m in \u001b[0;36mrestore\u001b[1;34m(self, sess, save_path)\u001b[0m\n\u001b[0;32m   1275\u001b[0m         sess.run(self.saver_def.restore_op_name,\n\u001b[1;32m-> 1276\u001b[1;33m                  {self.saver_def.filename_tensor_name: save_path})\n\u001b[0m\u001b[0;32m   1277\u001b[0m     \u001b[1;32mexcept\u001b[0m \u001b[0merrors\u001b[0m\u001b[1;33m.\u001b[0m\u001b[0mNotFoundError\u001b[0m \u001b[1;32mas\u001b[0m \u001b[0merr\u001b[0m\u001b[1;33m:\u001b[0m\u001b[1;33m\u001b[0m\u001b[1;33m\u001b[0m\u001b[0m\n",
      "\u001b[1;32mC:\\VirtualEnv\\tcc-venv\\lib\\site-packages\\tensorflow\\python\\client\\session.py\u001b[0m in \u001b[0;36mrun\u001b[1;34m(self, fetches, feed_dict, options, run_metadata)\u001b[0m\n\u001b[0;32m    928\u001b[0m       result = self._run(None, fetches, feed_dict, options_ptr,\n\u001b[1;32m--> 929\u001b[1;33m                          run_metadata_ptr)\n\u001b[0m\u001b[0;32m    930\u001b[0m       \u001b[1;32mif\u001b[0m \u001b[0mrun_metadata\u001b[0m\u001b[1;33m:\u001b[0m\u001b[1;33m\u001b[0m\u001b[1;33m\u001b[0m\u001b[0m\n",
      "\u001b[1;32mC:\\VirtualEnv\\tcc-venv\\lib\\site-packages\\tensorflow\\python\\client\\session.py\u001b[0m in \u001b[0;36m_run\u001b[1;34m(self, handle, fetches, feed_dict, options, run_metadata)\u001b[0m\n\u001b[0;32m   1151\u001b[0m       results = self._do_run(handle, final_targets, final_fetches,\n\u001b[1;32m-> 1152\u001b[1;33m                              feed_dict_tensor, options, run_metadata)\n\u001b[0m\u001b[0;32m   1153\u001b[0m     \u001b[1;32melse\u001b[0m\u001b[1;33m:\u001b[0m\u001b[1;33m\u001b[0m\u001b[1;33m\u001b[0m\u001b[0m\n",
      "\u001b[1;32mC:\\VirtualEnv\\tcc-venv\\lib\\site-packages\\tensorflow\\python\\client\\session.py\u001b[0m in \u001b[0;36m_do_run\u001b[1;34m(self, handle, target_list, fetch_list, feed_dict, options, run_metadata)\u001b[0m\n\u001b[0;32m   1327\u001b[0m       return self._do_call(_run_fn, feeds, fetches, targets, options,\n\u001b[1;32m-> 1328\u001b[1;33m                            run_metadata)\n\u001b[0m\u001b[0;32m   1329\u001b[0m     \u001b[1;32melse\u001b[0m\u001b[1;33m:\u001b[0m\u001b[1;33m\u001b[0m\u001b[1;33m\u001b[0m\u001b[0m\n",
      "\u001b[1;32mC:\\VirtualEnv\\tcc-venv\\lib\\site-packages\\tensorflow\\python\\client\\session.py\u001b[0m in \u001b[0;36m_do_call\u001b[1;34m(self, fn, *args)\u001b[0m\n\u001b[0;32m   1347\u001b[0m       \u001b[0mmessage\u001b[0m \u001b[1;33m=\u001b[0m \u001b[0merror_interpolation\u001b[0m\u001b[1;33m.\u001b[0m\u001b[0minterpolate\u001b[0m\u001b[1;33m(\u001b[0m\u001b[0mmessage\u001b[0m\u001b[1;33m,\u001b[0m \u001b[0mself\u001b[0m\u001b[1;33m.\u001b[0m\u001b[0m_graph\u001b[0m\u001b[1;33m)\u001b[0m\u001b[1;33m\u001b[0m\u001b[1;33m\u001b[0m\u001b[0m\n\u001b[1;32m-> 1348\u001b[1;33m       \u001b[1;32mraise\u001b[0m \u001b[0mtype\u001b[0m\u001b[1;33m(\u001b[0m\u001b[0me\u001b[0m\u001b[1;33m)\u001b[0m\u001b[1;33m(\u001b[0m\u001b[0mnode_def\u001b[0m\u001b[1;33m,\u001b[0m \u001b[0mop\u001b[0m\u001b[1;33m,\u001b[0m \u001b[0mmessage\u001b[0m\u001b[1;33m)\u001b[0m\u001b[1;33m\u001b[0m\u001b[1;33m\u001b[0m\u001b[0m\n\u001b[0m\u001b[0;32m   1349\u001b[0m \u001b[1;33m\u001b[0m\u001b[0m\n",
      "\u001b[1;31mNotFoundError\u001b[0m: Key Conv2D_2/W not found in checkpoint\n\t [[node save_14/RestoreV2 (defined at C:\\VirtualEnv\\tcc-venv\\lib\\site-packages\\tflearn\\helpers\\trainer.py:147) ]]\n\nCaused by op 'save_14/RestoreV2', defined at:\n  File \"C:\\Users\\Skzt-Desk\\AppData\\Local\\Programs\\Python\\Python37\\lib\\runpy.py\", line 193, in _run_module_as_main\n    \"__main__\", mod_spec)\n  File \"C:\\Users\\Skzt-Desk\\AppData\\Local\\Programs\\Python\\Python37\\lib\\runpy.py\", line 85, in _run_code\n    exec(code, run_globals)\n  File \"C:\\VirtualEnv\\tcc-venv\\lib\\site-packages\\ipykernel_launcher.py\", line 16, in <module>\n    app.launch_new_instance()\n  File \"C:\\VirtualEnv\\tcc-venv\\lib\\site-packages\\traitlets\\config\\application.py\", line 658, in launch_instance\n    app.start()\n  File \"C:\\VirtualEnv\\tcc-venv\\lib\\site-packages\\ipykernel\\kernelapp.py\", line 505, in start\n    self.io_loop.start()\n  File \"C:\\VirtualEnv\\tcc-venv\\lib\\site-packages\\tornado\\platform\\asyncio.py\", line 148, in start\n    self.asyncio_loop.run_forever()\n  File \"C:\\Users\\Skzt-Desk\\AppData\\Local\\Programs\\Python\\Python37\\lib\\asyncio\\base_events.py\", line 539, in run_forever\n    self._run_once()\n  File \"C:\\Users\\Skzt-Desk\\AppData\\Local\\Programs\\Python\\Python37\\lib\\asyncio\\base_events.py\", line 1775, in _run_once\n    handle._run()\n  File \"C:\\Users\\Skzt-Desk\\AppData\\Local\\Programs\\Python\\Python37\\lib\\asyncio\\events.py\", line 88, in _run\n    self._context.run(self._callback, *self._args)\n  File \"C:\\VirtualEnv\\tcc-venv\\lib\\site-packages\\tornado\\ioloop.py\", line 690, in <lambda>\n    lambda f: self._run_callback(functools.partial(callback, future))\n  File \"C:\\VirtualEnv\\tcc-venv\\lib\\site-packages\\tornado\\ioloop.py\", line 743, in _run_callback\n    ret = callback()\n  File \"C:\\VirtualEnv\\tcc-venv\\lib\\site-packages\\tornado\\gen.py\", line 781, in inner\n    self.run()\n  File \"C:\\VirtualEnv\\tcc-venv\\lib\\site-packages\\tornado\\gen.py\", line 742, in run\n    yielded = self.gen.send(value)\n  File \"C:\\VirtualEnv\\tcc-venv\\lib\\site-packages\\ipykernel\\kernelbase.py\", line 365, in process_one\n    yield gen.maybe_future(dispatch(*args))\n  File \"C:\\VirtualEnv\\tcc-venv\\lib\\site-packages\\tornado\\gen.py\", line 209, in wrapper\n    yielded = next(result)\n  File \"C:\\VirtualEnv\\tcc-venv\\lib\\site-packages\\ipykernel\\kernelbase.py\", line 272, in dispatch_shell\n    yield gen.maybe_future(handler(stream, idents, msg))\n  File \"C:\\VirtualEnv\\tcc-venv\\lib\\site-packages\\tornado\\gen.py\", line 209, in wrapper\n    yielded = next(result)\n  File \"C:\\VirtualEnv\\tcc-venv\\lib\\site-packages\\ipykernel\\kernelbase.py\", line 542, in execute_request\n    user_expressions, allow_stdin,\n  File \"C:\\VirtualEnv\\tcc-venv\\lib\\site-packages\\tornado\\gen.py\", line 209, in wrapper\n    yielded = next(result)\n  File \"C:\\VirtualEnv\\tcc-venv\\lib\\site-packages\\ipykernel\\ipkernel.py\", line 294, in do_execute\n    res = shell.run_cell(code, store_history=store_history, silent=silent)\n  File \"C:\\VirtualEnv\\tcc-venv\\lib\\site-packages\\ipykernel\\zmqshell.py\", line 536, in run_cell\n    return super(ZMQInteractiveShell, self).run_cell(*args, **kwargs)\n  File \"C:\\VirtualEnv\\tcc-venv\\lib\\site-packages\\IPython\\core\\interactiveshell.py\", line 2848, in run_cell\n    raw_cell, store_history, silent, shell_futures)\n  File \"C:\\VirtualEnv\\tcc-venv\\lib\\site-packages\\IPython\\core\\interactiveshell.py\", line 2874, in _run_cell\n    return runner(coro)\n  File \"C:\\VirtualEnv\\tcc-venv\\lib\\site-packages\\IPython\\core\\async_helpers.py\", line 67, in _pseudo_sync_runner\n    coro.send(None)\n  File \"C:\\VirtualEnv\\tcc-venv\\lib\\site-packages\\IPython\\core\\interactiveshell.py\", line 3049, in run_cell_async\n    interactivity=interactivity, compiler=compiler, result=result)\n  File \"C:\\VirtualEnv\\tcc-venv\\lib\\site-packages\\IPython\\core\\interactiveshell.py\", line 3214, in run_ast_nodes\n    if (yield from self.run_code(code, result)):\n  File \"C:\\VirtualEnv\\tcc-venv\\lib\\site-packages\\IPython\\core\\interactiveshell.py\", line 3296, in run_code\n    exec(code_obj, self.user_global_ns, self.user_ns)\n  File \"<ipython-input-22-433424a87bf9>\", line 23, in <module>\n    model = tflearn.DNN(convnet, tensorboard_dir=f\"../logs/hlp/{MODEL_NAME}-{strftime('%d-%m-%Y')}-{strftime('%H-%M-%S')}\")\n  File \"C:\\VirtualEnv\\tcc-venv\\lib\\site-packages\\tflearn\\models\\dnn.py\", line 65, in __init__\n    best_val_accuracy=best_val_accuracy)\n  File \"C:\\VirtualEnv\\tcc-venv\\lib\\site-packages\\tflearn\\helpers\\trainer.py\", line 147, in __init__\n    allow_empty=True)\n  File \"C:\\VirtualEnv\\tcc-venv\\lib\\site-packages\\tensorflow\\python\\training\\saver.py\", line 832, in __init__\n    self.build()\n  File \"C:\\VirtualEnv\\tcc-venv\\lib\\site-packages\\tensorflow\\python\\training\\saver.py\", line 844, in build\n    self._build(self._filename, build_save=True, build_restore=True)\n  File \"C:\\VirtualEnv\\tcc-venv\\lib\\site-packages\\tensorflow\\python\\training\\saver.py\", line 881, in _build\n    build_save=build_save, build_restore=build_restore)\n  File \"C:\\VirtualEnv\\tcc-venv\\lib\\site-packages\\tensorflow\\python\\training\\saver.py\", line 513, in _build_internal\n    restore_sequentially, reshape)\n  File \"C:\\VirtualEnv\\tcc-venv\\lib\\site-packages\\tensorflow\\python\\training\\saver.py\", line 332, in _AddRestoreOps\n    restore_sequentially)\n  File \"C:\\VirtualEnv\\tcc-venv\\lib\\site-packages\\tensorflow\\python\\training\\saver.py\", line 580, in bulk_restore\n    return io_ops.restore_v2(filename_tensor, names, slices, dtypes)\n  File \"C:\\VirtualEnv\\tcc-venv\\lib\\site-packages\\tensorflow\\python\\ops\\gen_io_ops.py\", line 1656, in restore_v2\n    name=name)\n  File \"C:\\VirtualEnv\\tcc-venv\\lib\\site-packages\\tensorflow\\python\\framework\\op_def_library.py\", line 788, in _apply_op_helper\n    op_def=op_def)\n  File \"C:\\VirtualEnv\\tcc-venv\\lib\\site-packages\\tensorflow\\python\\util\\deprecation.py\", line 507, in new_func\n    return func(*args, **kwargs)\n  File \"C:\\VirtualEnv\\tcc-venv\\lib\\site-packages\\tensorflow\\python\\framework\\ops.py\", line 3300, in create_op\n    op_def=op_def)\n  File \"C:\\VirtualEnv\\tcc-venv\\lib\\site-packages\\tensorflow\\python\\framework\\ops.py\", line 1801, in __init__\n    self._traceback = tf_stack.extract_stack()\n\nNotFoundError (see above for traceback): Key Conv2D_2/W not found in checkpoint\n\t [[node save_14/RestoreV2 (defined at C:\\VirtualEnv\\tcc-venv\\lib\\site-packages\\tflearn\\helpers\\trainer.py:147) ]]\n",
      "\nDuring handling of the above exception, another exception occurred:\n",
      "\u001b[1;31mNotFoundError\u001b[0m                             Traceback (most recent call last)",
      "\u001b[1;32mC:\\VirtualEnv\\tcc-venv\\lib\\site-packages\\tensorflow\\python\\training\\saver.py\u001b[0m in \u001b[0;36mrestore\u001b[1;34m(self, sess, save_path)\u001b[0m\n\u001b[0;32m   1285\u001b[0m       \u001b[1;32mtry\u001b[0m\u001b[1;33m:\u001b[0m\u001b[1;33m\u001b[0m\u001b[1;33m\u001b[0m\u001b[0m\n\u001b[1;32m-> 1286\u001b[1;33m         \u001b[0mnames_to_keys\u001b[0m \u001b[1;33m=\u001b[0m \u001b[0mobject_graph_key_mapping\u001b[0m\u001b[1;33m(\u001b[0m\u001b[0msave_path\u001b[0m\u001b[1;33m)\u001b[0m\u001b[1;33m\u001b[0m\u001b[1;33m\u001b[0m\u001b[0m\n\u001b[0m\u001b[0;32m   1287\u001b[0m       \u001b[1;32mexcept\u001b[0m \u001b[0merrors\u001b[0m\u001b[1;33m.\u001b[0m\u001b[0mNotFoundError\u001b[0m\u001b[1;33m:\u001b[0m\u001b[1;33m\u001b[0m\u001b[1;33m\u001b[0m\u001b[0m\n",
      "\u001b[1;32mC:\\VirtualEnv\\tcc-venv\\lib\\site-packages\\tensorflow\\python\\training\\saver.py\u001b[0m in \u001b[0;36mobject_graph_key_mapping\u001b[1;34m(checkpoint_path)\u001b[0m\n\u001b[0;32m   1590\u001b[0m   object_graph_string = reader.get_tensor(\n\u001b[1;32m-> 1591\u001b[1;33m       checkpointable.OBJECT_GRAPH_PROTO_KEY)\n\u001b[0m\u001b[0;32m   1592\u001b[0m   object_graph_proto = (\n",
      "\u001b[1;32mC:\\VirtualEnv\\tcc-venv\\lib\\site-packages\\tensorflow\\python\\pywrap_tensorflow_internal.py\u001b[0m in \u001b[0;36mget_tensor\u001b[1;34m(self, tensor_str)\u001b[0m\n\u001b[0;32m    369\u001b[0m         return CheckpointReader_GetTensor(self, compat.as_bytes(tensor_str),\n\u001b[1;32m--> 370\u001b[1;33m                                           status)\n\u001b[0m\u001b[0;32m    371\u001b[0m \u001b[1;33m\u001b[0m\u001b[0m\n",
      "\u001b[1;32mC:\\VirtualEnv\\tcc-venv\\lib\\site-packages\\tensorflow\\python\\framework\\errors_impl.py\u001b[0m in \u001b[0;36m__exit__\u001b[1;34m(self, type_arg, value_arg, traceback_arg)\u001b[0m\n\u001b[0;32m    527\u001b[0m             \u001b[0mcompat\u001b[0m\u001b[1;33m.\u001b[0m\u001b[0mas_text\u001b[0m\u001b[1;33m(\u001b[0m\u001b[0mc_api\u001b[0m\u001b[1;33m.\u001b[0m\u001b[0mTF_Message\u001b[0m\u001b[1;33m(\u001b[0m\u001b[0mself\u001b[0m\u001b[1;33m.\u001b[0m\u001b[0mstatus\u001b[0m\u001b[1;33m.\u001b[0m\u001b[0mstatus\u001b[0m\u001b[1;33m)\u001b[0m\u001b[1;33m)\u001b[0m\u001b[1;33m,\u001b[0m\u001b[1;33m\u001b[0m\u001b[1;33m\u001b[0m\u001b[0m\n\u001b[1;32m--> 528\u001b[1;33m             c_api.TF_GetCode(self.status.status))\n\u001b[0m\u001b[0;32m    529\u001b[0m     \u001b[1;31m# Delete the underlying status object from memory otherwise it stays alive\u001b[0m\u001b[1;33m\u001b[0m\u001b[1;33m\u001b[0m\u001b[1;33m\u001b[0m\u001b[0m\n",
      "\u001b[1;31mNotFoundError\u001b[0m: Key _CHECKPOINTABLE_OBJECT_GRAPH not found in checkpoint",
      "\nDuring handling of the above exception, another exception occurred:\n",
      "\u001b[1;31mNotFoundError\u001b[0m                             Traceback (most recent call last)",
      "\u001b[1;32m<ipython-input-29-38dfb7f8f954>\u001b[0m in \u001b[0;36m<module>\u001b[1;34m\u001b[0m\n\u001b[1;32m----> 1\u001b[1;33m \u001b[0mmodel\u001b[0m \u001b[1;33m=\u001b[0m \u001b[0mmodel\u001b[0m\u001b[1;33m.\u001b[0m\u001b[0mload\u001b[0m\u001b[1;33m(\u001b[0m\u001b[1;34mf\"{MODEL_NAME}.model\"\u001b[0m\u001b[1;33m)\u001b[0m\u001b[1;33m\u001b[0m\u001b[1;33m\u001b[0m\u001b[0m\n\u001b[0m",
      "\u001b[1;32mC:\\VirtualEnv\\tcc-venv\\lib\\site-packages\\tflearn\\models\\dnn.py\u001b[0m in \u001b[0;36mload\u001b[1;34m(self, model_file, weights_only, **optargs)\u001b[0m\n\u001b[0;32m    306\u001b[0m                      \u001b[0mcreated\u001b[0m \u001b[1;32mfor\u001b[0m \u001b[0mthe\u001b[0m \u001b[0mrestored\u001b[0m \u001b[0mvariables\u001b[0m\u001b[1;33m.\u001b[0m\u001b[1;33m\u001b[0m\u001b[1;33m\u001b[0m\u001b[0m\n\u001b[0;32m    307\u001b[0m         \"\"\"\n\u001b[1;32m--> 308\u001b[1;33m         \u001b[0mself\u001b[0m\u001b[1;33m.\u001b[0m\u001b[0mtrainer\u001b[0m\u001b[1;33m.\u001b[0m\u001b[0mrestore\u001b[0m\u001b[1;33m(\u001b[0m\u001b[0mmodel_file\u001b[0m\u001b[1;33m,\u001b[0m \u001b[0mweights_only\u001b[0m\u001b[1;33m,\u001b[0m \u001b[1;33m**\u001b[0m\u001b[0moptargs\u001b[0m\u001b[1;33m)\u001b[0m\u001b[1;33m\u001b[0m\u001b[1;33m\u001b[0m\u001b[0m\n\u001b[0m\u001b[0;32m    309\u001b[0m         \u001b[0mself\u001b[0m\u001b[1;33m.\u001b[0m\u001b[0msession\u001b[0m \u001b[1;33m=\u001b[0m \u001b[0mself\u001b[0m\u001b[1;33m.\u001b[0m\u001b[0mtrainer\u001b[0m\u001b[1;33m.\u001b[0m\u001b[0msession\u001b[0m\u001b[1;33m\u001b[0m\u001b[1;33m\u001b[0m\u001b[0m\n\u001b[0;32m    310\u001b[0m         self.predictor = Evaluator([self.net],\n",
      "\u001b[1;32mC:\\VirtualEnv\\tcc-venv\\lib\\site-packages\\tflearn\\helpers\\trainer.py\u001b[0m in \u001b[0;36mrestore\u001b[1;34m(self, model_file, trainable_variable_only, variable_name_map, scope_for_restore, create_new_session, verbose)\u001b[0m\n\u001b[0;32m    488\u001b[0m             \u001b[0mrestorer\u001b[0m\u001b[1;33m.\u001b[0m\u001b[0mrestore\u001b[0m\u001b[1;33m(\u001b[0m\u001b[0mself\u001b[0m\u001b[1;33m.\u001b[0m\u001b[0msession\u001b[0m\u001b[1;33m,\u001b[0m \u001b[0mmodel_file\u001b[0m\u001b[1;33m)\u001b[0m\u001b[1;33m\u001b[0m\u001b[1;33m\u001b[0m\u001b[0m\n\u001b[0;32m    489\u001b[0m         \u001b[1;32melif\u001b[0m \u001b[1;32mnot\u001b[0m \u001b[0mtrainable_variable_only\u001b[0m\u001b[1;33m:\u001b[0m\u001b[1;33m\u001b[0m\u001b[1;33m\u001b[0m\u001b[0m\n\u001b[1;32m--> 490\u001b[1;33m             \u001b[0mself\u001b[0m\u001b[1;33m.\u001b[0m\u001b[0mrestorer\u001b[0m\u001b[1;33m.\u001b[0m\u001b[0mrestore\u001b[0m\u001b[1;33m(\u001b[0m\u001b[0mself\u001b[0m\u001b[1;33m.\u001b[0m\u001b[0msession\u001b[0m\u001b[1;33m,\u001b[0m \u001b[0mmodel_file\u001b[0m\u001b[1;33m)\u001b[0m\u001b[1;33m\u001b[0m\u001b[1;33m\u001b[0m\u001b[0m\n\u001b[0m\u001b[0;32m    491\u001b[0m         \u001b[1;32melse\u001b[0m\u001b[1;33m:\u001b[0m\u001b[1;33m\u001b[0m\u001b[1;33m\u001b[0m\u001b[0m\n\u001b[0;32m    492\u001b[0m             \u001b[0mself\u001b[0m\u001b[1;33m.\u001b[0m\u001b[0mrestorer_trainvars\u001b[0m\u001b[1;33m.\u001b[0m\u001b[0mrestore\u001b[0m\u001b[1;33m(\u001b[0m\u001b[0mself\u001b[0m\u001b[1;33m.\u001b[0m\u001b[0msession\u001b[0m\u001b[1;33m,\u001b[0m \u001b[0mmodel_file\u001b[0m\u001b[1;33m)\u001b[0m\u001b[1;33m\u001b[0m\u001b[1;33m\u001b[0m\u001b[0m\n",
      "\u001b[1;32mC:\\VirtualEnv\\tcc-venv\\lib\\site-packages\\tensorflow\\python\\training\\saver.py\u001b[0m in \u001b[0;36mrestore\u001b[1;34m(self, sess, save_path)\u001b[0m\n\u001b[0;32m   1290\u001b[0m         \u001b[1;31m# a helpful message (b/110263146)\u001b[0m\u001b[1;33m\u001b[0m\u001b[1;33m\u001b[0m\u001b[1;33m\u001b[0m\u001b[0m\n\u001b[0;32m   1291\u001b[0m         raise _wrap_restore_error_with_msg(\n\u001b[1;32m-> 1292\u001b[1;33m             err, \"a Variable name or other graph key that is missing\")\n\u001b[0m\u001b[0;32m   1293\u001b[0m \u001b[1;33m\u001b[0m\u001b[0m\n\u001b[0;32m   1294\u001b[0m       \u001b[1;31m# This is an object-based checkpoint. We'll print a warning and then do\u001b[0m\u001b[1;33m\u001b[0m\u001b[1;33m\u001b[0m\u001b[1;33m\u001b[0m\u001b[0m\n",
      "\u001b[1;31mNotFoundError\u001b[0m: Restoring from checkpoint failed. This is most likely due to a Variable name or other graph key that is missing from the checkpoint. Please ensure that you have not altered the graph expected based on the checkpoint. Original error:\n\nKey Conv2D_2/W not found in checkpoint\n\t [[node save_14/RestoreV2 (defined at C:\\VirtualEnv\\tcc-venv\\lib\\site-packages\\tflearn\\helpers\\trainer.py:147) ]]\n\nCaused by op 'save_14/RestoreV2', defined at:\n  File \"C:\\Users\\Skzt-Desk\\AppData\\Local\\Programs\\Python\\Python37\\lib\\runpy.py\", line 193, in _run_module_as_main\n    \"__main__\", mod_spec)\n  File \"C:\\Users\\Skzt-Desk\\AppData\\Local\\Programs\\Python\\Python37\\lib\\runpy.py\", line 85, in _run_code\n    exec(code, run_globals)\n  File \"C:\\VirtualEnv\\tcc-venv\\lib\\site-packages\\ipykernel_launcher.py\", line 16, in <module>\n    app.launch_new_instance()\n  File \"C:\\VirtualEnv\\tcc-venv\\lib\\site-packages\\traitlets\\config\\application.py\", line 658, in launch_instance\n    app.start()\n  File \"C:\\VirtualEnv\\tcc-venv\\lib\\site-packages\\ipykernel\\kernelapp.py\", line 505, in start\n    self.io_loop.start()\n  File \"C:\\VirtualEnv\\tcc-venv\\lib\\site-packages\\tornado\\platform\\asyncio.py\", line 148, in start\n    self.asyncio_loop.run_forever()\n  File \"C:\\Users\\Skzt-Desk\\AppData\\Local\\Programs\\Python\\Python37\\lib\\asyncio\\base_events.py\", line 539, in run_forever\n    self._run_once()\n  File \"C:\\Users\\Skzt-Desk\\AppData\\Local\\Programs\\Python\\Python37\\lib\\asyncio\\base_events.py\", line 1775, in _run_once\n    handle._run()\n  File \"C:\\Users\\Skzt-Desk\\AppData\\Local\\Programs\\Python\\Python37\\lib\\asyncio\\events.py\", line 88, in _run\n    self._context.run(self._callback, *self._args)\n  File \"C:\\VirtualEnv\\tcc-venv\\lib\\site-packages\\tornado\\ioloop.py\", line 690, in <lambda>\n    lambda f: self._run_callback(functools.partial(callback, future))\n  File \"C:\\VirtualEnv\\tcc-venv\\lib\\site-packages\\tornado\\ioloop.py\", line 743, in _run_callback\n    ret = callback()\n  File \"C:\\VirtualEnv\\tcc-venv\\lib\\site-packages\\tornado\\gen.py\", line 781, in inner\n    self.run()\n  File \"C:\\VirtualEnv\\tcc-venv\\lib\\site-packages\\tornado\\gen.py\", line 742, in run\n    yielded = self.gen.send(value)\n  File \"C:\\VirtualEnv\\tcc-venv\\lib\\site-packages\\ipykernel\\kernelbase.py\", line 365, in process_one\n    yield gen.maybe_future(dispatch(*args))\n  File \"C:\\VirtualEnv\\tcc-venv\\lib\\site-packages\\tornado\\gen.py\", line 209, in wrapper\n    yielded = next(result)\n  File \"C:\\VirtualEnv\\tcc-venv\\lib\\site-packages\\ipykernel\\kernelbase.py\", line 272, in dispatch_shell\n    yield gen.maybe_future(handler(stream, idents, msg))\n  File \"C:\\VirtualEnv\\tcc-venv\\lib\\site-packages\\tornado\\gen.py\", line 209, in wrapper\n    yielded = next(result)\n  File \"C:\\VirtualEnv\\tcc-venv\\lib\\site-packages\\ipykernel\\kernelbase.py\", line 542, in execute_request\n    user_expressions, allow_stdin,\n  File \"C:\\VirtualEnv\\tcc-venv\\lib\\site-packages\\tornado\\gen.py\", line 209, in wrapper\n    yielded = next(result)\n  File \"C:\\VirtualEnv\\tcc-venv\\lib\\site-packages\\ipykernel\\ipkernel.py\", line 294, in do_execute\n    res = shell.run_cell(code, store_history=store_history, silent=silent)\n  File \"C:\\VirtualEnv\\tcc-venv\\lib\\site-packages\\ipykernel\\zmqshell.py\", line 536, in run_cell\n    return super(ZMQInteractiveShell, self).run_cell(*args, **kwargs)\n  File \"C:\\VirtualEnv\\tcc-venv\\lib\\site-packages\\IPython\\core\\interactiveshell.py\", line 2848, in run_cell\n    raw_cell, store_history, silent, shell_futures)\n  File \"C:\\VirtualEnv\\tcc-venv\\lib\\site-packages\\IPython\\core\\interactiveshell.py\", line 2874, in _run_cell\n    return runner(coro)\n  File \"C:\\VirtualEnv\\tcc-venv\\lib\\site-packages\\IPython\\core\\async_helpers.py\", line 67, in _pseudo_sync_runner\n    coro.send(None)\n  File \"C:\\VirtualEnv\\tcc-venv\\lib\\site-packages\\IPython\\core\\interactiveshell.py\", line 3049, in run_cell_async\n    interactivity=interactivity, compiler=compiler, result=result)\n  File \"C:\\VirtualEnv\\tcc-venv\\lib\\site-packages\\IPython\\core\\interactiveshell.py\", line 3214, in run_ast_nodes\n    if (yield from self.run_code(code, result)):\n  File \"C:\\VirtualEnv\\tcc-venv\\lib\\site-packages\\IPython\\core\\interactiveshell.py\", line 3296, in run_code\n    exec(code_obj, self.user_global_ns, self.user_ns)\n  File \"<ipython-input-22-433424a87bf9>\", line 23, in <module>\n    model = tflearn.DNN(convnet, tensorboard_dir=f\"../logs/hlp/{MODEL_NAME}-{strftime('%d-%m-%Y')}-{strftime('%H-%M-%S')}\")\n  File \"C:\\VirtualEnv\\tcc-venv\\lib\\site-packages\\tflearn\\models\\dnn.py\", line 65, in __init__\n    best_val_accuracy=best_val_accuracy)\n  File \"C:\\VirtualEnv\\tcc-venv\\lib\\site-packages\\tflearn\\helpers\\trainer.py\", line 147, in __init__\n    allow_empty=True)\n  File \"C:\\VirtualEnv\\tcc-venv\\lib\\site-packages\\tensorflow\\python\\training\\saver.py\", line 832, in __init__\n    self.build()\n  File \"C:\\VirtualEnv\\tcc-venv\\lib\\site-packages\\tensorflow\\python\\training\\saver.py\", line 844, in build\n    self._build(self._filename, build_save=True, build_restore=True)\n  File \"C:\\VirtualEnv\\tcc-venv\\lib\\site-packages\\tensorflow\\python\\training\\saver.py\", line 881, in _build\n    build_save=build_save, build_restore=build_restore)\n  File \"C:\\VirtualEnv\\tcc-venv\\lib\\site-packages\\tensorflow\\python\\training\\saver.py\", line 513, in _build_internal\n    restore_sequentially, reshape)\n  File \"C:\\VirtualEnv\\tcc-venv\\lib\\site-packages\\tensorflow\\python\\training\\saver.py\", line 332, in _AddRestoreOps\n    restore_sequentially)\n  File \"C:\\VirtualEnv\\tcc-venv\\lib\\site-packages\\tensorflow\\python\\training\\saver.py\", line 580, in bulk_restore\n    return io_ops.restore_v2(filename_tensor, names, slices, dtypes)\n  File \"C:\\VirtualEnv\\tcc-venv\\lib\\site-packages\\tensorflow\\python\\ops\\gen_io_ops.py\", line 1656, in restore_v2\n    name=name)\n  File \"C:\\VirtualEnv\\tcc-venv\\lib\\site-packages\\tensorflow\\python\\framework\\op_def_library.py\", line 788, in _apply_op_helper\n    op_def=op_def)\n  File \"C:\\VirtualEnv\\tcc-venv\\lib\\site-packages\\tensorflow\\python\\util\\deprecation.py\", line 507, in new_func\n    return func(*args, **kwargs)\n  File \"C:\\VirtualEnv\\tcc-venv\\lib\\site-packages\\tensorflow\\python\\framework\\ops.py\", line 3300, in create_op\n    op_def=op_def)\n  File \"C:\\VirtualEnv\\tcc-venv\\lib\\site-packages\\tensorflow\\python\\framework\\ops.py\", line 1801, in __init__\n    self._traceback = tf_stack.extract_stack()\n\nNotFoundError (see above for traceback): Restoring from checkpoint failed. This is most likely due to a Variable name or other graph key that is missing from the checkpoint. Please ensure that you have not altered the graph expected based on the checkpoint. Original error:\n\nKey Conv2D_2/W not found in checkpoint\n\t [[node save_14/RestoreV2 (defined at C:\\VirtualEnv\\tcc-venv\\lib\\site-packages\\tflearn\\helpers\\trainer.py:147) ]]\n"
     ]
    }
   ],
   "source": [
    "model.load(f\"{MODEL_NAME}.tflearn\")"
   ]
  },
  {
   "cell_type": "code",
   "execution_count": 27,
   "metadata": {},
   "outputs": [
    {
     "name": "stdout",
     "output_type": "stream",
     "text": [
      "<tflearn.models.dnn.DNN object at 0x0000026363EB2780>\n"
     ]
    }
   ],
   "source": [
    "print(model)"
   ]
  },
  {
   "cell_type": "code",
   "execution_count": 7,
   "metadata": {
    "pycharm": {
     "name": "#%%\n"
    }
   },
   "outputs": [
    {
     "name": "stdout",
     "output_type": "stream",
     "text": [
      "['1.68%', '0.00%', '81.01%', '0.00%', '14.93%', '0.00%', '0.00%', '2.39%', '0.00%', '0.00%']\n",
      "['0.00%', '0.00%', '100.00%', '0.00%', '0.00%', '0.00%', '0.00%', '0.00%', '0.00%', '0.00%']\n",
      "['0.00%', '0.00%', '99.99%', '0.00%', '0.00%', '0.00%', '0.00%', '0.01%', '0.00%', '0.00%']\n",
      "['0.00%', '0.00%', '11.58%', '0.00%', '0.00%', '0.00%', '0.00%', '88.42%', '0.00%', '0.00%']\n",
      "['100.00%', '0.00%', '0.00%', '0.00%', '0.00%', '0.00%', '0.00%', '0.00%', '0.00%', '0.00%']\n",
      "['0.00%', '0.00%', '99.99%', '0.00%', '0.00%', '0.00%', '0.00%', '0.01%', '0.00%', '0.00%']\n",
      "['99.96%', '0.00%', '0.00%', '0.00%', '0.04%', '0.00%', '0.00%', '0.00%', '0.00%', '0.00%']\n",
      "['0.00%', '0.00%', '24.04%', '0.00%', '0.00%', '0.00%', '0.00%', '75.96%', '0.00%', '0.00%']\n",
      "['0.00%', '0.00%', '0.00%', '0.00%', '100.00%', '0.00%', '0.00%', '0.00%', '0.00%', '0.00%']\n",
      "['0.00%', '0.00%', '100.00%', '0.00%', '0.00%', '0.00%', '0.00%', '0.00%', '0.00%', '0.00%']\n",
      "['0.00%', '0.00%', '0.00%', '0.00%', '100.00%', '0.00%', '0.00%', '0.00%', '0.00%', '0.00%']\n",
      "['0.00%', '0.00%', '0.00%', '0.00%', '100.00%', '0.00%', '0.00%', '0.00%', '0.00%', '0.00%']\n"
     ]
    },
    {
     "data": {
      "image/png": "[encoded data removed]",
      "text/plain": [
       "<Figure size 432x288 with 12 Axes>"
      ]
     },
     "metadata": {
      "needs_background": "light"
     },
     "output_type": "display_data"
    }
   ],
   "source": [
    "fig = plt.figure()\n",
    "num = 0\n",
    "\n",
    "testing_data = np.load(TEST_DATA, allow_pickle=True)\n",
    "np.random.shuffle(testing_data)\n",
    "\n",
    "with open(f\"result-{MODEL_NAME}.txt\", 'w') as fp:\n",
    "    for img_data in testing_data:\n",
    "        img = img_data[0]\n",
    "        orig = img\n",
    "        img = img.reshape(-1, COL_SIZE, ROW_SIZE, 1)\n",
    "        prediction = model.predict(img)[0]\n",
    "        str_label = f\"Numero: {np.argmax(prediction)} ({img_data[1]})\"\n",
    "        output = [\"{0:.2f}%\".format(i * 100) for i in prediction]\n",
    "        fp.write(f\"{str(output)} - {img_data[1]}\\n\")\n",
    "        \n",
    "        if num < 12:\n",
    "            print([\"{0:.2f}%\".format(i * 100) for i in prediction])\n",
    "            y = fig.add_subplot(3, 4, num + 1)\n",
    "            y.imshow(orig, cmap='gray')\n",
    "            plt.title(str_label)\n",
    "            y.axes.get_xaxis().set_visible(False)\n",
    "            y.axes.get_yaxis().set_visible(False)\n",
    "        num += 1\n",
    "    plt.show()\n",
    "\n",
    "\n"
   ]
  },
  {
   "cell_type": "code",
   "execution_count": 2,
   "metadata": {},
   "outputs": [
    {
     "data": {
      "image/png": "[encoded data removed]",
      "text/plain": [
       "<Figure size 432x288 with 1 Axes>"
      ]
     },
     "metadata": {
      "needs_background": "light"
     },
     "output_type": "display_data"
    }
   ],
   "source": [
    "data=np.arange(9).reshape((3,3))\n",
    "plt.imshow(data)\n",
    "plt.xlim(0.5, 1.5)\n",
    "plt.ylim(0.5,1.5)\n",
    "plt.show()"
   ]
  },
  {
   "cell_type": "code",
   "execution_count": 3,
   "metadata": {},
   "outputs": [
    {
     "data": {
      "image/png": "[encoded data removed]",
      "text/plain": [
       "<Figure size 432x288 with 1 Axes>"
      ]
     },
     "metadata": {
      "needs_background": "light"
     },
     "output_type": "display_data"
    }
   ],
   "source": [
    "data=np.arange(9).reshape((3,3))\n",
    "plt.imshow(data)\n",
    "plt.show()"
   ]
  },
  {
   "cell_type": "code",
   "execution_count": 18,
   "metadata": {},
   "outputs": [],
   "source": [
    "%reset -f"
   ]
  },
  {
   "cell_type": "code",
   "execution_count": null,
   "metadata": {},
   "outputs": [],
   "source": []
  },
  {
   "cell_type": "code",
   "execution_count": null,
   "metadata": {},
   "outputs": [],
   "source": []
  }
 ],
 "metadata": {
  "kernelspec": {
   "display_name": "PyCharm (faculdade)",
   "language": "python",
   "name": "pycharm-9d50dc8"
  },
  "language_info": {
   "codemirror_mode": {
    "name": "ipython",
    "version": 3
   },
   "file_extension": ".py",
   "mimetype": "text/x-python",
   "name": "python",
   "nbconvert_exporter": "python",
   "pygments_lexer": "ipython3",
   "version": "3.7.3"
  },
  "pycharm": {
   "stem_cell": {
    "cell_type": "raw",
    "metadata": {
     "collapsed": false
    },
    "source": []
   }
  }
 },
 "nbformat": 4,
 "nbformat_minor": 1
}
