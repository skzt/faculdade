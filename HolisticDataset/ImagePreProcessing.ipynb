{
 "cells": [
  {
   "cell_type": "code",
   "execution_count": 28,
   "outputs": [],
   "source": [
    "import random\n",
    "import cv2\n",
    "import os\n",
    "import shutil\n",
    "import numpy as np\n",
    "from tqdm.auto import tqdm"
   ],
   "metadata": {
    "collapsed": false,
    "pycharm": {
     "name": "#%%\n",
     "is_executing": false
    }
   }
  },
  {
   "cell_type": "code",
   "execution_count": null,
   "outputs": [],
   "source": [
    "# df = pd.read_csv(\"trainVal.csv\")\n",
    "# arrUnique = df['lp'].unique()\n",
    "# ret = []\n",
    "# for unique in tqdm(arrUnique):\n",
    "#     uniqueIndexs = df[df['lp']==unique].index\n",
    "#     index = random.randint(0,uniqueIndexs.size-1)\n",
    "#     img_info = df.loc[uniqueIndexs[index]]\n",
    "#     ret.append(np.array([img_info[1], img_info[2]]))\n",
    "#     \n",
    "# ret = np.array(ret)\n",
    "# np.save(\"hlp-locations.npy\", ret)"
   ],
   "metadata": {
    "collapsed": false,
    "pycharm": {
     "name": "#%%\n"
    }
   }
  },
  {
   "cell_type": "code",
   "execution_count": 29,
   "outputs": [],
   "source": [
    "DIR = \"../Datasets/hlp\"\n",
    "DIR_PLACAS = \"../Datasets/hlp/plates\"\n",
    "DIR_TREINO = \"../Datasets/hlp/train\"\n",
    "DIR_TESTE = \"../Datasets/hlp/test\"\n",
    "CLASSES = 10\n",
    "\n",
    "ROW_SIZE = 26\n",
    "COL_SIZE = 13"
   ],
   "metadata": {
    "collapsed": false,
    "pycharm": {
     "name": "#%%\n",
     "is_executing": false
    }
   }
  },
  {
   "cell_type": "code",
   "execution_count": null,
   "outputs": [],
   "source": [
    "arr = np.load(\"hlp-locations.npy\")\n"
   ],
   "metadata": {
    "collapsed": false,
    "pycharm": {
     "name": "#%%\n"
    }
   }
  },
  {
   "cell_type": "code",
   "execution_count": null,
   "outputs": [],
   "source": [
    "'''\n",
    "    Separa placas com 7 digitos e que os 4 ultimos sejam numerais.\n",
    "    arr -> [ [img_path, LP] ... ]\n",
    "    arr_sem_letra -> [ [img_path, LP] ... ] \n",
    "'''\n",
    "arr_sem_letra = []\n",
    "for img in tqdm(arr):\n",
    "    if len(img[1]) != 7:\n",
    "        continue\n",
    "    if img[1][-4:].isnumeric() is False:\n",
    "        continue\n",
    "    arr_sem_letra.append(img)\n",
    "arr_sem_letra = np.array(arr_sem_letra)\n"
   ],
   "metadata": {
    "collapsed": false,
    "pycharm": {
     "name": "#%%\n"
    }
   }
  },
  {
   "cell_type": "code",
   "execution_count": null,
   "outputs": [],
   "source": [
    "np.save(\"hlp-locations-final.npy\", arr_sem_letra)"
   ],
   "metadata": {
    "collapsed": false,
    "pycharm": {
     "name": "#%%\n"
    }
   }
  },
  {
   "cell_type": "code",
   "execution_count": null,
   "outputs": [],
   "source": [
    "arr = np.load(\"hlp-locations-final.npy\")\n"
   ],
   "metadata": {
    "collapsed": false,
    "pycharm": {
     "name": "#%%\n"
    }
   }
  },
  {
   "cell_type": "code",
   "execution_count": null,
   "outputs": [],
   "source": [
    "'''\n",
    "    Agrupa as placas que possuem outras placas com os mesmos 4 ultrimos digitos.\n",
    "    arr -> [ [img_path, LP] ... ]\n",
    "    unicos_entre_si -> { LP[-4:] : [ [img_path, LP] ...] ... }\n",
    "    \n",
    "'''\n",
    "unicos_entre_si = {}\n",
    "for img_info in tqdm(arr):\n",
    "    if img_info[1][-4:] in unicos_entre_si:\n",
    "        unicos_entre_si[img_info[1][-4:]].append(img_info)\n",
    "    else:\n",
    "        unicos_entre_si[img_info[1][-4:]] = [img_info]"
   ],
   "metadata": {
    "collapsed": false,
    "pycharm": {
     "name": "#%%\n"
    }
   }
  },
  {
   "cell_type": "code",
   "execution_count": null,
   "outputs": [],
   "source": [
    "'''\n",
    "    Monta o numpy.array com o path e a license plate (LP) de cada placa em unicos_entre_si.\n",
    "    Para os casos de chaves que possuem mais de um  valor, escolhe aleatoriamente apenas 1 de cada.\n",
    "    i.e:\n",
    "    {'4698' : [\n",
    "                ['s01_l01/2_7.png','7C24698'],\n",
    "                ['s01_l02/479_6.png','6B44698']\n",
    "                ] } -seleciona randomicamente-> ['s01_l02/479_6.png','6B44698']\n",
    "    {'2347' : [\n",
    "                ['s01_l01/4_17.png', '5AR2347']\n",
    "                ] } ----seleciona o unico-----> ['s01_l01/4_17.png', '5AR2347']\n",
    "'''\n",
    "arr_unico_entre_si = []\n",
    "for img in tqdm(unicos_entre_si):\n",
    "    index = random.randint(0, len(unicos_entre_si[img])-1)\n",
    "    arr_unico_entre_si.append(unicos_entre_si[img][index])\n",
    "arr_unico_entre_si = np.array(arr_unico_entre_si)"
   ],
   "metadata": {
    "collapsed": false,
    "pycharm": {
     "name": "#%%\n"
    }
   }
  },
  {
   "cell_type": "code",
   "execution_count": null,
   "outputs": [],
   "source": [
    "np.save(\"hlp-locations-final.npy\", arr_unico_entre_si)\n"
   ],
   "metadata": {
    "collapsed": false,
    "pycharm": {
     "name": "#%%\n"
    }
   }
  },
  {
   "cell_type": "code",
   "execution_count": null,
   "outputs": [],
   "source": [
    "arr = np.load('hlp-locations-final.npy')"
   ],
   "metadata": {
    "collapsed": false,
    "pycharm": {
     "name": "#%%\n"
    }
   }
  },
  {
   "cell_type": "code",
   "execution_count": null,
   "outputs": [],
   "source": [
    "\n",
    "'''\n",
    "    Copia as imagens das placas separadas em arr_unico_entre_si para uma pasta (Treino).\n",
    "'''\n",
    "for img in tqdm(arr):\n",
    "    try:\n",
    "        shutil.copy(os.path.join(DIR, img[0]), os.path.join(DIR_PLACAS, f\"{img[1]}.png\"))\n",
    "    except shutil.Error as err:\n",
    "        print(err)\n"
   ],
   "metadata": {
    "collapsed": false,
    "pycharm": {
     "name": "#%%\n"
    }
   }
  },
  {
   "cell_type": "code",
   "execution_count": null,
   "outputs": [],
   "source": [
    "'''\n",
    "    Segmentação dos números da placa.\n",
    "'''\n",
    "for  img_name in tqdm(os.listdir(DIR_PLACAS)):\n",
    "    image = cv2.imread(os.path.join(DIR_PLACAS, img_name))\n",
    "    \n",
    "    # grayscale\n",
    "    gray = cv2.cvtColor(image, cv2.COLOR_BGR2GRAY)\n",
    "\n",
    "    for limiar in range(50, 200):\n",
    "        # binary\n",
    "        _, thresh = cv2.threshold(gray, limiar, 255, cv2.THRESH_BINARY_INV)\n",
    "        #cv2.imshow('threshold', thresh)\n",
    "    \n",
    "        # dilation\n",
    "        kernel = np.ones((1, 1), np.uint8)\n",
    "        img_dilation = cv2.dilate(thresh, kernel, iterations=1)\n",
    "        #cv2.imshow('dilated', img_dilation)\n",
    "    \n",
    "    \n",
    "        ctrs, _ = cv2.findContours(img_dilation.copy(), cv2.RETR_EXTERNAL, cv2.CHAIN_APPROX_SIMPLE)\n",
    "    \n",
    "    \n",
    "        # sort contours\n",
    "        sorted_ctrs = sorted(ctrs, key=lambda ctr: cv2.boundingRect(ctr)[0])\n",
    "        roiList = []\n",
    "    \n",
    "        for ctr in sorted_ctrs:\n",
    "            # Get bounding box\n",
    "            x, y, w, h = cv2.boundingRect(ctr)\n",
    "    \n",
    "            # Getting ROI\n",
    "            roi = image[y:y + h, x:x + w]\n",
    "            row, column, _ = roi.shape\n",
    "    \n",
    "            if (20 <= row <= 30) and (10 <= column <= 20):\n",
    "                roiList.append(roi)\n",
    "    \n",
    "        if len(roiList) == 4:\n",
    "            name = list(img_name[:4])\n",
    "            \n",
    "            for i, roi in enumerate(roiList):\n",
    "                cv2.imwrite(os.path.join(DIR_TREINO, f\"{name[i]}_{img_name[:4]}_{i}.png\"), roi)\n",
    "            break"
   ],
   "metadata": {
    "collapsed": false,
    "pycharm": {
     "name": "#%%\n"
    }
   }
  },
  {
   "cell_type": "code",
   "execution_count": null,
   "outputs": [],
   "source": [
    "\"\"\"\n",
    "    Separa imagens aleatorias para teste\n",
    "\"\"\"\n",
    "\n",
    "folders = { '0': 41, '1': 34, '2': 40,\n",
    "\t\t\t'3': 34, '4': 41, '5': 31,\n",
    "\t\t\t'6': 36, '7': 36, '8': 38,\n",
    "\t\t\t'9': 34\n",
    "\t\t\t}\n",
    "\n",
    "for folder in folders:\n",
    "\tfiles = os.listdir(os.path.join(DIR_TREINO, folder))\n",
    "\n",
    "\tselected = random.sample(files, folders[folder])\n",
    "\n",
    "\tfor file in selected: \n",
    "\t\tshutil.move(os.path.join(DIR_TREINO, folder, file), os.path.join(DIR_TESTE, folder, file))"
   ],
   "metadata": {
    "collapsed": false,
    "pycharm": {
     "name": "#%%\n"
    }
   }
  },
  {
   "cell_type": "code",
   "execution_count": 30,
   "outputs": [
    {
     "data": {
      "text/plain": "HBox(children=(IntProgress(value=0, max=233), HTML(value='')))",
      "application/vnd.jupyter.widget-view+json": {
       "version_major": 2,
       "version_minor": 0,
       "model_id": "3bf6ba99584440b5b7f353bb515c78f4"
      }
     },
     "metadata": {},
     "output_type": "display_data"
    },
    {
     "name": "stdout",
     "text": [
      "\n",
      "\n",
      "\n",
      "\n",
      "\n",
      "\n",
      "\n",
      "\n",
      "\n",
      "\n",
      "\n",
      "\n",
      "\n",
      "\n",
      "\n",
      "\n",
      "\n",
      "\n",
      "\n",
      "\n"
     ],
     "output_type": "stream"
    },
    {
     "data": {
      "text/plain": "HBox(children=(IntProgress(value=0, max=544), HTML(value='')))",
      "application/vnd.jupyter.widget-view+json": {
       "version_major": 2,
       "version_minor": 0,
       "model_id": "d614b548dfbc42aa869b1acac0bb1f87"
      }
     },
     "metadata": {},
     "output_type": "display_data"
    },
    {
     "data": {
      "text/plain": "HBox(children=(IntProgress(value=0, max=196), HTML(value='')))",
      "application/vnd.jupyter.widget-view+json": {
       "version_major": 2,
       "version_minor": 0,
       "model_id": "8c3f674b9b95408aa9ccec0e5a0fc415"
      }
     },
     "metadata": {},
     "output_type": "display_data"
    },
    {
     "data": {
      "text/plain": "HBox(children=(IntProgress(value=0, max=459), HTML(value='')))",
      "application/vnd.jupyter.widget-view+json": {
       "version_major": 2,
       "version_minor": 0,
       "model_id": "4a798dc379f3405289c0a1a6817469c0"
      }
     },
     "metadata": {},
     "output_type": "display_data"
    },
    {
     "data": {
      "text/plain": "HBox(children=(IntProgress(value=0, max=226), HTML(value='')))",
      "application/vnd.jupyter.widget-view+json": {
       "version_major": 2,
       "version_minor": 0,
       "model_id": "83e864d4789940e1b5c9a60c9b9222e0"
      }
     },
     "metadata": {},
     "output_type": "display_data"
    },
    {
     "data": {
      "text/plain": "HBox(children=(IntProgress(value=0, max=528), HTML(value='')))",
      "application/vnd.jupyter.widget-view+json": {
       "version_major": 2,
       "version_minor": 0,
       "model_id": "2d61933d4db94fbfb055de0afb02ce90"
      }
     },
     "metadata": {},
     "output_type": "display_data"
    },
    {
     "data": {
      "text/plain": "HBox(children=(IntProgress(value=0, max=196), HTML(value='')))",
      "application/vnd.jupyter.widget-view+json": {
       "version_major": 2,
       "version_minor": 0,
       "model_id": "2a7b346d425741e193ef4b6bf9809c4f"
      }
     },
     "metadata": {},
     "output_type": "display_data"
    },
    {
     "data": {
      "text/plain": "HBox(children=(IntProgress(value=0, max=459), HTML(value='')))",
      "application/vnd.jupyter.widget-view+json": {
       "version_major": 2,
       "version_minor": 0,
       "model_id": "5e942cc3e3514875b1ecefefcba542c5"
      }
     },
     "metadata": {},
     "output_type": "display_data"
    },
    {
     "data": {
      "text/plain": "HBox(children=(IntProgress(value=0, max=237), HTML(value='')))",
      "application/vnd.jupyter.widget-view+json": {
       "version_major": 2,
       "version_minor": 0,
       "model_id": "fb1bfeebfde7474187b66db58297a7e7"
      }
     },
     "metadata": {},
     "output_type": "display_data"
    },
    {
     "data": {
      "text/plain": "HBox(children=(IntProgress(value=0, max=552), HTML(value='')))",
      "application/vnd.jupyter.widget-view+json": {
       "version_major": 2,
       "version_minor": 0,
       "model_id": "7efc10ffc3514fec8676c6fd5fd88e98"
      }
     },
     "metadata": {},
     "output_type": "display_data"
    },
    {
     "data": {
      "text/plain": "HBox(children=(IntProgress(value=0, max=177), HTML(value='')))",
      "application/vnd.jupyter.widget-view+json": {
       "version_major": 2,
       "version_minor": 0,
       "model_id": "affe2c96419d44779fc12d23a58c3b31"
      }
     },
     "metadata": {},
     "output_type": "display_data"
    },
    {
     "data": {
      "text/plain": "HBox(children=(IntProgress(value=0, max=412), HTML(value='')))",
      "application/vnd.jupyter.widget-view+json": {
       "version_major": 2,
       "version_minor": 0,
       "model_id": "1475fc8258e04e0a9034a21f54489110"
      }
     },
     "metadata": {},
     "output_type": "display_data"
    },
    {
     "data": {
      "text/plain": "HBox(children=(IntProgress(value=0, max=206), HTML(value='')))",
      "application/vnd.jupyter.widget-view+json": {
       "version_major": 2,
       "version_minor": 0,
       "model_id": "c009690f25044da0aec38892ff075c88"
      }
     },
     "metadata": {},
     "output_type": "display_data"
    },
    {
     "data": {
      "text/plain": "HBox(children=(IntProgress(value=0, max=480), HTML(value='')))",
      "application/vnd.jupyter.widget-view+json": {
       "version_major": 2,
       "version_minor": 0,
       "model_id": "3c9514c4a53b40d491249885a5fa5d65"
      }
     },
     "metadata": {},
     "output_type": "display_data"
    },
    {
     "data": {
      "text/plain": "HBox(children=(IntProgress(value=0, max=208), HTML(value='')))",
      "application/vnd.jupyter.widget-view+json": {
       "version_major": 2,
       "version_minor": 0,
       "model_id": "01ad6691ef8940f2a2a1e495d737d61f"
      }
     },
     "metadata": {},
     "output_type": "display_data"
    },
    {
     "data": {
      "text/plain": "HBox(children=(IntProgress(value=0, max=486), HTML(value='')))",
      "application/vnd.jupyter.widget-view+json": {
       "version_major": 2,
       "version_minor": 0,
       "model_id": "facc774c26784ee0a099e43e1b06a8bb"
      }
     },
     "metadata": {},
     "output_type": "display_data"
    },
    {
     "data": {
      "text/plain": "HBox(children=(IntProgress(value=0, max=217), HTML(value='')))",
      "application/vnd.jupyter.widget-view+json": {
       "version_major": 2,
       "version_minor": 0,
       "model_id": "75fadbb701204c1c9ca15e587bdf0817"
      }
     },
     "metadata": {},
     "output_type": "display_data"
    },
    {
     "data": {
      "text/plain": "HBox(children=(IntProgress(value=0, max=505), HTML(value='')))",
      "application/vnd.jupyter.widget-view+json": {
       "version_major": 2,
       "version_minor": 0,
       "model_id": "cea7ab2094b7424389e2599250b5a4fc"
      }
     },
     "metadata": {},
     "output_type": "display_data"
    },
    {
     "data": {
      "text/plain": "HBox(children=(IntProgress(value=0, max=193), HTML(value='')))",
      "application/vnd.jupyter.widget-view+json": {
       "version_major": 2,
       "version_minor": 0,
       "model_id": "35e0c020ec754383b7b856b6a3da1129"
      }
     },
     "metadata": {},
     "output_type": "display_data"
    },
    {
     "data": {
      "text/plain": "HBox(children=(IntProgress(value=0, max=450), HTML(value='')))",
      "application/vnd.jupyter.widget-view+json": {
       "version_major": 2,
       "version_minor": 0,
       "model_id": "4b63f35e1c484131a109272d3d6b0ef5"
      }
     },
     "metadata": {},
     "output_type": "display_data"
    }
   ],
   "source": [
    "\"\"\"\n",
    "    Prepara o Vetor de treino e de Validação (70% de treino e 30% de validação)\n",
    "    training_data -> [ [ IMG_MATRIX, IMG_LABEL ], ... ]\n",
    "    validating_data -> [ [ IMG_MATRIX, IMG_LABEL ], ... ]\n",
    "\"\"\"\n",
    "folders = { '0': 233, '1': 196, '2': 226,\n",
    "\t\t\t'3': 196, '4': 237, '5': 177,\n",
    "\t\t\t'6': 206, '7': 208, '8': 217,\n",
    "\t\t\t'9': 193\n",
    "\t\t\t}\n",
    "\n",
    "validating_data = []\n",
    "training_data = []\n",
    "\n",
    "for folder in folders:\n",
    "    files = os.listdir(os.path.join(DIR_TREINO, folder))\n",
    "    selected = random.sample(files, folders[folder])\n",
    "    \n",
    "    # Remove arquivos selecionados do vetor 'files'\n",
    "    for file in selected:\n",
    "        files.remove(file)\n",
    "        \n",
    "    # Validation Data\n",
    "    for img_name in tqdm(selected):\n",
    "        img = cv2.imread(os.path.join(DIR_TREINO, folder, img_name))\n",
    "        img = cv2.cvtColor(img, cv2.COLOR_BGR2GRAY)\n",
    "        img = cv2.resize(img, (COL_SIZE, ROW_SIZE))\n",
    "        \n",
    "        validating_data.append([img, folder])\n",
    "    \n",
    "    \n",
    "    # Validation Data\n",
    "    for img_name in tqdm(files):\n",
    "        img = cv2.imread(os.path.join(DIR_TREINO, folder, img_name))\n",
    "        img = cv2.cvtColor(img, cv2.COLOR_BGR2GRAY)\n",
    "        img = cv2.resize(img, (COL_SIZE, ROW_SIZE))\n",
    "        \n",
    "        training_data.append([img, folder])\n",
    "        \n",
    "validating_data = np.array(validating_data)\n",
    "training_data = np.array(training_data)\n",
    "np.save(f\"hlp-dataset-{training_data.shape[0]}-({ROW_SIZE}, {COL_SIZE})-train.npy\", training_data)\n",
    "np.save(f\"hlp-dataset-{validating_data.shape[0]}-({ROW_SIZE}, {COL_SIZE})-validate.npy\", validating_data)\n",
    "\n",
    "del training_data\n",
    "del validating_data"
   ],
   "metadata": {
    "collapsed": false,
    "pycharm": {
     "name": "#%%\n",
     "is_executing": false
    }
   }
  },
  {
   "cell_type": "code",
   "execution_count": 31,
   "outputs": [
    {
     "data": {
      "text/plain": "HBox(children=(IntProgress(value=0, max=41), HTML(value='')))",
      "application/vnd.jupyter.widget-view+json": {
       "version_major": 2,
       "version_minor": 0,
       "model_id": "a8e75fb977be42e788d6664db160e785"
      }
     },
     "metadata": {},
     "output_type": "display_data"
    },
    {
     "name": "stdout",
     "text": [
      "\n",
      "\n",
      "\n",
      "\n",
      "\n",
      "\n",
      "\n",
      "\n",
      "\n",
      "\n"
     ],
     "output_type": "stream"
    },
    {
     "data": {
      "text/plain": "HBox(children=(IntProgress(value=0, max=34), HTML(value='')))",
      "application/vnd.jupyter.widget-view+json": {
       "version_major": 2,
       "version_minor": 0,
       "model_id": "26bc37296e3249848f183972828b786b"
      }
     },
     "metadata": {},
     "output_type": "display_data"
    },
    {
     "data": {
      "text/plain": "HBox(children=(IntProgress(value=0, max=40), HTML(value='')))",
      "application/vnd.jupyter.widget-view+json": {
       "version_major": 2,
       "version_minor": 0,
       "model_id": "013fb2c24bc14254b4fcb7cf70599215"
      }
     },
     "metadata": {},
     "output_type": "display_data"
    },
    {
     "data": {
      "text/plain": "HBox(children=(IntProgress(value=0, max=34), HTML(value='')))",
      "application/vnd.jupyter.widget-view+json": {
       "version_major": 2,
       "version_minor": 0,
       "model_id": "2546c58e5fd94c58ba9caf356a0efc87"
      }
     },
     "metadata": {},
     "output_type": "display_data"
    },
    {
     "data": {
      "text/plain": "HBox(children=(IntProgress(value=0, max=41), HTML(value='')))",
      "application/vnd.jupyter.widget-view+json": {
       "version_major": 2,
       "version_minor": 0,
       "model_id": "18bd56ec28324458b551c7e987b927a8"
      }
     },
     "metadata": {},
     "output_type": "display_data"
    },
    {
     "data": {
      "text/plain": "HBox(children=(IntProgress(value=0, max=31), HTML(value='')))",
      "application/vnd.jupyter.widget-view+json": {
       "version_major": 2,
       "version_minor": 0,
       "model_id": "c9ca7792f856438aae180342363cd5aa"
      }
     },
     "metadata": {},
     "output_type": "display_data"
    },
    {
     "data": {
      "text/plain": "HBox(children=(IntProgress(value=0, max=36), HTML(value='')))",
      "application/vnd.jupyter.widget-view+json": {
       "version_major": 2,
       "version_minor": 0,
       "model_id": "5f50158ab98142d98f1e1371344bdd6b"
      }
     },
     "metadata": {},
     "output_type": "display_data"
    },
    {
     "data": {
      "text/plain": "HBox(children=(IntProgress(value=0, max=36), HTML(value='')))",
      "application/vnd.jupyter.widget-view+json": {
       "version_major": 2,
       "version_minor": 0,
       "model_id": "04027c03590a4755906544afffd6303a"
      }
     },
     "metadata": {},
     "output_type": "display_data"
    },
    {
     "data": {
      "text/plain": "HBox(children=(IntProgress(value=0, max=38), HTML(value='')))",
      "application/vnd.jupyter.widget-view+json": {
       "version_major": 2,
       "version_minor": 0,
       "model_id": "dd1614e8705840389472983b71def4b4"
      }
     },
     "metadata": {},
     "output_type": "display_data"
    },
    {
     "data": {
      "text/plain": "HBox(children=(IntProgress(value=0, max=34), HTML(value='')))",
      "application/vnd.jupyter.widget-view+json": {
       "version_major": 2,
       "version_minor": 0,
       "model_id": "dc0dd8a5e0df42f499d9d9997afd901c"
      }
     },
     "metadata": {},
     "output_type": "display_data"
    }
   ],
   "source": [
    "\"\"\"\n",
    "    Prepara o Vetor de teste\n",
    "    testing_data -> [ [ IMG_MATRIX, IMG_LABEL ], ... ]\n",
    "\"\"\"\n",
    "\n",
    "testing_data = []\n",
    "for folder in range(10):\n",
    "    folder = str(folder)\n",
    "    for img_name in tqdm(os.listdir(os.path.join(DIR_TESTE, folder))):\n",
    "        img = cv2.imread(os.path.join(DIR_TESTE, folder, img_name))\n",
    "        img = cv2.cvtColor(img, cv2.COLOR_BGR2GRAY)\n",
    "        img = cv2.resize(img, (COL_SIZE, ROW_SIZE))\n",
    "        \n",
    "        testing_data.append([img, folder])\n",
    "        \n",
    "testing_data = np.array(testing_data)\n",
    "np.save(f\"hlp-dataset-{testing_data.shape[0]}-({ROW_SIZE}, {COL_SIZE})-test.npy\", testing_data)\n",
    "del testing_data\n"
   ],
   "metadata": {
    "collapsed": false,
    "pycharm": {
     "name": "#%%\n",
     "is_executing": false
    }
   }
  },
  {
   "cell_type": "code",
   "execution_count": 27,
   "outputs": [],
   "source": [
    "%reset -f"
   ],
   "metadata": {
    "collapsed": false,
    "pycharm": {
     "name": "#%%\n",
     "is_executing": false
    }
   }
  },
  {
   "cell_type": "code",
   "execution_count": null,
   "outputs": [],
   "source": [
    "\n"
   ],
   "metadata": {
    "collapsed": false,
    "pycharm": {
     "name": "#%%\n"
    }
   }
  }
 ],
 "metadata": {
  "kernelspec": {
   "display_name": "PyCharm (faculdade)",
   "language": "python",
   "name": "pycharm-9d50dc8"
  },
  "language_info": {
   "codemirror_mode": {
    "name": "ipython",
    "version": 3
   },
   "file_extension": ".py",
   "mimetype": "text/x-python",
   "name": "python",
   "nbconvert_exporter": "python",
   "pygments_lexer": "ipython3",
   "version": "3.7.3"
  },
  "pycharm": {
   "stem_cell": {
    "cell_type": "raw",
    "source": [],
    "metadata": {
     "collapsed": false
    }
   }
  }
 },
 "nbformat": 4,
 "nbformat_minor": 2
}