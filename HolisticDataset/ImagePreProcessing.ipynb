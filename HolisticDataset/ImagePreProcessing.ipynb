{
  "cells": [
    {
      "cell_type": "code",
      "execution_count": 1,
      "metadata": {
        "pycharm": {
          "is_executing": false
        }
      },
      "outputs": [],
      "source": "import random\nimport cv2\nimport os\nimport shutil\nimport numpy as np\nfrom tqdm.auto import tqdm\nfrom sklearn.preprocessing import LabelBinarizer"
    },
    {
      "cell_type": "code",
      "execution_count": 2,
      "metadata": {
        "pycharm": {
          "metadata": false,
          "name": "#%%\n",
          "is_executing": false
        }
      },
      "outputs": [],
      "source": [
        "# df \u003d pd.read_csv(\"trainVal.csv\")\n",
        "# arrUnique \u003d df[\u0027lp\u0027].unique()\n",
        "# ret \u003d []\n",
        "# for unique in tqdm(arrUnique):\n",
        "#     uniqueIndexs \u003d df[df[\u0027lp\u0027]\u003d\u003dunique].index\n",
        "#     index \u003d random.randint(0,uniqueIndexs.size-1)\n",
        "#     img_info \u003d df.loc[uniqueIndexs[index]]\n",
        "#     ret.append(np.array([img_info[1], img_info[2]]))\n",
        "#     \n",
        "# ret \u003d np.array(ret)\n",
        "# np.save(\"hlp-locations.npy\", ret)"
      ]
    },
    {
      "cell_type": "code",
      "execution_count": 2,
      "metadata": {
        "pycharm": {
          "is_executing": false,
          "metadata": false,
          "name": "#%%\n"
        }
      },
      "outputs": [],
      "source": "DIR \u003d \"../Datasets/hlp\"\nDIR_TREINO \u003d \"../Datasets/hlp/Treino\"\nDIR_TREINO2 \u003d \"../Datasets/hlp/Treino2\"\n\nIMG_SIZE \u003d 64"
    },
    {
      "cell_type": "code",
      "execution_count": 3,
      "metadata": {
        "pycharm": {
          "is_executing": false
        }
      },
      "outputs": [],
      "source": [
        "arr \u003d np.load(\"hlp-locations.npy\")\n"
      ]
    },
    {
      "cell_type": "code",
      "execution_count": 4,
      "metadata": {
        "pycharm": {
          "is_executing": false
        }
      },
      "outputs": [
        {
          "data": {
            "application/vnd.jupyter.widget-view+json": {
              "model_id": "b07560bca9fb4a4db39505eb950ca159",
              "version_major": 2,
              "version_minor": 0
            },
            "text/plain": [
              "HBox(children\u003d(IntProgress(value\u003d0, max\u003d8834), HTML(value\u003d\u0027\u0027)))"
            ]
          },
          "metadata": {},
          "output_type": "display_data"
        },
        {
          "name": "stdout",
          "output_type": "stream",
          "text": [
            "\n"
          ]
        }
      ],
      "source": [
        "\u0027\u0027\u0027\n",
        "    Separa placas com 7 digitos e que os 4 ultimos sejam numerais.\n",
        "    arr -\u003e [ [img_path, LP] ... ]\n",
        "    arr_sem_letra -\u003e [ [img_path, LP] ... ] \n",
        "\u0027\u0027\u0027\n",
        "arr_sem_letra \u003d []\n",
        "for img in tqdm(arr):\n",
        "    if len(img[1]) !\u003d 7:\n",
        "        continue\n",
        "    if img[1][-4:].isnumeric() is False:\n",
        "        continue\n",
        "    arr_sem_letra.append(img)\n",
        "arr_sem_letra \u003d np.array(arr_sem_letra)\n"
      ]
    },
    {
      "cell_type": "code",
      "execution_count": 5,
      "metadata": {
        "pycharm": {
          "is_executing": false,
          "metadata": false,
          "name": "#%%\n"
        }
      },
      "outputs": [],
      "source": [
        "np.save(\"hlp-locations-final.npy\", arr_sem_letra)"
      ]
    },
    {
      "cell_type": "code",
      "execution_count": 6,
      "metadata": {
        "pycharm": {
          "is_executing": false,
          "metadata": false,
          "name": "#%%\n"
        }
      },
      "outputs": [],
      "source": [
        "arr \u003d np.load(\"hlp-locations-final.npy\")\n"
      ]
    },
    {
      "cell_type": "code",
      "execution_count": 7,
      "metadata": {
        "pycharm": {
          "is_executing": false,
          "metadata": false,
          "name": "#%%\n"
        }
      },
      "outputs": [
        {
          "data": {
            "application/vnd.jupyter.widget-view+json": {
              "model_id": "1b294e1f164548e4b02ec148c5957385",
              "version_major": 2,
              "version_minor": 0
            },
            "text/plain": [
              "HBox(children\u003d(IntProgress(value\u003d0, max\u003d8589), HTML(value\u003d\u0027\u0027)))"
            ]
          },
          "metadata": {},
          "output_type": "display_data"
        },
        {
          "name": "stdout",
          "output_type": "stream",
          "text": [
            "\n"
          ]
        }
      ],
      "source": [
        "\u0027\u0027\u0027\n",
        "    Agrupa as placas que possuem outras placas com os mesmos 4 ultrimos digitos.\n",
        "    arr -\u003e [ [img_path, LP] ... ]\n",
        "    unicos_entre_si -\u003e { LP[-4:] : [ [img_path, LP] ...] ... }\n",
        "    \n",
        "\u0027\u0027\u0027\n",
        "unicos_entre_si \u003d {}\n",
        "for img_info in tqdm(arr):\n",
        "    if img_info[1][-4:] in unicos_entre_si:\n",
        "        unicos_entre_si[img_info[1][-4:]].append(img_info)\n",
        "    else:\n",
        "        unicos_entre_si[img_info[1][-4:]] \u003d [img_info]"
      ]
    },
    {
      "cell_type": "code",
      "execution_count": 8,
      "metadata": {
        "pycharm": {
          "is_executing": false,
          "metadata": false,
          "name": "#%%\n"
        }
      },
      "outputs": [
        {
          "data": {
            "application/vnd.jupyter.widget-view+json": {
              "model_id": "5dce0e6d1a3c48b0a60df441f89a1261",
              "version_major": 2,
              "version_minor": 0
            },
            "text/plain": [
              "HBox(children\u003d(IntProgress(value\u003d0, max\u003d5726), HTML(value\u003d\u0027\u0027)))"
            ]
          },
          "metadata": {},
          "output_type": "display_data"
        },
        {
          "name": "stdout",
          "output_type": "stream",
          "text": [
            "\n"
          ]
        }
      ],
      "source": [
        "\u0027\u0027\u0027\n",
        "    Monta o numpy.array com o path e a license plate (LP) de cada placa em unicos_entre_si.\n",
        "    Para os casos de chaves que possuem mais de um  valor, escolhe aleatoriamente apenas 1 de cada.\n",
        "    i.e:\n",
        "    {\u00274698\u0027 : [\n",
        "                [\u0027s01_l01/2_7.png\u0027,\u00277C24698\u0027],\n",
        "                [\u0027s01_l02/479_6.png\u0027,\u00276B44698\u0027]\n",
        "                ] } -seleciona randomicamente-\u003e [\u0027s01_l02/479_6.png\u0027,\u00276B44698\u0027]\n",
        "    {\u00272347\u0027 : [\n",
        "                [\u0027s01_l01/4_17.png\u0027, \u00275AR2347\u0027]\n",
        "                ] } ----seleciona o unico-----\u003e [\u0027s01_l01/4_17.png\u0027, \u00275AR2347\u0027]\n",
        "\u0027\u0027\u0027\n",
        "arr_unico_entre_si \u003d []\n",
        "for img in tqdm(unicos_entre_si):\n",
        "    index \u003d random.randint(0, len(unicos_entre_si[img])-1)\n",
        "    arr_unico_entre_si.append(unicos_entre_si[img][index])\n",
        "arr_unico_entre_si \u003d np.array(arr_unico_entre_si)"
      ]
    },
    {
      "cell_type": "code",
      "execution_count": 9,
      "metadata": {
        "pycharm": {
          "is_executing": false,
          "metadata": false,
          "name": "#%%\n"
        }
      },
      "outputs": [],
      "source": [
        "np.save(\"hlp-locations-final.npy\", arr_unico_entre_si)\n"
      ]
    },
    {
      "cell_type": "code",
      "execution_count": 10,
      "metadata": {
        "pycharm": {
          "is_executing": false,
          "metadata": false,
          "name": "#%%\n"
        }
      },
      "outputs": [],
      "source": [
        "arr \u003d np.load(\u0027hlp-locations-final.npy\u0027)"
      ]
    },
    {
      "cell_type": "code",
      "execution_count": 11,
      "metadata": {
        "pycharm": {
          "is_executing": false,
          "metadata": false,
          "name": "#%%\n"
        }
      },
      "outputs": [
        {
          "data": {
            "application/vnd.jupyter.widget-view+json": {
              "model_id": "d299abaabb2c45f88fc44f6a4a416a45",
              "version_major": 2,
              "version_minor": 0
            },
            "text/plain": [
              "HBox(children\u003d(IntProgress(value\u003d0, max\u003d5726), HTML(value\u003d\u0027\u0027)))"
            ]
          },
          "metadata": {},
          "output_type": "display_data"
        },
        {
          "name": "stdout",
          "output_type": "stream",
          "text": [
            "\n"
          ]
        }
      ],
      "source": [
        "\n",
        "\u0027\u0027\u0027\n",
        "    Copia as imagens das placas separadas em arr_unico_entre_si para uma pasta (Treino).\n",
        "\u0027\u0027\u0027\n",
        "for img in tqdm(arr):\n",
        "    try:\n",
        "        shutil.copy(os.path.join(DIR, img[0]), os.path.join(DIR_TREINO, f\"{img[1]}.png\"))\n",
        "    except shutil.Error as err:\n",
        "        print(err)"
      ]
    },
    {
      "cell_type": "code",
      "execution_count": 12,
      "metadata": {
        "pycharm": {
          "is_executing": false,
          "metadata": false,
          "name": "#%%\n"
        }
      },
      "outputs": [
        {
          "data": {
            "application/vnd.jupyter.widget-view+json": {
              "model_id": "fab6b2dd1dd14e8e8d78849fb3dffcbe",
              "version_major": 2,
              "version_minor": 0
            },
            "text/plain": [
              "HBox(children\u003d(IntProgress(value\u003d0, description\u003d\u0027Imagens\u0027, max\u003d5726, style\u003dProgressStyle(description_width\u003d\u0027in…"
            ]
          },
          "metadata": {},
          "output_type": "display_data"
        },
        {
          "name": "stdout",
          "output_type": "stream",
          "text": [
            "\n"
          ]
        }
      ],
      "source": [
        "\u0027\u0027\u0027\n",
        "    Recorta as imagens separadas na pasta Treino, separando e salvando somente os 4 ultimos digitos.\n",
        "    Salva as imagens cortadas na pasta Treino2\n",
        "\u0027\u0027\u0027\n",
        "for img_name in tqdm(os.listdir(DIR_TREINO), desc\u003d\"Imagens\"):\n",
        "    img \u003d cv2.imread(os.path.join(DIR_TREINO, img_name))\n",
        "    num \u003d []\n",
        "    for i in range(img.shape[0]):\n",
        "        tmp1 \u003d []\n",
        "        for j in range(int(img.shape[1]/2), img.shape[1]):\n",
        "            tmp1.append(img[i][j])\n",
        "        num.append(tmp1)\n",
        "        \n",
        "    num \u003d np.array(num)\n",
        "    cv2.imwrite(os.path.join(DIR_TREINO2, f\"{img_name[:-4][-4:]}.png\"), num)\n",
        "    \n",
        "\n"
      ]
    },
    {
      "cell_type": "code",
      "execution_count": 4,
      "metadata": {
        "pycharm": {
          "is_executing": false
        }
      },
      "outputs": [
        {
          "data": {
            "text/plain": "HBox(children\u003d(IntProgress(value\u003d0, max\u003d5726), HTML(value\u003d\u0027\u0027)))",
            "application/vnd.jupyter.widget-view+json": {
              "version_major": 2,
              "version_minor": 0,
              "model_id": "65cbbe85864a47958639164c93b46e57"
            }
          },
          "metadata": {},
          "output_type": "display_data"
        },
        {
          "name": "stdout",
          "text": [
            "\n"
          ],
          "output_type": "stream"
        }
      ],
      "source": [
        "\u0027\u0027\u0027\n",
        "    Gera um numpy.array com a imagem e a label da imagem para facilitar o backup (salvar apenas um numpy.array\n",
        "    com os dados, ao inves de todas as 5000+ imagens). \n",
        "    Imagens já com resize e cv2.IMREAD_GRAYSCALE\n",
        "    \n",
        "    img_array -\u003e [ [imread(img), label], ...]\n",
        "\u0027\u0027\u0027\n",
        "img_array \u003d []\n",
        "for img_name in tqdm(os.listdir(DIR_TREINO2)):\n",
        "    img \u003d cv2.resize(cv2.imread(os.path.join(DIR_TREINO2, img_name), cv2.IMREAD_GRAYSCALE), (IMG_SIZE,IMG_SIZE))\n",
        "    label \u003d img_name[:-4]\n",
        "    img_array.append([img, label])\n",
        "\n",
        "img_array \u003d np.array(img_array)\n",
        "    "
      ]
    },
    {
      "cell_type": "code",
      "execution_count": 6,
      "metadata": {
        "pycharm": {
          "is_executing": false,
          "metadata": false,
          "name": "#%%\n"
        }
      },
      "outputs": [],
      "source": [
        "np.save(f\"hlp-dataset-{img_array.shape[0]}-GrayScale-({IMG_SIZE},{IMG_SIZE}).npy\", img_array)\n"
      ]
    },
    {
      "cell_type": "code",
      "execution_count": 8,
      "metadata": {
        "pycharm": {
          "metadata": false,
          "name": "#%%\n"
        }
      },
      "outputs": [],
      "source": "arr \u003d np.load(\"hlp-dataset-5726-GrayScale-(64,64).npy\")\n"
    },
    {
      "cell_type": "code",
      "execution_count": 9,
      "metadata": {
        "pycharm": {
          "metadata": false,
          "name": "#%%\n"
        }
      },
      "outputs": [],
      "source": "\u0027\u0027\u0027\n\n\u0027\u0027\u0027\nnp.random.shuffle(arr)\ntrain_dataset \u003d arr[:5700]\ntest_dataset \u003d arr[5700:]\n\nnp.save(f\"hlp-dataset-TREINO-{img_array.shape[0]}-GrayScale-({IMG_SIZE},{IMG_SIZE}).npy\", train_dataset)\nnp.save(f\"hlp-dataset-TESTE-{img_array.shape[0]}-GrayScale-({IMG_SIZE},{IMG_SIZE}).npy\", test_dataset)"
    },
    {
      "cell_type": "code",
      "execution_count": 3,
      "metadata": {
        "pycharm": {
          "metadata": false,
          "name": "#%%\n",
          "is_executing": false
        }
      },
      "outputs": [],
      "source": "dataset \u003d np.load(\"hlp-dataset-TREINO-5726-GrayScale-(64,64).npy\")\ndata \u003d dataset[:, 0]\nlabels \u003d dataset[:, 1]\ndel dataset"
    },
    {
      "cell_type": "code",
      "execution_count": 4,
      "outputs": [
        {
          "data": {
            "text/plain": "HBox(children\u003d(IntProgress(value\u003d0, max\u003d5700), HTML(value\u003d\u0027\u0027)))",
            "application/vnd.jupyter.widget-view+json": {
              "version_major": 2,
              "version_minor": 0,
              "model_id": "eed5e0ac14e2498481786f413782a178"
            }
          },
          "metadata": {},
          "output_type": "display_data"
        },
        {
          "name": "stdout",
          "text": [
            "\n"
          ],
          "output_type": "stream"
        }
      ],
      "source": "\u0027\u0027\u0027\n\n\u0027\u0027\u0027\nlb \u003d LabelBinarizer()\nlb.fit(list(\u00270123456789\u0027))\nlabels_array \u003d []\n\nfor label in tqdm(labels, leave\u003dTrue):\n    num1, num2, num3, num4 \u003d lb.transform(list(label))\n    labels_array.append(num1)\n    labels_array.append(num2)\n    labels_array.append(num3)\n    labels_array.append(num4)\n",
      "metadata": {
        "pycharm": {
          "metadata": false,
          "name": "#%%\n",
          "is_executing": false
        }
      }
    },
    {
      "cell_type": "code",
      "execution_count": 5,
      "outputs": [
        {
          "data": {
            "text/plain": "HBox(children\u003d(IntProgress(value\u003d0, max\u003d5700), HTML(value\u003d\u0027\u0027)))",
            "application/vnd.jupyter.widget-view+json": {
              "version_major": 2,
              "version_minor": 0,
              "model_id": "8d78d25f98ad48a381ddda9658b7e446"
            }
          },
          "metadata": {},
          "output_type": "display_data"
        },
        {
          "name": "stdout",
          "text": [
            "\n"
          ],
          "output_type": "stream"
        }
      ],
      "source": "\ntraining_data \u003d []\nfor img in tqdm(data):\n    numbers_array \u003d [[], [], [], []]\n    for linha in range(64):\n        tmp \u003d [[], [], [], []]  # [ [IMG_NUM1], [IMG_NUM2], [IMG_NUM3], [IMG_NUM4]]\n        for coluna in range(5, 64):\n            if coluna \u003c\u003d 13:\n                tmp[0].append(img[linha][coluna])\n            elif 24 \u003e\u003d coluna \u003e 15:\n                tmp[1].append(img[linha][coluna])\n            elif 35 \u003e\u003d coluna \u003e 26:\n                tmp[2].append(img[linha][coluna])\n            elif 46 \u003e\u003d coluna \u003e 37:\n                tmp[3].append(img[linha][coluna])\n            else:\n                continue\n        numbers_array[0].append(tmp[0])\n        numbers_array[1].append(tmp[1])\n        numbers_array[2].append(tmp[2])\n        numbers_array[3].append(tmp[3])\n    numbers_array[0] \u003d np.array(numbers_array[0])\n    numbers_array[1] \u003d np.array(numbers_array[1])\n    numbers_array[2] \u003d np.array(numbers_array[2])\n    numbers_array[3] \u003d np.array(numbers_array[3])\n\n    for index, number_img in enumerate(numbers_array):\n        training_data.append([np.array(number_img), np.array(labels_array[index], dtype\u003dnp.uint8)])\n",
      "metadata": {
        "pycharm": {
          "metadata": false,
          "name": "#%%\n",
          "is_executing": false
        }
      }
    },
    {
      "cell_type": "code",
      "execution_count": 6,
      "outputs": [],
      "source": "np.save(f\"hlp-training_data-{len(training_data)}-Labeled-GrayScale-({IMG_SIZE},9).npy\", training_data)\n",
      "metadata": {
        "pycharm": {
          "metadata": false,
          "name": "#%%\n",
          "is_executing": false
        }
      }
    },
    {
      "cell_type": "code",
      "execution_count": null,
      "outputs": [],
      "source": "def visualizarImagem(img, label):\n    cv2.imshow(label, img)\n    cv2.waitKey(0)\n    cv2.destroyAllWindows()\n    \n",
      "metadata": {
        "pycharm": {
          "metadata": false,
          "name": "#%%\n"
        }
      }
    }
  ],
  "metadata": {
    "kernelspec": {
      "display_name": "Python 3",
      "language": "python",
      "name": "python3"
    },
    "language_info": {
      "codemirror_mode": {
        "name": "ipython",
        "version": 3
      },
      "file_extension": ".py",
      "mimetype": "text/x-python",
      "name": "python",
      "nbconvert_exporter": "python",
      "pygments_lexer": "ipython3",
      "version": "3.6.8"
    }
  },
  "nbformat": 4,
  "nbformat_minor": 2
}