{
  "cells": [
    {
      "cell_type": "code",
      "execution_count": 1,
      "metadata": {
        "pycharm": {
          "is_executing": false
        }
      },
      "outputs": [
        {
          "name": "stderr",
          "text": [
            "Using TensorFlow backend.\n"
          ],
          "output_type": "stream"
        },
        {
          "traceback": [
            "\u001b[1;31m---------------------------------------------------------------------------\u001b[0m",
            "\u001b[1;31mNameError\u001b[0m                                 Traceback (most recent call last)",
            "\u001b[1;32m\u003cipython-input-1-a26b6bda9181\u003e\u001b[0m in \u001b[0;36m\u003cmodule\u003e\u001b[1;34m\u001b[0m\n\u001b[0;32m     13\u001b[0m \u001b[0mLEARNING_RATE\u001b[0m \u001b[1;33m\u003d\u001b[0m \u001b[1;36m0.001\u001b[0m\u001b[1;33m\u001b[0m\u001b[1;33m\u001b[0m\u001b[0m\n\u001b[0;32m     14\u001b[0m \u001b[1;33m\u001b[0m\u001b[0m\n\u001b[1;32m---\u003e 15\u001b[1;33m \u001b[0mMODEL_NAME\u001b[0m \u001b[1;33m\u003d\u001b[0m \u001b[1;34mf\"LR-LPR-({IMG_SIZE_LINHA}, {IMG_SIZE_COLUNA})-{LEARNING_RATE}-HLP-dataset\"\u001b[0m\u001b[1;33m\u001b[0m\u001b[1;33m\u001b[0m\u001b[0m\n\u001b[0m\u001b[0;32m     16\u001b[0m \u001b[0mpathInfo\u001b[0m \u001b[1;33m\u003d\u001b[0m \u001b[0mnp\u001b[0m\u001b[1;33m.\u001b[0m\u001b[0mload\u001b[0m\u001b[1;33m(\u001b[0m\u001b[1;34m\"hlp-locations-final.npy\"\u001b[0m\u001b[1;33m)\u001b[0m \u001b[1;31m# pathInfo -\u003e [img path, img label]\u001b[0m\u001b[1;33m\u001b[0m\u001b[1;33m\u001b[0m\u001b[0m\n\u001b[0;32m     17\u001b[0m \u001b[1;33m\u001b[0m\u001b[0m\n",
            "\u001b[1;31mNameError\u001b[0m: name \u0027IMG_SIZE_LINHA\u0027 is not defined"
          ],
          "ename": "NameError",
          "evalue": "name \u0027IMG_SIZE_LINHA\u0027 is not defined",
          "output_type": "error"
        }
      ],
      "source": "from sklearn.preprocessing import LabelBinarizer\nimport numpy as np\nimport cv2\nimport os\nfrom random import shuffle\nfrom tqdm.auto import tqdm\nimport keras\n\n\n# Comentario pra vida: numpay array shape \u003d (LINHAS, COLUNAS)\n\nIMG_SIZE \u003d 64\nLEARNING_RATE \u003d 0.001\n\nMODEL_NAME \u003d f\"LR-LPR-({IMG_SIZE_LINHA}, {IMG_SIZE_COLUNA})-{LEARNING_RATE}-HLP-dataset\"\npathInfo \u003d np.load(\"hlp-locations-final.npy\") # pathInfo -\u003e [img path, img label]\n"
    },
    {
      "cell_type": "code",
      "execution_count": 7,
      "metadata": {
        "pycharm": {
          "is_executing": false,
          "metadata": false,
          "name": "#%%\n"
        }
      },
      "outputs": [],
      "source": [
        "def create_labels(img_name):\n",
        "    \"\"\"\n",
        "    Pega o nome da imagem, separa os numeros da placa e gera um array para cada numero de 10 posições binarias (0 ou 1).\n",
        "          0  1  2  3  4  5  6  7  8  9      \n",
        "    0 \u003d [ 1, 0, 0, 0, 0, 0, 0, 0, 0, 0 ]\n",
        "    1 \u003d [ 0, 1, 0, 0, 0, 0, 0, 0, 0, 0 ]\n",
        "    2 \u003d [ 0, 0, 1, 0, 0, 0, 0, 0, 0, 0 ]\n",
        "    3 \u003d [ 0, 0, 0, 1, 0, 0, 0, 0, 0, 0 ]\n",
        "    4 \u003d [ 0, 0, 0, 0, 1, 0, 0, 0, 0, 0 ]\n",
        "    5 \u003d [ 0, 0, 0, 0, 0, 1, 0, 0, 0, 0 ]\n",
        "    6 \u003d [ 0, 0, 0, 0, 0, 0, 1, 0, 0, 0 ]\n",
        "    7 \u003d [ 0, 0, 0, 0, 0, 0, 0, 1, 0, 0 ]\n",
        "    8 \u003d [ 0, 0, 0, 0, 0, 0, 0, 0, 1, 0 ]\n",
        "    9 \u003d [ 0, 0, 0, 0, 0, 0, 0, 0, 0, 1 ]\n",
        "    :param img: nome do arquivo da imagem.\n",
        "    :return: um array de arrays, representando os numeros da placa.\n",
        "    \"\"\"\n",
        "    label \u003d [ [ 0, 0, 0, 0, 0, 0, 0, 0, 0, 0 ],\n",
        "              [ 0, 0, 0, 0, 0, 0, 0, 0, 0, 0 ],\n",
        "              [ 0, 0, 0, 0, 0, 0, 0, 0, 0, 0 ],\n",
        "              [ 0, 0, 0, 0, 0, 0, 0, 0, 0, 0 ]\n",
        "            ]\n",
        "    for index, number in enumerate(img_name.split(\u0027.\u0027)[0]):\n",
        "        label[index][int(number)] \u003d 1\n",
        "    return label"
      ]
    },
    {
      "cell_type": "code",
      "execution_count": 8,
      "metadata": {
        "pycharm": {
          "is_executing": false,
          "metadata": false,
          "name": "#%%\n"
        }
      },
      "outputs": [],
      "source": "def create_train_data():\n    training_data \u003d []\n    for img_info in tqdm(pathInfo):\n        img_path \u003d img_info[0]\n        img_name \u003d img_info[1]\n        label \u003d create_labels(img_name)\n        img \u003d cv2.resize(cv2.imread(os.path.join(TRAIN_DIR, img_path), cv2.IMREAD_GRAYSCALE), (IMG_SIZE_COLUNA, IMG_SIZE_LINHA))\n        numbers_array \u003d [[],[],[],[]] # [ [IMG_NUM1], [IMG_NUM2], [IMG_NUM3], [IMG_NUM4]]\n        \n        for linha in range(IMG_SIZE_LINHA):\n            tmp \u003d [[],[],[],[]] # [ [IMG_NUM1], [IMG_NUM2], [IMG_NUM3], [IMG_NUM4]]\n            for coluna in range(24, IMG_SIZE_COLUNA):\n                if coluna \u003c\u003d 29:\n                    tmp[0].append(img[linha][coluna])\n                elif coluna \u003c\u003d 35:\n                    tmp[1].append(img[linha][coluna])\n                elif coluna \u003c\u003d 41:\n                    tmp[2].append(img[linha][coluna])\n                elif coluna \u003c\u003d 47:\n                    tmp[3].append(img[linha][coluna])\n                else:\n                    continue\n            numbers_array[0].append(tmp[0])\n            numbers_array[1].append(tmp[1])\n            numbers_array[2].append(tmp[2])\n            numbers_array[3].append(tmp[3])\n            \n        # numbers_array[0] \u003d np.array(numbers_array[0])\n        # numbers_array[1] \u003d np.array(numbers_array[1])\n        # numbers_array[2] \u003d np.array(numbers_array[2])\n        # numbers_array[3] \u003d np.array(numbers_array[3])\n        \n        for index, number_img in enumerate(numbers_array):\n            training_data.append([np.array(number_img), np.array(label[index])])\n    \n    shuffle(training_data)\n    np.save(f\"training_data-30-03-({IMG_SIZE_LINHA}, {IMG_SIZE_COLUNA})-{LEARNING_RATE}.npy\", training_data)\n    return training_data\n        \n        "
    },
    {
      "cell_type": "code",
      "execution_count": 9,
      "metadata": {
        "pycharm": {
          "is_executing": false,
          "metadata": false,
          "name": "#%%\n"
        }
      },
      "outputs": [],
      "source": [
        "def create_test_data():\n",
        "    testing_data \u003d []\n",
        "    for img_name in tqdm(os.listdir(TEST_DIR)):\n",
        "        img \u003d cv2.resize(cv2.imread(os.path.join(TEST_DIR, img_name), cv2.IMREAD_GRAYSCALE), (IMG_SIZE_COLUNA, IMG_SIZE_LINHA))\n",
        "        numbers_array \u003d [[],[],[],[]] # [ [IMG_NUM1], [IMG_NUM2], [IMG_NUM3], [IMG_NUM4]]\n",
        "        \n",
        "        for linha in range(IMG_SIZE_LINHA):\n",
        "            tmp \u003d [[],[],[],[]] # [ [IMG_NUM1], [IMG_NUM2], [IMG_NUM3], [IMG_NUM4]]\n",
        "            for coluna in range(24, IMG_SIZE_COLUNA):\n",
        "                if coluna \u003c\u003d 29:\n",
        "                    tmp[0].append(img[linha][coluna])\n",
        "                elif coluna \u003c\u003d 35:\n",
        "                    tmp[1].append(img[linha][coluna])\n",
        "                elif coluna \u003c\u003d 41:\n",
        "                    tmp[2].append(img[linha][coluna])\n",
        "                elif coluna \u003c\u003d 47:\n",
        "                    tmp[3].append(img[linha][coluna])\n",
        "                else:\n",
        "                    continue\n",
        "            numbers_array[0].append(tmp[0])\n",
        "            numbers_array[1].append(tmp[1])\n",
        "            numbers_array[2].append(tmp[2])\n",
        "            numbers_array[3].append(tmp[3])\n",
        "            \n",
        "        # numbers_array[0] \u003d np.array(numbers_array[0])\n",
        "        # numbers_array[1] \u003d np.array(numbers_array[1])\n",
        "        # numbers_array[2] \u003d np.array(numbers_array[2])\n",
        "        # numbers_array[3] \u003d np.array(numbers_array[3])\n",
        "        for number_img in numbers_array:\n",
        "            testing_data.append([np.array(number_img), img_name.split(\u0027.\u0027)[0]])\n",
        "        np.save(f\"testing_data-30-03-({IMG_SIZE_LINHA}, {IMG_SIZE_COLUNA})-{LEARNING_RATE}.npy\", testing_data)\n",
        "        return testing_data"
      ]
    },
    {
      "cell_type": "code",
      "execution_count": 10,
      "metadata": {
        "pycharm": {
          "is_executing": false,
          "metadata": false,
          "name": "#%%\n"
        }
      },
      "outputs": [
        {
          "name": "stdout",
          "output_type": "stream",
          "text": [
            "Successfully Loaded.\n"
          ]
        }
      ],
      "source": [
        "if os.path.exists(f\"training_data-30-03-({IMG_SIZE_LINHA}, {IMG_SIZE_COLUNA})-{LEARNING_RATE}.npy\"):\n",
        "    training_data \u003d np.load(f\"training_data-30-03-({IMG_SIZE_LINHA}, {IMG_SIZE_COLUNA})-{LEARNING_RATE}.npy\")\n",
        "    print(\"Successfully Loaded.\")\n",
        "else:\n",
        "    training_data \u003d create_train_data()\n",
        "    print(\"Successfully created\")"
      ]
    },
    {
      "cell_type": "code",
      "execution_count": 11,
      "metadata": {
        "pycharm": {
          "is_executing": false,
          "metadata": false,
          "name": "#%%\n"
        }
      },
      "outputs": [
        {
          "data": {
            "text/plain": [
              "\u003cFigure size 432x288 with 0 Axes\u003e"
            ]
          },
          "metadata": {},
          "output_type": "display_data"
        },
        {
          "data": {
            "image/png": "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\u003d\n",
            "text/plain": [
              "\u003cFigure size 432x288 with 12 Axes\u003e"
            ]
          },
          "metadata": {
            "needs_background": "light"
          },
          "output_type": "display_data"
        },
        {
          "data": {
            "image/png": "[encoded data removed]",
            "text/plain": [
              "\u003cFigure size 432x288 with 12 Axes\u003e"
            ]
          },
          "metadata": {
            "needs_background": "light"
          },
          "output_type": "display_data"
        },
        {
          "data": {
            "image/png": "iVBORw0KGgoAAAANSUhEUgAAAS0AAAD3CAYAAABIMQITAAAABHNCSVQICAgIfAhkiAAAAAlwSFlzAAALEgAACxIB0t1+/AAAADl0RVh0U29mdHdhcmUAbWF0cGxvdGxpYiB2ZXJzaW9uIDMuMC4zLCBodHRwOi8vbWF0cGxvdGxpYi5vcmcvnQurowAAHiFJREFUeJzt3XuMVdW9B/DvOucM82DmzMA8YGCGAaGAAVtBKqnWR1NbkFQl3qSRSlNJb1Ift1bbJjWNf/QmJmrbNGlq7CNVcqM3ReptrakosVFqDX1RKyoPQYGBAQZmhmGenHmx7h/DbNf67cU+Z5wzjuvs7ycxOb9h7X22iz0/9vmd9VBaaxAR+SIx1RdARDQeTFpE5BUmLSLyCpMWEXmFSYuIvMKkRUReYdIiIq/kLWkppeYrpbYppTqVUq1KqceUUql8nT/OlFJPK6VOKqW6lVIHlFL/OdXXVEh4706eyejbfD5pPQ7gNIB6AJcDuA7A3Xk8f5w9DGC+1joN4GYADymlrpjiayokvHcnT977Np9JawGArVrrjNa6FcBLAJbl8fyxpbXeo7UeGAsv/LdwCi+p0PDenTx579t8Jq2fArhNKVWmlJoL4EaMXiDlgVLqcaVUP4D9AE4C2DbFl1RIeO9Onrz3bT6T1p8xmkG7AbQA2AXguTyeP9a01ncDqABwDYDfARiIPoLGgffu5Ml73+YlaSmlEgC2Y/SXaTqAGgAzADyaj/PTKK31iNb6dQANAO6a6uspBLx3J89k9W2+nrRmAmgE8JjWekBr3QFgM4B1eTo/2VJgTStfeO9Onknp27wkLa11O4DDAO5SSqWUUlUAvgZgdz7OH2dKqTql1G1KqXKlVFIptQbABgCvTPW1FQLeu5Nnsvo2nzWtWwGsBdAG4D0AwwDuz+P540pj9KNgC4BOAD8GcJ/W+g9TelWFhffu5Ml73youAkhEPuE0HiLyCpMWEXmFSYuIvMKkRUReiZxtXVZWpisrK4M4mUyG2sifJRJ2HhwZGcl6zJEjR9q11rXZL7ew1NTU6Hnz5gWx7DsAkF+UDA0NZT2veczx48dx5swZNYHL9FI6nda1tR/cUkqFu0D+TPZ1tmNOnTqFrq6u2PWtvG/Pnz+f9Zhc+la2eeutt5x5ITJpVVZWYtOmTUFcVVXlbGMqKSmx4p6entAxFRUVVnzHHXc0R11HoZo3bx5ee+21IC4vLw+1GRiwZ+u0tbVZsesfheHh4eD1+vXrJ3qZXqqtrcXDDz8cxKlU+FYvKiqyYtmXrn+kzfv7nnvumehleknet4ODg6E25j0I5Ja0ZP/PmTPHmRf48ZCIvMKkRUReifx4WFpaiuXLlwdxWVlZqI38+CK5jsnlM3AcDA0N4dSpU0Fsvh5z7tw5K+7r6xvXe8jH9LgYGRlBd3d3EM+dOzfURtYQS0tLrVh+fATs+931EScOhoeH0dnZGcTZcsDFziHJe/1i+KRFRF5h0iIirzBpEZFXmLSIyCuRhXillDVWJZcCuhxr4Spm5jJAMg4ymQz27dsXxGfPng21cY3DMrnGEpl97hpDEwfTp0/HlVdeGcSyyA7AKtSPHWNy3bvm78C0adMmepleGhkZwZkzZ4I4k8mE2sjxmpJr/CYL8URUkJi0iMgrTFpE5JXImtb58+etmsihQ4dCbY4dOxY6xuQaXNrU1DSuiyxUcnCpq6Yl58zJWoGrduCq38RNIpGwalSuAZCyHigHPLpqNWY9Nq4Dd4eHh9HR0RHErlq3a66nyVXTyrU/+aRFRF5h0iIirzBpEZFXIj94Dg0N4eTJk0FsrqEzRta5ZA3L9Xn3i1/84rguslANDg6ipaUliI8cORJqI2sDcs2t6urq0DH19fXB62zjvArVyMiIVSN0jVeTa8HJcUKuY8z+jOtOVkVFRWhoaAhis741Rv7eyzFtc+bMCR0jx8ldDJ+0iMgrTFpE5BUmLSLySmRNK5PJYO/evUG8e/fuUJuZM2dacWNjoxW/++67oWNc45HiKJPJ4J133gni5557LtRGjl2pqamx4qVLl4aOMRdu7O/vn+hlemloaAgnTpwIYle90Kz9AUB7e7sVm3WbMbNmzQpex3URwJGREXR1dQWxmSPGyAUWXfM4pauvvjqn9+eTFhF5hUmLiLzCpEVEXmHSIiKvRM9qFFyDv+RA0RUrVljx73//+9AxcR3wKCWTSWsD3NmzZ4fatLa2WrEsFmcbkJrrwmqFpqOjA08//XQQb926NdRm4cKFVnz8+HErXrt2beiYG2+8MXgd1y85BgYGcPDgwSBubg7vqSpzhRxs6vqCbuXKlTm9P5+0iMgrTFpE5BUmLSLySmRNK5lMWoNHXQt7vfDCC1ZsDugDgD179oSO+cxnPjOuiyxUZWVlWLVqVRDLydAArMGnAPDmm29asWuhOrPOFdeNLRKJhLUY4u233x5q893vfteKn3zySSuWG18A9uJ1cd0pvb+/37oP6+rqQm0uu+wyK5Z54Ve/+lXomG9+85s5vT+ftIjIK0xaROQVJi0i8kpkTauoqMgaO+TanFLWXA4cOBA6h3TttdeO6yILVSKRsDamcNUM5YTp3t7erOc1zxnXheq01lbfvf3226E2f/zjH614586dVrx48eLQMeamLHHdrDWVSqG2tjaIZb8BwBtvvGHFsvbqGquZa42QT1pE5BUmLSLyCpMWEXklsqY1ODhobcbq+hwq5x7K2LWwnZw/F1fnz593jrMy5bKBqGS2iXNNy9xY9fTp06E2sv5qtgfCC9kB9pw615/Hgdba2vzWNRYw2yYVfX19oZ/lOk82nr1ORN5i0iIirzBpEZFXmLSIyCuRhXhZzHQxBzICQEVFhRUXFxeHjjEnncZZJpPB/v37rTgbOQBVFurleeI6qTeZTCKdTgexXJwSAG6++WYrln0r723ALhbH9UuOkZERazK5OTF9zIIFC6xY/s67coBrgroLn7SIyCtMWkTkFSYtIvJKZE0rlUpZiwDKehUAHDp0yIq3bdtmxadOnQodc+mll47rIguV1tqqP7W0tITayN24ZZ3FtXCgOcndtYFAHMh6rKteKPtWDkCVu6cD9uYXcV1g8fz581ZtT26+AsCaUA2Ea6+uWnkuNV2AT1pE5BkmLSLyCpMWEXklsqZVXFyMRYsWBbFrbIWsmciF0Vz1q8997nNW/Mwzz2S/0gKUSCSsmpRr41U5uVzWtMy/nzGXX3558FpuQBon5oRm1xigHTt2WLHs6/r6+km5Lt+l02nccMMNQexavFJOmJaLgd57772hY+TmuRfDJy0i8gqTFhF5hUmLiLwSWdOaPn26tZnoJZdcEmojx7o0NjZasWtsl/zZnXfemf1KC1AymURlZWUQL1++PNRGjm+RNS1XPcHc/CKucw8rKipw3XXXBbHcPBQAqqqqrFjORTT/blzHZFvorlCVlZVh5cqVQeyaoynHXMk25rzQMeamIVH4pEVEXmHSIiKvMGkRkVeYtIjIK5GFeFkodu0WLYtns2bNCp1Dci0MGEeJRMJaQK2hoSHURhYwZfHYtbOROUg1roX46upqfPWrX41sIyc8y911XF9ymG3iWoiXO8+br8e4Fqc0ufrWlV9c+KRFRF5h0iIir+QtabW0tGDTpk2YO3cuFixYgG9/+9tZHxEpN//85z/xxBNP4OGHH8aWLVum+nIKzqZNm7BgwQLU1NRg2bJlePLJJ6f6kgpGc3Mz1q9fjzlz5mD+/Pm4//77J5wXVNTi/EqpNgDNOZ5rEYDhC+2TABYDaAcQ3to3rElrXZu9WWEZR/+OFbLSGP2H5sg43oZ9m10JgAEA+sLrJQAOAujPchz7Nru854XIpDUeSql9AL6jtd52If4RgLTW+ht5eQOCUuohAA1a6zum+loKlVJqCYAdAL6ltd46xZfjvcnIC/msaf0UwG1KqTKl1FwANwJ4KY/nJ5o0SqnHlVL9APYDOAlgW5ZDKDd5zwv5TFp/BrAMQDeAFgC7ADyXx/MTTRqt9d0AKgBcA+B3GP24SBOX97yQl6SllEoA2I7Rv+zpAGoAzADwaD7OT/RR0FqPaK1fB9AA4K6pvh7fTVZeyNeT1kwAjQAe01oPaK07AGwGsC5P5yf6KKUA5LaMJkWZlLyQl6SltW4HcBjAXUqplFKqCsDXAOzOx/nj7kKflmD025ekUqpEKRU5m4Fyo5SqU0rdppQqV0ollVJrAGwA8MpUX5vvJisv5LOmdSuAtQDaALyH0a8578/j+ePsQQDnADwAYOOF1w9O6RUVDo3Rj4ItADoB/BjAfVrrP0zpVRWOvOeFvA15ICL6KHAaDxF5hUmLiLzCpEVEXmHSIiKvRH5tnk6ndV1dXRCPjIyE2shCvlz0Ty6s5vLee++1x3HiaXFxsTYXAXR9KfJh+tPU29uLTCajPtwV+qu0tFSbO74oFe4CucCi3B3ddb+b2tra0N3dHbu+ra6u1uauW66FJuW9LPs/ly8A33nnHWdeiExadXV1+MlPfhLEcrswABgaGrJiuTWQue37xaxbty7XGeMFpbS0FNdff30QDwyEZ47I/hzvapnPP//8h7o236XTaWzYsCGIZUICgMWLF1vxvHnzrLizszPyPb7//e9P4Ar91djYiJdffjmIz507F2ojl5+R/9i6Ep382Sc+8QlnXuDHQyLyCpMWEXkl8uNhIpFAWVlZELse6eTHQ7NGA+S+WH0clZSUYMmSJUHs2gQkm2x1F9cGAnFQXFyMBQsWBLHrPpQ7ncuPMPX19ZHvEdd7e3h42NpQpa+vL9RG3suu3bolmUsuhk9aROQVJi0i8gqTFhF5hUmLiLwSWaVNpVKorq4OYvP1GFkIluMzXNsFZSsex4XcwdtVNM9WnHft1m0OmpQDKOOirKwMK1asCGJX0TyTyUSeQ47jAuz72TX2Kw4GBwfR3PzBECpXIV5+ySHHF7oGSbvGe7nwSYuIvMKkRUReYdIiIq9kHVxqDhZ1feaUdQH5+dY1n85VhyF3/U/WtGTdyzUXMVudLA7OnDmDLVu2BHFPT0+ozdGjR61Y9vVXvvKV0DGnT3+wMXJHR8dEL9NLPT092LFjRxC7Jj/LOccnTpyw4paWltAxu3btyun9+aRFRF5h0iIirzBpEZFXIgseWmtrEuP27dtDbd54443oN3DUVFavXp3r9RW0RCJh1fdctT5ZCxgcHLRic5HGMWadK667LQ0NDaG1tTWIT548GWrz5ptvWrGszy5btix0zP79+4PXrjpZHGQyGRw4cCCIXePV5DpwcjL07t3hrQ9zXfuNT1pE5BUmLSLyCpMWEXkl6yAec+G/v/71r6E/l59DZV2mqqoqdMzcuXNzvsBC1tPTg7/85S9B7BoXtGfPHiveunWrFd9yyy2hY8zF61wLN8ZBbW0t7rzzziB2rff+6quvWvG+ffus2DUGzqwpxrVemEwmrbmFrlqsXPRP1rjMxUXN85ouNkeZT1pE5BUmLSLyCpMWEXmFSYuIvJJ1wrRZQGtqagq1Wb58uRXX1tobwrqK7ubibHFWVVVlFdJdxUk5ibqrq8uKXQuwmQXkD7PDTyEoKSmxFvEzB0OOybabjhzIC9gDKV27VseFeV+5CvHyvpMDd11FdrmTV29vr/O9+aRFRF5h0iIirzBpEZFXImtacuOFefPmhdrISaWLFi2yYtfmACtXrhzXRRaqkpISq79ck8uz7czrqlmx7jL6/21u6uFadO7999+34sOHD1ux6941646uzRniQCll/b+7+kHWA+WCia4FReVgXta0iKggMGkRkVeYtIjIK1kXATTHV5w9ezbUpru724rl+AvXGA7XZhdxNDg4iGPHjgXxJz/5yVAb1yJ/JlcdzPxZXGta/f39+Pe//x3ErsnPcoyhHLclF64D7NqMayOSOJD1QldddcaMGVY8Z84cK3YtHCgXvDx16pTz/fmkRUReYdIiIq8waRGRVyJrWufPn7fGU5w5cybURi6uJhedY03r4np7e61FAF01Ldl/smbIvnTLZDLWon7V1dWhNuZCdq42rgUUzfpNXOuFqVTKmmPsqmnJOcjz58+3YlfftbW1WfHFNs3hkxYReYVJi4i8wqRFRF5h0iIir2TdjSfbpFA58bG5udmKXQvbuQbtxZFSyiq0z5o1K9RGFjRlYV4O7gVGB1aOietuPIODgzh69GgQm6/HyAnTsi9di1WaPzN3m46T6dOn49Of/nQQu+4xOXhU3rcLFy4MHTN79mwr3rx5s/P9+aRFRF5h0iIirzBpEZFXImtaSilrEqlrcq7cWEHWCVyTrOUC9nGVSqUwc+bMIHZN6jX/HAA+9alPWbEctAfYu/nGdaG6adOmWYtWuu5DuemKjFetWhU6xtwx/YUXXpjoZXoplUqhpqYmiF0Tx7PVUl2Dzl33v0s872gi8haTFhF5hUmLiLySdbNWc5yVrKc4TyjqXq5xWq5NX+MonU7jC1/4QhC7+mrp0qVWvGnTJit2LRJo1rlctYM4KC8vx2c/+9kgPn78eKiN3HxBLlx3xRVXhI4xJ1X/4Ac/mOBV+kkpZf2eu+pX8mdyor9rs9ZcF1XkkxYReYVJi4i8wqRFRF7JulmrOXbCrL+MufLKK0PHmFzjhOJaZ5FKS0utOqFrQT9Zs1q7dq0Vu8bOmf3rWqAtDjo7O/Hss88GcXt7e6iNuWkLEJ4v98orr0S+h6tOFgfTpk1DY2NjZBtZ08plvrHcWORi+KRFRF5h0iIirzBpEZFXmLSIyCtZJ0ybRV1zAmquXAPPuIPMKLnDtKtYmW13o97e3shj4rrgYl9fH/7+978HsWvCtCzEywGP5i7KY8yFAs3dpuNETpjOZVci2beuL+hy3d2IT1pE5BUmLSLySt6S1saNG1FfX490Oo3Fixfj17/+db5OHXu/+c1vsGHDBqxatQoPPPDAVF9OwRkaGkJLSwsOHz6MI0eOoK2tDVrrqb4s7w0MDODrX/86mpqaUFVVhVWrVuHFF1+c8HlV1F+OUqoNQPNFG9hKAAwA0BdeLwFwEEB/1EEXNGmta7M3Kyzj6N+xlefSGP2H5sg43oZ9m90iAMMX2icBLAbQDuB0luPYt9ESAGZjtC8HAVQCuATAngtxNs7+jUxaH5ZSagmAHQC+pbXemvc3iCml1EMAGrTWd0z1tRQSpdQ+AN/RWm+7EP8IQFpr/Y2pvbLCo5R6C8B/a63/78OeI681LaXU40qpfgD7AZwEsC2f5yeaJD8FcJtSqkwpNRfAjQBemuJrKjhKqVkYfYrdM5Hz5DVpaa3vBlAB4BoAv8Pox0Wij7s/A1gGoBtAC4BdAJ6b0isqMEqpIgD/C+B/tNYT2jAy798eaq1HtNavA2gAcFe+z0+UT0qpBIDtGP1HdjqAGgAzADw6lddVSC708VMYrWP910TPN5lDHlIAwtvIEn28zATQCOAxrfWA1roDwGYA66b2sgqDGh0x+gSAWQD+Q2s94dHOeUlaSqk6pdRtSqlypVRSKbUGwAYA0Wt7UE6UUimlVAlGv9lKKqVKlFKRsxkoN1rrdgCHAdx1oZ+rAHwNwO6pvbKC8XMAlwK4SWt9Lh8nzNeTlsboR8EWAJ0AfgzgPq31H/J0/rh7EMA5AA8A2Hjh9YNTekWF5VYAawG0AXgPo8Mf7p/SKyoASqkmAN8AcDmAVqVU74X/bp/QeTmIjoh8wmk8ROQVJi0i8gqTFhF5hUmLiLwS+bX59OnTdVVVVVST0GJecpG6tra20DFyQbC+vr72OE48TafT2txtJ5edeuVCaa6F08yftbW1obu7O7fV1QpISUmJrqioCGLX7t3ySyh5X7q+pDL79uzZs+jr64td36bTaV1b+8Gvay47Q8v7OJdjWltbnXkhMmlVVVXhnnvuCWLXVtbmFmOAvSU7AOcSNV1dXVa8c+fOXGfjF5S6ujr88Ic/DGLXiq79/fYiGXKbJde2S+bPvve97030Mr1UUVGB9evXB/GKFStCbeQvjrkqKeBe9dXs25///OcTvUwv1dbW4tFHP5gw4NqeTZKrxLqOkfnlkUceceYFfjwkIq8waRGRVyI/HpaXl+Pqq68OYvmIB4Qf6eTHxTVr1oSOkZsM7Ny5M/uVFqCBgQEcOnQoiJcsWRJqI3eYzmUHb1Ouu/YWmmQyCbMeKz9mu8h7t6+vL9TG7M9cN2IoNMXFxbjkkkuCePbs2aE2Zj3RxfXxsKGhwYofeeQR57F80iIirzBpEZFXmLSIyCtMWkTklchC/MDAAA4cOBDErh13ZfEy27gtIDweJq5SqZRVaJ81a1aoTbZCuyzMj/f4QpVMJlFZWRnErjGGsu9k7LrfXeeJm76+PvzjH/+IbCN/x+Xg0s7OztAx8kuni4nnHU1E3mLSIiKvMGkRkVcia1rnzp3D22+/HcTl5eWhNrIOIz/zu2ourlpBHBUVFaG+vt6KpWz9mUutJo6SySTS6XQQu/pJTu7v6emx4mnTpkW+R1wHl0quif6lpaVWnEstUB5zMXzSIiKvMGkRkVeYtIjIK5E1raKiIjQ2Ngax/MwPAK2trVbc0dFhxQsXhvdrzTaZMi4SiYT1Od41IV3Wp2T9wFUrMNeBiutuS8PDw9a9KCfpA9nrLua9P8a8d+NaOywtLcWyZcuC2DXm6ty56C0OzQnXYxYtWpTT+/NJi4i8wqRFRF5h0iIir0TWtDKZDPbt2xfE7777rrONSdYOvvzlL4eOueqqq8Z1kYVKKWWNBXLVDGWNUI6Vc42dM2tarjE0cdDT04PXXnstiI8cORJqIzdtkf3vuk/nzZsXvHat6R8HPT09ePXVV4P45ZdfDrWReUCOzbzuuutCx5gLjkbhkxYReYVJi4i8wqRFRF5h0iIir2RdBPDgwYNB7Fq8z5yUCoQLcE888UToGNcuJ3Gktba+yDh27FiozTPPPGPFsli5evXq0DHmOeNaiM9kMti7d28QuwaXyl2n33//fSt2TeA1N3gdHByc6GV6qa+vD//617+C+OjRo6E28gsi8ws9ADh9+nTomPvuuy+n9+eTFhF5hUmLiLzCpEVEXsm6w/Q111zzQeNUuLkckHfixAkrdg3qcw2ijCOttVVz6urqCrV56aWXrHjFihVZz9vb2xu8jutGDMlk0prc/PnPfz7UZuPGjVb8i1/8wooPHz4cOoaT0UcH5d5yyy1BfMMNN4TayA1unn32WSs2B/6OMfs2Cp+0iMgrTFpE5BUmLSLySmRNq7KyEl/60pciT/C3v/0t8s/nzJkT+tns2bNzuLTCl0gkrLFCro1V5Tg4KdvCgXHdfCGVSlmbrjQ3N4fabNmyxYrlOC3XApbmz15//fWJXqaXZE3LtQiguSGOy4wZM0I/M2uxUfikRUReYdIiIq8waRGRVyJrWpJrfJWcLyfnIS1dujR0jJzzRaNc8wRlX/X391uxa+PbbJsKxIGsF8rxg0B4PqJc1M+1wKJZi4nrxhbDw8M4depUEL/44ouhNuYigUC4/13j5rJtjjuGT1pE5BUmLSLyCpMWEXmFSYuIvBJZiB8aGrIK7TNnzgy1WbdunRXL3WPkhF8AOHny5LguspCZE5pdg0uLioqsOJcdYMxzxnVSr1LKKpTLnXeA8ORz1yBJyez/uPbt2bNn8fzzzwfxL3/5y1AbubjCrbfeasU33XRT6Jiampqc3p9PWkTkFSYtIvIKkxYReSWyptXV1YXt27cHcXt7e/gE4rPrrl27rNictDqmqalpXBcZF65Bt7L/5ABf1yJ/Zh0srhOmAbtGePPNN4f+/N5774083jXpt7W1NXid66J1haajowNPPfVUELs2DVmzZo0VNzQ0WLGrNpvroGg+aRGRV5i0iMgrTFpE5JXImlZRUZFVU3EtOFdcXGzFy5Yts2JXTeX48ePjushCpbW26iKVlZWhNqtWrbJiWUdx1VXMvxPX2K84kH3729/+NtTGnPQLhDdbcC1gadZjc53gW2hGRkasMW2umtaf/vSnyPiKK64IHfPQQw/l9P7xvKOJyFtMWkTkFSYtIvJKZE0rnU5j7dq1Qez67CoXoRscHLTivXv3ho5hTcvNNffq2muvteJcFgEsLS0NXsd1obrS0lJcdtllQSwXqwTCfblo0SIrlvVEAFi9enXwevPmzRO9TC/Nnz8fjz32WBC7at2SvE9dYxLlWK6L4ZMWEXmFSYuIvMKkRUReYdIiIq9EFuLLyspw+eWXR55AFtjkYNPrr78+dIwsiv7sZz+LfI9CVVZWhpUrV0a2OX36tBXX1dVZsasQb05id+0oEwdVVVXWJOmKiopQm+HhYSuWk//nz58fOqa6ujp4Hde+LS8vx1VXXTWuY2Tfugbm5joQmk9aROQVJi0i8gqTFhF5RUUtzq+UagPQ/BFcR5PWuvYjeJ+PlY+of9m3k4d9O7mc/RuZtIiIPm748ZCIvMKkRUReYdIiIq8waRGRV5i0iMgr/w9oowIAL5STVwAAAABJRU5ErkJggg\u003d\u003d\n",
            "text/plain": [
              "\u003cFigure size 432x288 with 12 Axes\u003e"
            ]
          },
          "metadata": {
            "needs_background": "light"
          },
          "output_type": "display_data"
        },
        {
          "data": {
            "image/png": "iVBORw0KGgoAAAANSUhEUgAAAS0AAAD3CAYAAABIMQITAAAABHNCSVQICAgIfAhkiAAAAAlwSFlzAAALEgAACxIB0t1+/AAAADl0RVh0U29mdHdhcmUAbWF0cGxvdGxpYiB2ZXJzaW9uIDMuMC4zLCBodHRwOi8vbWF0cGxvdGxpYi5vcmcvnQurowAAHq9JREFUeJzt3WtsXOWZB/D/47Hjia9x4luc2ElIIAkEQkIJLduSNAhQQQWqkgoEhaqsuGlXrUTb7YeuKnW7Yj9su6Jsq+12YaFQWmgViqC0pU2gIly6oFxKSJyEYOLEMUns2I4dx9d598PEh/NecmacGTp95/x/EpIf+32PD8eHh3OeeS+ilAIRkS9KCn0CRETTwaRFRF5h0iIirzBpEZFXmLSIyCtMWkTkFSYtIvJK3pKWiCwXkc0iMiAi74rI5/J17LgTkSHjn0kReajQ51UsROQJEekWkRMisldE/r7Q51QsROQfROQtERkVkUfzccy8JC0RKQXwLIDnAcwGcBeAJ0TkvHwcP+6UUlVT/wBoAnAKwC8LfFrF5AEAC5VSNQCuB/BdEbmkwOdULA4D+C6AR/J1wHw9aS0D0ALgP5RSk0qpzQBeBfDFPB2fPnQTgKMAXin0iRQLpdQ7SqnRqfD0P4sLeEpFQym1USn1awC9+TpmvpKWnOF7K/J0fPrQHQB+qjj/Kq9E5EciMgygHUA3gBcKfEp0BvlKWu1I/9//6yJSJiJXA1gLoCJPxycAItKG9HV9rNDnUmyUUvcBqAbwKQAbAYxG96BCyUvSUkqNA7gRwHUAPgBwP4CnARzKx/EpcDuALUqpjkKfSDE6XdrYAmA+gHsLfT7kVpqvAyml/oL0UwAAQEReA58I8u12AP9W6JOIgVKwpvU3K59DHi4SkaSIVIjI1wDMBfBovo4fdyJyOYB54KeGeSUijSJys4hUiUhCRK4BcAuAzYU+t2IgIqUikgSQAJA4nSNyeljK5+DSLyJdwDwK4EoAV4U+kaHc3QFgo1JqsNAnUmQU0q+ChwD0Afh3AF9VSj1b0LMqHt9CeojONwHcdvrrb+VyQOGHUETkE07jISKvMGkRkVeYtIjIK0xaROSVyI8ea2trVVNTUxCnUimrjfk9M86m0N/Z2dmjlGrI2LDIzJo1SzU3NwexiD0byvW9MNffpKTkw/8XHT58GP39/dEHKUJz5sxRra2tkW3Me3O6H0odOnQIx48fj921ra2tVY2NjUGcSCSsNuF7EMh8HwP29d+9e7czL0QmraamJvzwhz8M4qGhIavNqVOnIuPJycmMJ3v33XcfyNioCDU3N+ORRz6c/O7645eVlUUeY2RkxPpeMpkMvr7ttttyOEN/tba2YtOmTUHsug/N701MTGQ8brjP9ddfn8MZ+quxsREPPvhgENfU1FhtKir0GXwzZszIeNyxsTEtvuSSS5x5ga+HROQVJi0i8krk62EqldJe98zHNyDz66GrD6Ulk0ksWbIkiLN5hTENDw9b3wvXE1yvnHERvnbZlCkoO4lEQnsldF3bwUF94ob5ujhz5kzncbPBJy0i8gqTFhF5hUmLiLzCpEVEXoksxJeUlDgLZmFmES5TfKbvxVW4+Ogay2IWJ81xWydPnrT6hD/8MAf5xUUqlXJ+SBGWqfBbWpq3NTKLioho1851Hc3/xkdH9VWqXH3CA62jxPOOJiJvMWkRkVeYtIjIK5Ev7dXV1Vi7NtirwllzMecjHjt2LDIGgOPHj0/rJIvV5OQk+vr6gjg8Z3BKVVWVFpttXLWB8N8pm4mqxWhsbAyHDx8O4v7+fquNWXcx67fl5eVWn/C1HR8fz/U0vZRKpbS6qeseNK+dWV901bXNAahnwictIvIKkxYReYVJi4i8ElnT6uvrw69+9asg7uzstNqYE6TN91vXOK+Ghtit9+eklNLqIq4F/TKNNXKtt+Va3yhuRkdHsX///iDes2eP1ca8trNmzdLi+vp6q0+4jTn2KC7MWmw2tSizHu6qj7vq3y580iIirzBpEZFXmLSIyCuRNa2jR4/ioYceCuI33njDamPWrGpra7V44cKFVp/LLrtsOudYtMbGxnDo0KEg7u7uttqEaweAPb7lwgsvtPqsWLEi+DquO4ib82arq6utNmZN64MPPtDi8Div8HGnuPZMiIPq6mqsW7cuiM1aoIt5LV31QNffyIVPWkTkFSYtIvIKkxYReYVJi4i8ElmIHx8f14qTrkGh1113nRa3t7drsatYuWvXrmmdZLEaHx/Xiu9vv/221WbHjh1avHXrVi3+whe+EPk7zMG/cVFaWqoNDnVN0DUnPO/du1eLOzo6rD7hyf7mjjNxMTIygt27d0e2ef311yPjq6++2uqzZs2arH4/n7SIyCtMWkTkFSYtIvJKZE3LnNDrWrzPfO83B+i5FkrLdrGvYpdMJrF06dIgdtVdzEnqvb29WhzXhegyERFtUq7r2pr11oMHD2rxgQMHrD4TExORx4yDyclJrZ4XviZTdu7cqcV//OMftXjRokVWn4svvjir388nLSLyCpMWEXmFSYuIvBJZ00okEqirqwvirq4uq4055sqsE7gWAcy0sF1cVFZW4tJLLw1i1wYB+/bt0+Jly5ZpcbgmNqWxsTH42rVIYByYG4q66k8nTpzQYrOmZcaAvtFIXGtaJSUlWl06m+sQ3ggDcG+Em2nz3OD3Z9WKiOhvBJMWEXmFSYuIvBJZ06qpqcFVV10VxPPnz7famIt5mXUA19w31wYOcRVeVM61CKA57s1cVHHevHlWn3AdMa6btZpzD1334ZEjR7R47ty5kT8nt5MnT1rfM+dlmnVs14J/rs0uXPikRUReYdIiIq8waRGRV5i0iMgrkYX4GTNmaMV3VwE9U/HMVcwMD9CLM3MRQNcEXXMA5Jw5c7S4qanJ6hMucmY7YK/YJBIJ7TqY1w2wr11zc3PkzwF9IKVrt544mJyc1O5L10DRTIsiuHaTNhcDOBM+aRGRV5i0iMgrTFpE5JXImlYqldIGhbkmRtbU1GixOWjMNajPHMQXV+Yii+Zu0oA90fT888/XYtfuvuE6VlwHl5oL1WVTLzEnn7s2cgl/7yc/+UkOZ+gvpZR2X7o2+DBrsdnUVjlhmoiKEpMWEXmFSYuIvBJZ0zpx4gR+//vfB7Frk1WzplVeXq7FrkXqwpOwAeCZZ57JfKYxsGDBAut75jg4s6YVnhQ8Ja5js8KUUloN1rX5gnltzXvVdR1bW1uDr5966qlcT9NL2SywaOYB8z6trKy0+mS74Q2ftIjIK0xaROQVJi0i8kpkTauqqgpr164NYld9yqwLmPMK29rarD7ZbspY7My6y8qVK6025vfMGmIymbT6hMfGxXXBxbKyMm2DD1d9yqyzmOONzAUuKc1cYNF1bc855xwtNscguhav5CKARFSUmLSIyCtMWkTkFSYtIvJKZCG+rq4On/vc54I4m51kzaKca4fp2bNnZ3t+RS2VSmk7mbgWqqutrdVi829g7ugN6JOD47oLciKRcE4mDzMLv2bsmghsTmCPo2QyieXLlwexuWMUYN935oce5557rtXHNeDUhU9aROQVJi0i8krk62G21q1bp8Wjo6O46aab8I1vfCMfh4+9a6+9Fm+++WawFvfcuXPx5ptvFvisisdXvvIVbNmyBcPDw6ivr8eXv/xl3HTTTYU+raIwODiIhx56CFu3bkVlZSWuvfZarF69OqdjilLqzD8UOQbA3m0hWgmAlQD2AbALLm4LlFL2imtFbhrXdymAXgA9Z/FreG0zSwIYBaBOf70U6ft3OKoTeG2zsQiAAHgfQAWAJQDaAYxk0dd5fSOT1tkQkTsAfBvAYpXvg8eUiLwM4Aml1P8U+lyKnYgsBfAygK8opZ4u8Ol4TUQqAfQBWKGU2nv6e48D6FJKffNsj/tR1LTuAPBTJqy8e0BEekTkVRFZV+iTKTYi8iMRGUb6KaAbwAsFPqVicB6AyamEddoOABfkctC8Ji0RaQOwFsBj+Twu4Z8AnANgHoD/BvCciCwu7CkVF6XUfQCqAXwKwEakXxcpN1UABozvDSB9nc9avp+0bgewRSnVkefjxppS6s9KqUGl1KhS6jEArwK4ttDnVWyUUpNKqS0A5gO4t9DnUwSGANQY36sBYA+Am4aPImnxKeujp5AubtJHoxQAn2RztxdAqYiER5KuBPBOLgfNW9ISkcuRfn35Zb6OSYCIzBKRa0QkKSKlInIrgCsA/D5TX8pMRBpF5GYRqRKRhIhcA+AWAJsLfW6+U0qdRPpV+zsiUikifwfgBgCP53LcvIzTOu0OABuVUjk9+pGlDMB3ASwDMIl0ofhGpdSegp5V8VBIvwr+F9L/Ez8A4KtKqWcLelbF4z4AjwA4ivSwnXuVUjk9aeV9yAMR0UeJ03iIyCtMWkTkFSYtIvIKkxYReSXTIoCqpaUliF1Fe3OxL3P3F1cfs01HR0dPHCeemtfXxbx+IpmHZ4Wvb3d3N/r7+2M3pquurk6Fd3yZWiEjV+Hr39nZid7e3thd21mzZmn3rWs3nky7nLvuY/N727Ztc+aFyL9kS0sLfvGLXwSxa2vx/v5+LQ6vxAm4t7AaHtYnz99yyy3TXUmiKLS0tODnP/95ZBvz+mXzH1/4b/ClL33prM7Nd/PmzcPTT38439lcOROw/8PKZpXX8Oqmn/70p3M4Q3+1tLTg8cc/HGplrq4L2Fvdmde6pMR+ySsrK9Pi6upqZ17g6yEReYVJi4i8Mq0X/SNHjmRsY+547No1tro6p0neRUNEUF5eHtlmfHxci81HaNfrt+vRO25KSkq0+8y1W7R57c171VWXietGIWElJSXaTvKuXc4zvQ66rm22dUfe3UTkFSYtIvIKkxYReYVJi4i8Eln5Ghsbw4EDHw6VeP/996025i68FRUVWuza5dccpxVXiURCG8/iKvKaOxqbBU1XIT5cdM5mMGoxKi0t1e69U6dOWW0yFd5dhWEW4tMfBjU2NgZxpoGkgH3fZvoAKvJYZ92TiKgAmLSIyCtMWkTklcia1uDgIF555RUtNm3dulWLzXf+RYsWWX0OHz48rZMsVmVlZZg7d24Qu+pTJ06ciDyGa9Bk+G+QTb2hGJmDS131KXMurVk/NGNTXFf9nZyc1O5Lc74xAAwN6ZvLm/MTzbmJ08EnLSLyCpMWEXmFSYuIvBJZ06qoqMCqVauC2FU/Cf8cAGbOnKnFrnFaZn3hM5/5TOYzLULDw8PYvn17EO/YscNq88Ybb2hxQ4O+JpqrZnjRRRcFX8d1XNHQ0BC2bNmixSZzrJA5kT/TxH7X+nJxMDY2hoMHDwbxoUOHrDbd3d1aPH/+fC1ubW0969/PJy0i8gqTFhF5hUmLiLySce5hR0dHELvGaY2MjGix+e4a3lxgiqsOE0eDg4PYvHlzED///PNWm5deekmLly1bpsXr1q2z+ixcuDD4Oq41rePHj+PJJ58MYtd4NfN+Xrp0qRZfcMEFVp9wnctcoDEuTpw4gU2bNgVxZWWl1cb83nvvvafF27Zts/qY9doz4ZMWEXmFSYuIvMKkRUReYdIiIq9EFuJHRkawZ8+eIO7q6rLahAeZAXYxM1wUnhIe/Bhnp06dws6dO4N49uzZVpsf/OAHWtzW1qbFzc3NVp9wETRfOyv7ZnBwEH/605+C2FVU3717txZ3dnZqsWv3qfCHSK6FBeNgYGAAzz33XBBfccUVVpu1a9dq8a5du7T4hRdesPqYueNM+KRFRF5h0iIirzBpEZFXMhY8wgvS9/T0WD8P17wAewdk10Jqc+bMyfoEi9no6Cj2798fxK4F/y688EItNhdPcy2m1tTUFHwd10UAE4mENhB0w4YNVptnn31Wi//whz9osTlZHdBrNQMDA7meppcmJia0XOC6x8L3IGDnBde16+vry+r380mLiLzCpEVEXmHSIiKvRNa0GhoacPfddwfxE088YbUxa1bLly/XYtfkaLMOFlciotUDXAvVtbe3a/GxY8e0uL+/3+oTnnga1wnTTU1NuP/++4PYNdnfHGNoXqv6+nqrT3iD17huhGvWtFzMa2dujGsutABk3sRlCp+0iMgrTFpE5BUmLSLySmRNq7y8XKtJucZjmIv/m4sAVlRUWH1+85vfTOski1VDQwPuueeeID569GjGPu+8844WuxZTC4+tc9Vy4qCyshKXXnppEG/cuNFq49qoJSzT/R7XMXAigmQyGcTmGCxAvwcBu17o2uA10+a4wbGzakVE9DeCSYuIvMKkRUReYdIiIq9EFuInJia0SYyHDx+22pi79Jo7ariKlebE1LgqLy/H4sWLg9i1G4lZsDR3NXFNPA0PQI3zLsjhRf2Gh4etNuaHRGax2PUhRriPWWyOi0Qigdra2sg25n1rFtldxfuqqqqsfn88rzoReYtJi4i8wqRFRF7JuLFFeDCjqy7Q0tKixebiXy5cBDBNKaXVnFwbJWRaGC08yG8KJ/WmJ0OHJ0zfddddVhuzHmsONnX9PcKTrLMdDFlsKioqsHLlyiB2Tdo3B/OmUikt/vznP2/1MRdX2L59u/P380mLiLzCpEVEXmHSIiKvRNa0Tp48ibfeeiuIXZu1Xn311Vq8ZMkSLTYnVAPAzTffrMU/+9nPMp9pERocHMTmzZuD+LXXXrPa7Nu3T4vNmmG4tjBl9erVwdeuCetxMDo6io6OjiD+7W9/a7UJ/xyANmYOAM4991yrT3jT1x07duR6ml6qqqrC5ZdfHsSuBQHNMZ3mQgpr1qyx+jQ2NmrxAw884Pz9fNIiIq8waRGRV5i0iMgrkTWtsrIyrYayatUqq83HPvYxLTbHWsyaNcvq84lPfGJaJ1msSkpKtJrfsmXLrDbmfETzei5YsMB53ClxHadVXV2NK664Ioibm5utNuZGt2Y99vzzz4/s89RTT+V6ml6qqqrSrq2LOS7LHE84c+ZMq0+2iyrySYuIvMKkRUReYdIiIq8waRGRVyIL8TU1NbjqqquC2FWIb2tr0+JMO8sC8R3waJoxYwZaW1uD2CwEA3Zx0pzUOz4+bvUJT/Q1C6Jx0dDQoE2Srqurs9qY96Y5cNfVJyzbReuKTTKZ1AbeuorqZuHdvE9dO5+7Jqi78EmLiLzCpEVEXslr0nruueewatUq1NfX44ILLsCrr76az8PH1vXXXx/8s2HDBtxwww348Y9/XOjTKhoDAwO4//77sWTJEqxZswbPPPNMoU+paOzevRvr169HfX09li9fjl//+tc5H1OUUmf+ocgxAAeyPFYNgAUA3gNwEsDUyvV20cW2QCll7+pQ5KZ5faeUAFgJYB+AoSza89pmtgiAAHgfQAWAJQDaAYxk6Mdrm9kKAMcAHAFQjfS13QUgenvvNOf1jUxa0yEirwF4WCn1cF4OSE4icgeAbwNYrPL1x4sxEakE0AdghVJq7+nvPQ6gSyn1zYKenOdEZAWANwBUT92rIvIigD8rpf75bI+bl9dDEUkA+BiABhF5V0QOich/ioj9sQLl6g4AP2XCypvzAExOJazTdgC44AztKXuuOWSC9NPXWctXTasJ6dfBmwB8CsDFAFYB+Faejk8ARKQNwFoAjxX6XIpIFQBz88gBpF9lKDftAI4C+LqIlInI1UjfvzmNecpX0poaYPGQUqpbKdUD4PsArs3T8SntdgBblFIdGVtStoaQrseG1QCwd2qlaVFKjQO4EcB1AD4AcD+ApwEcyuW4eUlaSqm+0yfCV5aP1u3gU1a+7QVQKiLhZUpXAnjnDO1pGpRSf1FKrVVKzVFKXQPgHAD/l8sx8znk4X8B/KOINIpIHYCvAng+j8ePNRG5HMA8AL8s9LkUE6XUSQAbAXxHRCpF5O8A3ADg8cKeWXEQkYtEJCkiFSLyNQBzATyayzHzmbT+BcCbSP+fazeAbQD+NY/Hj7s7AGxUSvG1Jf/uAzAT6frLzwHcq5Tik1Z+fBFAN9LX9koAVymlshnucEZ5G/JARPTXwGk8ROQVJi0i8gqTFhF5hUmLiLySaRFAFV4YzbXgnHXAUv2QrkUAzeJ/e3t7TxwnntbX16vwbjrZ7JxjXrtMi/x1dnait7c3dlvyzJkzR4UXWMzmAyfz+ruubfh7XV1d6Ovri921ra+vVwsXLoxsczYf8Jl9tm3b5swLkUmrqakJ3//+94P4yJEjVpvwdlWAvcWV619uYmJCiy+77LLprnRQFBYsWKAt3+NK8Ob1HRnRFx4YGxuz+oRXhVy/fn2up+ml1tZWvPjii0HsWinTZK4S61pJc3h4OPh6w4YNOZyhvxYuXIi33noriF3JPdMDjmu7MPPerq6uduYFvh4SkVeYtIjIK5GvhyUlJaisrAzisrIyq02mx+5sd42No4mJCRw/fjyyTaZXFtfrYbiN6+dxkEqltH93131qvo6Xl5drsatP+O9hvrrHhVJK22DF9Rptvh66Nr84W/G86kTkLSYtIvIKkxYReYVJi4i8ElmILy0txZw5c4LYNU7LLPSahWNXId41HimOxsbG0NXVFcSuwq85ps0scLqKoAMDA5E/pzTzepvX2nXvshBvc43JMsdu5XOnc151IvIKkxYReYVJi4i8ElnT6u3txZNPPhnER48etdpUV+s7LZmDyDZt2mT1ufLKK6d1ksVqYmICx44dC+JwLWqKWXepqqqKjAGgubk5+No1IDgOEomEdm+GB0NOMet9Q0P6ht2uAZHhGm4+6zQ+SaVSzusZxawX5lIP5JMWEXmFSYuIvMKkRUReiaxpDQ0NZVzvaf78+VafsPfff9/qc8kll0znHIvW6Ogo3nvvvSA+dMjeeNe8nuFFGQFg3rx5Vp+2trbg67jutjQ0NIRXXnkliF1j4Mx6YH19vRaHxyi6xHWc1ujoKPbt2xfEmSaWu7hqsbNnz87q98fzqhORt5i0iMgrTFpE5JXImpaIaON8Vq5cabUJbx4AADU1NVq8atUqq09jY+O0TrJYDQ8Pa2ttv/7661abvXv3anFdXZ0WL1261Orz2c9+Nvj65MmTuZ6ml3p6evDoo48GcXht9ylmfdDcz+DGG2+0+oT3QIjrOK0jR47gwQcfDOKXXnrJamPWZ8OLiQLAPffcY/W59dZbs/r9fNIiIq8waRGRV5i0iMgrTFpE5JWMhfjwrruuwY/mrrwVFRVa7NptxiyAxtXMmTOxYsWKIDYHkgL29TMH7bl22zlx4kTwdVyLxebgUtd1Mj8Q2rVrlxa7NhoO/73MScBxMTY2hs7OziD++Mc/brVpaNA3hg63B9z3evi+jcInLSLyCpMWEXmFSYuIvBJZ0zK9/PLL1vfMCdPmJNKtW7dafc4555zp/NqiVV9fjzvvvDOIL774YquNWRswawGuRf7CE9vNmmNclJSUaPVV1yT98EBRAHj77be1eM+ePVafcB3MtaFDHJnXEbDv297eXi121a+yXViQT1pE5BUmLSLyCpMWEXklY00rPC5o/fr11s8XL16sxeGNGgBg+/btVp+4Lp5mSqVS2vihbDa2NTdbcC2mFl7MrrR0WmXLomFuNNzS0mK1MWsxHR0dWmyOOQTcC97FTTKZxLJly4LYNeZqx44dWrx//34tXrRokdXHNZbOhdmDiLzCpEVEXmHSIiKvRBY8SktLtfd+14Jz5vys8vJyLXaN4YjrBqKmVCql1QNctQGTufi/uegiwHFagL2ApbmpsOt72dT/Mm3YEAc1NTVafTu8+c2U8MYXAHD48GEtdtW0XBvnuPBJi4i8wqRFRF5h0iIirzBpEZFXIiuP5eXlWvG9v7/fahPeIRmwd39xTY6O64BH0/j4OLq6uoL43XfftdqYiwCaOyK5CprhBdfiugjg5OSk9sFGT09Pxj6nTp3SYtcOPpQeBHrw4MEgdi3quWbNmshjuHJAtvcqn7SIyCtMWkTkFSYtIvJKZHGpqqpKW7TenPQIZJ787NpNOrw5QJyNj4/jgw8+CGJzsjlgD2Y0B5e2tbVZfQYGBs7YPy5GRkawc+fOIO7u7rbahCdUA3bNlpOj3SYnJ7VF/MyBo4C9yJ+5KOB5551n9XENRHfhkxYReYVJi4i8wqRFRF6JrGlVV1fjyiuvDOLm5marzcjIiNUnzLXhZW1t7XTOsWiZNS1zjBtgL/pn1rRcf5Pw+CRzAntcJJNJ7d5zbUJh1lDMOotro5Fwn7iON6yoqMDq1auD2LXAorlJhVn7XrJkidXHdRwXPmkRkVeYtIjIK0xaROSVyJfyI0eO4Hvf+14Qu+ZimTUtc1yQq37F8S9pVVVV+OQnPxnErvd8cz6cOdfQtXBauM4V1wUX6+rqcPPNNwexa96sWdMyN2lxbfB69OjR4GulVK6n6aVEIqEtPukaq3k2G9m2t7dn1Y5PWkTkFSYtIvIKkxYReYVJi4i8ElmIHxgYwO9+97sgdhV9zV1hzSK7awBeNguyxUEymdQGNGYaKArYO0q7JkSHP/yI64Tp+vp63HnnnUHsKsSb16a1tVWLXbt37927N/g6rh8o9fT04OGHHw5i1wd0mXaLNgefAkBfX19Wv59PWkTkFSYtIvIKkxYReUWiBsiJyDEAB/4K57FAKdWQuVlx+StdX17bjw6v7UfLeX0jkxYR0d8avh4SkVeYtIjIK0xaROQVJi0i8gqTFhF55f8B6W3YH6Vl5hQAAAAASUVORK5CYII\u003d\n",
            "text/plain": [
              "\u003cFigure size 432x288 with 12 Axes\u003e"
            ]
          },
          "metadata": {
            "needs_background": "light"
          },
          "output_type": "display_data"
        },
        {
          "data": {
            "image/png": "[encoded data removed]",
            "text/plain": [
              "\u003cFigure size 432x288 with 12 Axes\u003e"
            ]
          },
          "metadata": {
            "needs_background": "light"
          },
          "output_type": "display_data"
        },
        {
          "data": {
            "image/png": "[encoded data removed]",
            "text/plain": [
              "\u003cFigure size 432x288 with 12 Axes\u003e"
            ]
          },
          "metadata": {
            "needs_background": "light"
          },
          "output_type": "display_data"
        },
        {
          "data": {
            "image/png": "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\u003d\n",
            "text/plain": [
              "\u003cFigure size 432x288 with 12 Axes\u003e"
            ]
          },
          "metadata": {
            "needs_background": "light"
          },
          "output_type": "display_data"
        },
        {
          "data": {
            "image/png": "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\u003d\n",
            "text/plain": [
              "\u003cFigure size 432x288 with 12 Axes\u003e"
            ]
          },
          "metadata": {
            "needs_background": "light"
          },
          "output_type": "display_data"
        },
        {
          "data": {
            "image/png": "iVBORw0KGgoAAAANSUhEUgAAAS0AAAD3CAYAAABIMQITAAAABHNCSVQICAgIfAhkiAAAAAlwSFlzAAALEgAACxIB0t1+/AAAADl0RVh0U29mdHdhcmUAbWF0cGxvdGxpYiB2ZXJzaW9uIDMuMC4zLCBodHRwOi8vbWF0cGxvdGxpYi5vcmcvnQurowAAHupJREFUeJzt3XuMXVW9B/Dv78z7/epz2umUFgScAkWqMYBChAqISMVHFMTyl0SjyVUwSrzG170hRNSQy32EXCKoxAQCyCMKNBa0eG15tIXadmxrH1La6cy0nc5MZ6ZzmLPuH6ez2eu3V/c503PgsM7+fpIm8zvsvc9mz+mve//Ob60lxhgQEfkiVeoTICKaCSYtIvIKkxYReYVJi4i8wqRFRF5h0iIirzBpEZFXip60ROQsEZkQkd8U+9hJJSKj6s+UiPxHqc+rXIjIYhH5vYgcFZE+EblXRCpLfV6+E5EaEblfRPaJyIiIbBKRawo97jtxp/WfAF5+B46bWMaYxuk/AOYCGAfwSIlPq5z8F4B+APMBLAdwGYCvlfSMykMlgDeQvZ4tAL4P4GERWVzIQYuatETkCwCGAPyxmMcly2eR/Qu2rtQnUkbOAPCwMWbCGNMH4BkAPSU+J+8ZY44bY35ojNlrjMkYY54GsAfARYUct2hJS0SaAfwYwG3FOiY5rQbwK8PxV8V0D4AviEi9iCwAcA2yiYuKSETmAngfgK2FHKeYd1o/AXC/MeaNIh6TQkRkEbK32g+W+lzKzJ+QvbMaBrAfwCsAflfSMyozIlIF4CEADxpjegs5VlGSlogsB3AlgF8U43h0Sl8G8KIxZk+pT6RciEgKwLMAHgPQAGAWgDYAd5XyvMrJyWv8awCTAL5e6PGKdad1OYDFAP4pIn0AbgfwGRHZWKTjU9aXwbusYmsH0AXgXmPMCWPMYQC/BPCJ0p5WeRARAXA/sl8gfcYYky74mMUojYhIPYDm0Eu3I5vEvmqMGSj4DQgicjGANQDmGWNGSn0+5UREdgO4D8DdABqRTVpjxpibSnpiZUBE/gfZb2SvNMaMFuOYRbnTMsaMGWP6pv8AGAUwwYRVVKsBPMaE9Y64AcDVAAYA7ALwFoBvlvSMyoCIdAO4Fdmk1RfqMyzoH4Oi3GkREb1bOIyHiLzCpEVEXmHSIiKvMGkRkVdiR7K3tbWZzs7OIHYV7U+nkJ9t3Xjb9u3bB40xs2d8IM/V1taahoaGIE6lcv8boq/3W2+9FdkmfH3HxsZw4sQJiWxU5hobG017e3sQuz6nmUwm9hiu30f42h45cgSjo6OJu7azZs0yixcvjt1GX+/TyRObNm1y5oXYpNXZ2Ynf/va3Qez6JY+Pj8e+cUVFRc7XVqxYsS/2IGWqoaEB1157bRDX19fn3OfEiRNWfPTo0cg2lZVv/1r/+Mdkjl1vb2/H7bffHsSu5D4xMRF7jNra2shr4Wt79913F3CG/lq8eDFeeeWVIJ6amopso1/T19+1j9bc3OzMC3w8JCKvMGkRkVdiHw+NMUin3x4q5HoU1I96TU1NsbFrn6TKZDIYGxsL4vDP03I9MtbU1MS+lk+drByJiPUoF/55muvxb6bvkVT5PN69U5L5iSYibzFpEZFXmLSIyCtMWkTkldhC/NDQEJ588skgdvUEhZtPAeDCCy+04p6e6PoAs2bNmtFJlqtMJoPjx48H8f79+yPbNDc3R16bCd3XlRSpVAqNjY1B7Cq6h/+7y9DQUOS1cG9XUgvxxph3pBDv6qVz4Z0WEXmFSYuIvMKkRUReydlcGn52XbJkSWSb0VF72udjx45ZsauRNNd4xaSYmprC8PBwELuaS3VTpK4ruppLw3WscHNwklRVVWHevHlB7KqX6M9uPjWVcB0sqU3S6XQa/f39Qfzmm29Gttm3zx42qGtg1dXVkX3CA9zj8E6LiLzCpEVEXmHSIiKvxNa0WlpacPXVVwfxoUOHItvs3r3bivVzvqt+tXfv3pmcY2K0tbVFXtO1AL2Na5+wI0eOFH5iHqqurkZ3d3cQ6xoLEP0c6vm1Fi5cGNknXCdL6mD0yclJ6+/9888/H9nmqaeesmL9OQ5fx2nnnXdeXu+fzKtORN5i0iIirzBpEZFXYmta1dXVCE9gv3bt2sg2vb29Vqyf810T4LtqY0mUTqedPS5h4T4uIFrDWrp0aWSf8MSBr732WgFnWD5c88Hr13Scq7cr18IY5SqVSlljYjs6OiLbzJ8/34p1bdU1JtY1ttn5/nltRUT0HsGkRUReYdIiIq8waRGRV2IL8RMTE9i+fXsQ51OIb21tteIrrrgiso9rsGQSpdNpHDx4MIjDq01Py1WcdBWLwwOvk1oszmQyVtHcNaGfbnjUsat4Pzg4GPyc76R15aa6utpqvHVN9Kmvt27uHRgYiOyT74SVvNMiIq8waRGRV5i0iMgrsTWt4eFhPPvss0HsaoTUTWN60jlXnWZycnJGJ1mumpub8ZGPfCSIXZPKbd682Yp1s6lr5WTKfg7DTcx9fX2RbdavX2/F4UVGAHetJtzMW8pVlksplUpZk0+6Fl/RtW19/V3XLt9JFXmnRUReYdIiIq8waRGRV2ILIiMjI1i3bl0Quybu0r0s+rnU9eya1FqA1tbWhs9//vNB7Opd0bUA/TtYsGBBZJ9wn1ZSa17pdNq6dq567KuvvmrFhw8ftmLXtQtf/6T2wAH233PX4ip6cVydF1w9Wfl+VnmnRUReYdIiIq8waRGRV2IfIsfGxvDSSy8F8aWXXhrZRten9EIXOgaAzs7OGZ1kuaqoqLB6XFy1Pr34rR7L6VoMIFy/qaqqKvQ0vVRTU2NNQOkae3jRRRdZse7TOvvssyP7hGszIlLgWfppfHwcW7ZsCeI///nPkW0effRRK9bX1tXbxT4tIipLTFpE5BUmLSLyCpMWEXklZzdXeHUd12rR4UnRAOD111+34o0bN0b2+eQnP5n3CZazVCplrZzjmvBPN+ktWbLEil2rIIeb/VyNf0lQWVmJOXPmBLHrOi1fvtyKR0ZGrNi1klRYUgvxk5OT2L9/fxBv27Ytss2GDRusuKmpyYo//OEPR/Zpb2/P6/15p0VEXmHSIiKvMGkRkVdia1rd3d34wQ9+EMR6wj8AVt0AiE72X1dXF9nHNTCYgOeeey7ymm7C08/9ria9cG0sqXUXEbEaa3VtEABaWlqsWG+jJ7IDgMbGxuDnpC7QUl9fjwsvvDCIXRN96pXPw7Vb138HgNmzZ1vxnXfe6Xx/3mkRkVeYtIjIK0xaROSV2JpWa2srrrvuuiB2LQ4QXmwUiNYFwgs3TOMkgFnGGGsytPDCuNPCkwQCwLnnnmvFrj6scF3RGFPoaXoplUpZn0VXD5Du3dITWromvQzXwZI6GF1zXaePfvSjVqwn+HPVYvNd/JZ3WkTkFSYtIvIKkxYReSXnYq1r1qwJ4pUrV0a2ufXWW61Y9650d3c7j0vZnp9LLrkkiH/4wx9Gtgn/dxc9uRoArFixIvjZ1UOTBJWVlejo6AhiV5/W/PnzY4/hqhfm6v1Kgv7+ftxzzz1B7FqkQr+WTx0737zAOy0i8gqTFhF5hUmLiLzCpEVEXoktxNfV1VmrvejmOyBaCD5w4IAVHzp0KLKPHjyZVBUVFWhrawvia665JrKNq8gZ5vqdhIueSW4uDQ9uDv88be7cuQW9R1KbS0dGRqwVePJpCp2cnLRi1xdIrkkwXXinRUReYdIiIq8ULWnt3r0bX/nKV3DttdfixhtvxLp164p16MQ7cuQIbrzxRsybNw89PT14+OGHS31KZeXyyy9HbW0tGhsb0djY6FyklWZu27ZtwZ+dO3dix44d6O/vL/i4ElfzEJEBAPvyPNYyAAMADgFoAnAmgG0A4osyWd3GmNm5NysvM7i+ZwAQAHsB1CN7bXsBRAtaUby2uZ0N4DCAwVwbKry2+UsBuADATgCjee7jvL6xSStfIrIMwHoATebkAUXkOQAbjDHfL/gNEkxEGgAcBbDMGLPj5Gu/BvCmMea7JT25MiEiLwD4jTHmf0t9LuVKRFYD+AGApabApFOsx0PXnL6C7N0XFeZ9AKamE9ZJrwHoKdH5lKs7RWRQRP4iIpeX+mTK0GoAvyo0YQHFS1q9APoBfFtEqkTk4wAuQ/ZRhgrTCOCYeu0Yso/gVBzfAbAEwAIA9wF4SkSik5jTaRGRRcjmgweLcbyiJC1jTBrAKgDXAugDcBuAhwHsj9uP8jIKQM+Y1gxgxLEtnQZjzAZjzIgx5oQx5kEAfwHwiVKfVxn5MoAXjTF7inGwon17aIx53RhzmTGmwxhzFbL/cr1UrOMn2A4AlSJyVui1CwBsLdH5JIGBu+RBp+fLKNJdFlDEpCUi54tIrYjUi8jtAOYDeKBYx08qY8xxAI8B+LGINIjIJQCuB/Dr0p5ZeRCRVhG56uRnt1JEbgLwUQDPlvrcyoGIXIzsY/cjxTpmMZtLbwZwENna1hUAVhpj8ml3oNy+BqAO2Wv7WwBfNcbwTqs4qgD8G7LtOoMAvgFglTHm7yU9q/KxGsBjxpiilTOK0vJARPRu4TAeIvIKkxYReYVJi4i8wqRFRF6JnQSwoqLChCc6E4m2rnR1dVmxa+XYXF599dXBJA48bWlpMXPmzJnRPnrCNdcqJ+HVfAcGBjAyMpK4nqPm5mbr2qZSuf991l9KuT7vFRUVwc8HDx7E0NBQ4q5tR0eHWbRoURDn82Wevv6u30cmk7HiTZs2OfNCbNKqqqqykpJryaS7777biq+66iordv2lCv/iAUBEZjpivCzMmTMHv/jFL4JYXxcgev307I7HjukRPrCWzvre975X6Gl6ac6cOfjpT38axHV1dTn30f8guJYQC/+jfMstt5z+CXps0aJFeP7554M4n+XB9NKCTU3RUWgjI3ZXRHNzszMv8PGQiLzCpEVEXol9PKypqcGZZ5759saV0c31wgr79tl3dK5J71233UlkjMl5a60fGfN5zAkv4uB65EyC07m2OnaVQ8KPOa6aVxJMTEygt7d3Rvvov/Otra2RbfTiF6fCOy0i8gqTFhF5hUmLiLzCpEVEXoktxDc3N+PKK68MYldRfWhoyIpfeeUVK3bt4ypwJpExxlpB2vUFhS4O6wLm7NnRntxwsd715UkSZDIZjI+PB7Fe+RyIFn71KtS6twgAxsbGgp9HR/NdVKa8jI6O4q9//WsQuz63+ksQfS3DK6tPy/dLI95pEZFXmLSIyCtMWkTkldiCR319PZYvXx7ErvqUfq7X27hqKklteNQymYxV03I11+lrFR5XCLibTfMZC1buUqmUdW30mE2XhoYGK3Zd276+vuBnXues8Gd4mh5HqOte9fWnv7og77SIyCtMWkTkFSYtIvJKbE2rrq4uZ01r7969VqwHUOveF4ADpqcZY5BOp4P4+PHjkW30xGi6FuAaeBo+TpLrLuH/d1d9Ktfgc9dn9/zzzw9+LqQu47NMJmN9xlz9aocOHbJiXZsNf+6ntbS05PX+vNMiIq8waRGRV5i0iMgrsTWtdDqN/fv3B7GrprVmzRor1s+yCxcujOzjqsMk0fj4OLZs2RLErkUudF+WriH+/e/R1dvDfTOuOlkSDA0N4YknngjiwcHByDZ6PFx7e7sVX3zxxZF9VqxYEfwcXvQlSSYnJ63P4datWyPb7NmzJ/YY55xzTuS1D3zgA3m9P++0iMgrTFpE5BUmLSLyCpMWEXklthCvC8WuRsWHHnrIivUqHcuWLYvs4yrOJ9Hx48exfv36IF65cmVkG/2lxd/+9jcr3rhxY+x7uBZzTYKJiQns3LkziF0TT+rCu56YrrOzM7JPeNLFpE6wmEqlrMba01kI1/UFkeuLPuf757UVEdF7BJMWEXmFSYuIvBL7UK5X6XU9c+r6lH7ODw+4njZv3jwrfuaZZ3KfaRmampqyBpvqRlIAWLJkiRW/+OKLVqybTQF7QLprYGoSueous2bNsuKuri4rXrx4cWSf8GIZejB7UtTU1OCss84KYlde0BNa6kkBXQuyNDc35/X+vNMiIq8waRGRV5i0iMgrM2o0cT276ud+XeNy1bQ4YDork8lYi3/qviHAXVcJe/PNNyOvNTU1BT/n2/tSbqampqyFhPVAfiC62MXw8LAVu659uFYT/t0lSXV1NRYtWhTErs/Y2rVrrVhf/56ensg++eYF3mkRkVeYtIjIK0xaROSV2JpWKpWyxmy5JvrXwnUEANi1a1dkm3yOkwQiYvW1ufp+dJ+V7oML16+mhXuSwn1FSVJfX4+LLrooiPv7+yPb6N6h7du3W7FevBWwJ1jUNbCkqKystHoKXddBX1udF1w9WfkuFMI7LSLyCpMWEXmFSYuIvMKkRUReydlcGi78ulaG1oVhvcJ0X19fZB8W4rP0ZGquZsXDhw9bsV4BZu7cuc7jTkvqJICtra341Kc+FcT6cwlEJ1TctGmTFbsaUnNNIJAEU1NTVqHdNTmoXlFaD1h3NZLm26zLOy0i8gqTFhF5hUmLiLwSW9PSK8m6JvLXCwboQaau+pVrkYEkqq6uxoIFC4I4vIjItIMHD1qxbha99NJLI/uEGyBdKysnwdDQEJ588skg1pPSAcDAwIAV67rX+eefH9nnggsuCH5+7bXXCj1NL+nB6LqRFIA1oBqI1l71IiKnes2Fd1pE5BUmLSLyCpMWEXkltqaVTqetPitXX4quc+nFAlz9GEld5FKrq6uzJkk8cuRIZJs33njDivXiC+eee25kn/BCmOvWrSv0NL301ltvWdfTdR10Deviiy+2Yn2tAbvuktTP8dTUlDWBop5MEYjWA3Ud29Vf6HrNhXdaROQVJi0i8gqTFhF5JfahPJPJWIuJup7h9Wv5POfrcUlJ1d7ejs997nNB7Op30XUXPfbQdS3DPUn5TqxWbs444ww88MADQVxdXR3ZRtdi9FjEHTt2RPZ5/PHHT7l/UlRUVFi1PddElLq2rccnuj63eqLAU+GdFhF5hUmLiLzCpEVEXmHSIiKv5CzEhwvBHOhcXHV1ddYAXNegXj1AWk+U5lptJ9wErAv3SZFOp3HgwIEgDjfcTtMrwqxcudKKP/3pT0f26e3tDX7euHFjoafpJT15pevLHn1tw4P4XTGQ/+pGvNMiIq8waRGRV4o6eKq3txfr16/HsWPH0NjYiFWrVqGnp6eYb5E4J06cwG233YYXXngBQ0ND6O7uxh133IGPfexjpT61snHgwAHceeed2Lp1K6qrq7Fq1SrcddddpT6tsvDGG2/gvvvuw65du9Dc3IwvfelL+NCHPlTQMcUYc+r/KDIAYF+ex2oG0A1gN4DjAKaLKelT7vG2bmPM7Dzfp2zkeX1TAOYBGAQwCaAFwBIAW0/GufDa5nYmgLdObl8B4H3IXu/ostQ2XtvclgEYAHAIQBOy13obgGhRK8p5fWOT1kyIyP8BuN8Yc39RDkinJCKvA/iRMebRUp9LORCR7QBuM8b8/mT8UwDNxphbS3tmfhORZQDWA2gyJxONiDwHYIMx5vune9yi1LREpALACgCzRWSXiOwXkXtFpC7XvjQzIjIX2TuBraU+lzJyD4AviEi9iCwAcA2AZ0p8TuVATvHaskIOWqxC/FxkHwc/C+AjAJYDuBDAvxbp+ARARKoAPATgQWNMb67tKW9/AtADYBjAfgCvAPhdSc+oPPQi+4j9bRGpEpGPA7gMQEEDYouVtKabhf7DGHPQGDMI4OcAPlGk4yeeiKQA/BrZOtbXS3w6ZePkdX0WwGMAGgDMAtAGgJX4Ahlj0gBWAbgWQB+A2wA8jOw/DKetKEnLGHP05IkUp0BGFhERAPcje0f7mZMfBiqOdgBdAO41xpwwxhwG8EvwH9yiMMa8boy5zBjTYYy5CtkvkV4q5JjF7NP6JYBviMgcEWkD8C8Ani7i8ZPsvwGcC+A6Y0y0BZ5O28mngj0AvioilSLSCmA1gGSuD1ZkInK+iNSerBfeDmA+gAcKOWYxk9ZPALwMYAeA7QA2Afj3Ih4/kUSkG8CtyNYJ+0Rk9OSfm0p8auXkBgBXI/vV/C5k2x++WdIzKh83AziIbG3rCgArjTH5tDucUtFaHoiI3g0cxkNEXmHSIiKvMGkRkVeYtIjIK7GzPHR0dBjXKrthupCv41QqmhezbUdv27x582ASB542NDSY9vb22G1yXU99LQF7RaSBgQEMDw+7hlOUtfb29pyfXb1CTD4ymUzw84EDBzA0NJS4a1tfX29aWlpit9GrcunPbT55Yc+ePc68EJu0urq6sGbNmtg30jMQhn+pQHZ2zsibqv+h1tbWfEeMl5X29nZ861vfit0mnbb7SPXssa6ZSWfPfvv3/J3vfKeAM/RXV1cX/vCHP8RuE14eD7BnfD2V8Of9ppuS2XXS0tKC1atXx26jlxDTM5m6lnTTn+0vfvGLzrzAx0Mi8gqTFhF5Jfbx0BhjPZ64HvVqampi3yCfZ9ekqq2txVlnnRXE+ay8rWtgTzzxRGSb8OIL+hEoKaampnKuWJxr1ePW1tbIPuGFXpK6UnoqlbIe91y1Qf2op3NHQ0NDZB/Xa873z2srIqL3CCYtIvIKkxYReYVJi4i8krMQH+67chXVdSFeb+PqfXEdJ4lSqRSamppit+no6LBi3Zf1wQ9+MLJPX19f8HNSVwWfnJy0Vph20Z/duXPnWnFnZ2dkn3DROdeXUOWqsrLS6sNyrYyum0/b2tqsWPdxASzEE1GZYtIiIq8waRGRV2JrWpWVlc4GuzBdY3GNhdNOZ6BqOZqYmMC2bduC2NWsuGLFCivW1/f9739/ZJ/w2ENXQ3ASVFRUWDUSPd7V9ZqO9bhaLamz/k5OTmL37t1BfPz48cg2+nOqa1xLliyJ7LNw4cK83p93WkTkFSYtIvIKkxYReSW2ppVOpzEwMBDEhw4dynlA/Zzv6tPS/TBJpQeku2p9IyMjscfQ8xQBdk3LVctJgpqaGixdujR2m/DgZ5fDhw87jzstqbVZ3QM3PDwc2Ub3YuqalqtXM596OMA7LSLyDJMWEXmFSYuIvBJb8JicnMSePXuCeP369TkPqOeI13OcA9Heo6Sqrq5Gd3d3ELvGyr388stWrK/vlVdeGdkn3FuX1AkX0+m0VYN11WPDYzQBoL+/34qPHTsW2Sdcjz169Gihp+mlqakp6//d9XdcjzXUc8K76mCDg4N5vT/vtIjIK0xaROQVJi0i8gqTFhF5JbYQPzExgZ07dwbx448/HtlGD3KcP3++FTc2NjqPS9lC79NPPx3ErpV19Ioyuuj5wAMPRPY577zzgp+T2gB54sQJ/OMf/wjiTZs2RbYJD1bPJwaAZcuWBT/rwn1S6KZoVwFdf0mhJ/hzDZjOt+mcd1pE5BUmLSLyCpMWEXkltqaVyWQwNjYWxLoZD4g+q+oalmtiO9cg6iQaGxvDxo0bg7i+vj6yTXgFagDYsmWLFd9yyy2Rfe64447g56Q2QGYyGWt1bdfnUE+gqD/Lrs9puHE3qYPRjTFWrXTv3r2RbfRgc73AimsRi56enrzen3daROQVJi0i8gqTFhF5JedireHn+nxqUbovyDWRWrjWkGQLFizAXXfdFbuN7mn7+c9/bsUvvvhiZJ9w/SCpC+NOTU1ZCy646k+6pqX7hFyf3fBxklrTam1txfXXXx/Ey5cvj2wT7pEDop/jc845J7KPawFXl2R+oonIW0xaROQVJi0i8sqM+rRcvRVz5syxYt2PsXbt2sg+HR0dMzrJclVdXY3Ozs4gdk1UFx77CcDq6wLscYbTwhML6snXkiRcX3UtvPrPf/7TivX1379/f2SfcJ9WUvsNa2trrZqUa3yxXiRYT6jY1dUV2ce1SIsL77SIyCtMWkTkFSYtIvIKkxYReWVG3XHj4+OR1w4ePGjFemDqvn37IvskdRCvNjo6ig0bNgSxa9I5PQmgLrzffPPNkX3CA091QTRJXIOkw/TkdboQPzk5Gdkn3FCa1JWOxsfHsXnz5iDu7e2NbHPkyBErDq/MDbgL8fl+acQ7LSLyCpMWEXmFSYuIvBJb00qlUtbEdHrVWCA7qDpMN/G5Gkldx0mio0eP4pFHHgliV01LP/svXbrUiltaWiL7JHWQdFhNTY11rXTTMwBrQLVrG9eA6AULFgQ/b926tdDT9FJlZaU1uNy1eIp+TddWww3Q0/LNC/x0E5FXmLSIyCtMWkTkldiaVm1trbWwwne/+93INnqwpO7HcA1U1Qu83nvvvbnPtAxNTk5afWwDAwORbfQg9aamJit2DUgPc13/JKiqqsq5+KfugdOfXdekdOEJApLaA9fY2IhLLrkkiF39cPo1Hbt64PLFOy0i8gqTFhF5hUmLiLySc+xhuOcnPAHaNL3AaFVVlRW7nvt1f0xStbW14YYbbghi12K4uXqJXPWEdDod/Kz76JJCRKxr45rAUi+2oHuLdI0L4KIhQLZPK9xTFf68TdOfU32tMpnMab9/Mq86EXmLSYuIvMKkRUReYdIiIq/kXGE63JzoKp7pJjFdcHM1N7omE0yizs5O/OhHP4rdRhfidXOpawWfcBH0Zz/7WQFn6LfwgGfXgGn9ml5dx1WI5ySA2b/j4aZy199n/QWc/oKOhXgiSgwmLSLyCpMWEXlF4poPRWQAQHRliuLrNsbMfhfe5z3lXbq+vLbvHF7bd5bz+sYmLSKi9xo+HhKRV5i0iMgrTFpE5BUmLSLyCpMWEXnl/wHh0ik26La0jAAAAABJRU5ErkJggg\u003d\u003d\n",
            "text/plain": [
              "\u003cFigure size 432x288 with 12 Axes\u003e"
            ]
          },
          "metadata": {
            "needs_background": "light"
          },
          "output_type": "display_data"
        },
        {
          "data": {
            "image/png": "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\u003d\u003d\n",
            "text/plain": [
              "\u003cFigure size 432x288 with 12 Axes\u003e"
            ]
          },
          "metadata": {
            "needs_background": "light"
          },
          "output_type": "display_data"
        },
        {
          "data": {
            "image/png": "[encoded data removed]",
            "text/plain": [
              "\u003cFigure size 432x288 with 12 Axes\u003e"
            ]
          },
          "metadata": {
            "needs_background": "light"
          },
          "output_type": "display_data"
        },
        {
          "data": {
            "image/png": "iVBORw0KGgoAAAANSUhEUgAAAS0AAABeCAYAAAB2IkI1AAAABHNCSVQICAgIfAhkiAAAAAlwSFlzAAALEgAACxIB0t1+/AAAADl0RVh0U29mdHdhcmUAbWF0cGxvdGxpYiB2ZXJzaW9uIDMuMC4zLCBodHRwOi8vbWF0cGxvdGxpYi5vcmcvnQurowAACp5JREFUeJzt3V9sVFkdB/Dvb6b/pgOUDqUFC2v544JgpSR9IBCyD0YEN0TU8CfqxjeTXUwIURIflhfji0/GsOqbbqJEsgm4EmP0hWDQBMgSgmCgtGCbUlqg0BampdNO5/gwcPeecw8zU3t3Z8+938/T/KZnbk9vp7/e+5vzR5RSICJyRaLaHSAimg8mLSJyCpMWETmFSYuInMKkRUROYdIiIqcwaRGRU0JLWiKSEZE/icikiAyIyHfCOnbciUiHiPxVRMZEZERE3hORmmr3KypE5Isick5EJkSkT0S+We0+RYWI/FBEPhKRnIi8H8Yxw7zS+hWAGQBtAL4L4DcisjnE48fZrwE8BLASQBeANwC8U9UeRcSL5P9nAH8BkAHwAwB/EJHXq9qx6LgP4GcAfhvWAUNJWiKSBvBtAMeVUlml1D8BnAXwVhjHJ6wB8IFSalopNQLgbwD4DyEcGwF8DsAvlFJzSqlzAP4FvndDoZQ6o5T6EMDjsI4Z1pXW6wDmlFK3fc9dA/+wwvJLAIdEpFFE2gHsQTFx0cLJK5770qfdEapMWElrEYAJ47kJAItDOn7c/QPFfwBPAdwD8BGAD6vao+i4heKt9zERqRWRXSjefjdWt1v0KmElrSyAJcZzSwA8C+n4sSUiCQB/B3AGQBpAC4BmAD+vZr+iQik1C2AfgDcBjAD4EYAPUPznQJ9BYSWt2wBqROQLvue2APhPSMePswyA1QDeU0rllFKPAfwOwNer263oUEr9Wyn1hlJqmVLqawDWArhc7X6RXShJSyk1ieKVwE9FJC0iOwB8A8Dvwzh+nCmlRgH8F8DbIlIjIksBfB/FmiGFQES+LCINL2qGP0bxU9r3q9ytSHjxnm0AkASQfHGeFzRcJ8whD+8ASKFYH/gjgLeVUrzSCse3AOwG8AhAH4A8gKNV7VG0vAVgGMX37lcAfFUplatulyLjXQDPAfwEwPdePH53IQcULgJIRC7hNB4icgqTFhE5hUmLiJzCpEVETmHSIiKnlBwvkU6nVSaT8eJKPmlMJpNaPDc3F2iTSOi5cnBwcFQptbzswSOmpaVFdXR0hH5c/+9pYGAAo6Ojtvl1kdbc3Kza29u92PbeLRQK8z6u/717//59jI2Nxe7cNjU1qba2Ni+2/Y2b57ampqbk14FgXujr67PmhZJJK5PJ4OjRj4cD2TpnWrJEn83z9OnTQJv6+notPnLkyEDZA0dQR0cHLl8Of+C1//e0bdu20I/vgvb2dpw+fdqLp6enA21sz/mZf0QA0NDQ4D0+dOjQAnrorra2Npw4ccKLs9lsoM3U1JQWt7S0lPw6EMwLe/futeYF3h4SkVOYtIjIKSVvD3O5HO7evevFZr3K9px5iTc8PBx4zczMzLw6SfPj/52IxK7kAqB4i+wvTdhqKOb7cHZ2tmQM6LeUuVw8Z/rMzMxgcHDQi21lI/PcmLeDtnPb2FjZakC80iIipzBpEZFTmLSIyClMWkTklJKF+Lm5OTx58sSL0+l0oI1ZeDfZiu62sVtx5R8LVMlgR3Ps0P8zQDIOCoWCVvyt5MMfszg8OTkZaPPo0aNXto+L2dlZjIyMeLE5cNTGLNbbPsSwjfey4ZUWETmFSYuInMKkRUROKXkzWlNTg+XLP56vaKtfmXMNzQFizc3NgdfYnoujfD6Phw8fenFdXV2gzfPnz7W4kjqKv+4V14G8SintZ7fNdTPrLGbNdtmyZYHX+NvYfl9xkEwmsXTpUi02me9T82/e9j6utD7LKy0icgqTFhE5hUmLiJxSsqZVX1+PdevWefHY2Ji1jZ9ZJ+js7Ay8hjWtovHxcZw9e9aLN2zYEGjT09NTMrbVE/zn1z/OLk7MSb03btwItOnv79fipqYmLbYt0NjV1eU9juv2e+l0Gt3d3V5sywtDQ0Na3NraqsW2HMCaFhFFEpMWETmFSYuInFKypjU5OYmLFy968e3btwNtys093Ldv37xfExfZbBYXLlzwYlt96vz581p87tw5LbatY75mzRrv8cTExAJ76aZcLoe+vj4vvnTpUqDNrVu3tNi//jtgrzH6xy3Gde5hKpXCli1bvPjatWuBNr29vVps1qtee+21wGsqfa/ySouInMKkRUROYdIiIqcwaRGRU0oW4qempnD16lUvfvDgQaCNf6dZIFjc3LRpU+A1toJzHNXW1mLlypVe7C/yvmSeK3MBRXPCOqAP3IvruZ6ZmcG9e/e82Bw4CgCHDx/WYn/hHghOVgegfTBV6aJ1UZNIJJBKpbzYtqCffyEAoLjxs5/t3LEQT0SRxKRFRE5h0iIip5SsaSWTSe1edNeuXYE2e/bs0eJjx46V/ab+RfHjzKxprVixItDGXGjO3GyhXE2rkk0HoqhQKODZs2debJvUm8/nS8a2Gov/ubgOLjXZBjj7zz0QXIzStit1pQtW8kqLiJzCpEVETmHSIiKnlCx4VDKOaO3atVq8devWst/UVl+Io2QyqdWfamtrA238k58BYPv27Vps23xh/fr13uO4Tk43z62tjjo8PKzF/o1YAfumwv76ja0uEweFQkEbw2ZbvM98btGiRVpsTk4HKq+/8kqLiJzCpEVETmHSIiKnlN2s1V8X8G/Q+JI5p2jVqlVabI59AezjkeLIPL+2zT/NmtbOnTu12DZOy1/TstUO4iCTyeDgwYNefOfOnUAb/8YXQHAzBlutxn++beOT4kBEyv7sZr3PPJe2MW62mq5NPM86ETmLSYuInMKkRUROYdIiIqeULMQnEgksXrzYi20LqTU2Nmqxueic+XUA2LFjx7w6GVX5fF4baGtbdM6cePr48WMttg1wnJ6e9h5Xumtv1JiT/W3nyfxgaXx8XIttHyL5F7yL6w7TpkqK6mabhUw255UWETmFSYuInMKkRUROKTtDcb6TQs1F6myvb29vn9cxoyqfz2N0dNSLzXMHBDcTMTdf8E9of8k/wDfOk3qnpqa82HZuTf7NGgD7YGp/3Suug0uVUlqt1JwMDQR3kDbb2Cby2+rfNvE860TkLCYtInIKkxYROaVkTSuXy2FgYMCLb968GWhz/fp1Lb5y5YoW7969O/Ca3t7eeXUyqhKJhHavbxu7kk6ntdisFdgmTFOxXujfMPTMmTOBNqdOndJic/K/baNh/+YuPT09C+2ms/y10tbW1sDXu7u7tdisF9rqYJVO7ueVFhE5hUmLiJzCpEVETilZ00qlUtp9fX9/f9kDdnV1abFtowvWYYrq6uq0cVa2MVXmoopmLaDcOCwRWUAP3dXQ0ICNGzd6sa226p9XCwQXp1y9enXgNZs3b/Yenzx5cqHddNL09LRWz7PVYs33pbmZTTabDbym0vmIvNIiIqcwaRGRU5i0iMgpTFpE5JSShfjm5mYcOHDAi207Q5u7TpuTHm27UpsF0LhKJBLa4FFbUd380MIcpGcraJoLB8ZRKpVCZ2enF/sL6C/t379fiyuZsOtfBNAc+BsXQ0NDOH78uBfbduI234P+yeuAPZeYC1y+Cq+0iMgpTFpE5BQmLSJyipRanF9EHgEYeGWD8HxeKRUsfkXcp3R+eW4/OTy3nyzr+S2ZtIiIPmt4e0hETmHSIiKnMGkRkVOYtIjIKUxaROSU/wHGIV+cS27N0gAAAABJRU5ErkJggg\u003d\u003d\n",
            "text/plain": [
              "\u003cFigure size 432x288 with 4 Axes\u003e"
            ]
          },
          "metadata": {
            "needs_background": "light"
          },
          "output_type": "display_data"
        }
      ],
      "source": [
        "\"\"\"\n",
        "    Demonstração do recorte das imagens.\n",
        "\"\"\"\n",
        "fig \u003d plt.figure()\n",
        "for index, num in enumerate(training_data):\n",
        "    if index % 12 \u003d\u003d 0:\n",
        "        fig \u003d plt.figure()\n",
        "    img_data \u003d num[0]\n",
        "    img_label \u003d num[1].argmax()\n",
        "\n",
        "    y \u003d fig.add_subplot(3, 4, (index)%12 + 1)\n",
        "    y.imshow(img_data, cmap\u003d\"gray\")\n",
        "    plt.title(img_label)\n",
        "    y.axes.get_xaxis().set_visible(False)\n",
        "    y.axes.get_yaxis().set_visible(False)\n",
        "    if index+1 % 12 \u003d\u003d 0:\n",
        "        plt.show()\n",
        "plt.show()"
      ]
    },
    {
      "cell_type": "code",
      "execution_count": 8,
      "metadata": {
        "pycharm": {
          "is_executing": false,
          "metadata": false,
          "name": "#%%\n"
        }
      },
      "outputs": [
        {
          "name": "stdout",
          "output_type": "stream",
          "text": [
            "curses is not supported on this machine (please install/reinstall curses for an optimal experience)\n",
            "Scipy not supported!\n",
            "WARNING:tensorflow:From C:\\Venvs\\tcc\\tcc-test\\lib\\site-packages\\tensorflow\\python\\framework\\op_def_library.py:263: colocate_with (from tensorflow.python.framework.ops) is deprecated and will be removed in a future version.\n",
            "Instructions for updating:\n",
            "Colocations handled automatically by placer.\n",
            "WARNING:tensorflow:From C:\\Venvs\\tcc\\tcc-test\\lib\\site-packages\\tflearn\\layers\\core.py:239: calling dropout (from tensorflow.python.ops.nn_ops) with keep_prob is deprecated and will be removed in a future version.\n",
            "Instructions for updating:\n",
            "Please use `rate` instead of `keep_prob`. Rate should be set to `rate \u003d 1 - keep_prob`.\n",
            "WARNING:tensorflow:From C:\\Venvs\\tcc\\tcc-test\\lib\\site-packages\\tflearn\\objectives.py:66: calling reduce_sum_v1 (from tensorflow.python.ops.math_ops) with keep_dims is deprecated and will be removed in a future version.\n",
            "Instructions for updating:\n",
            "keep_dims is deprecated, use keepdims instead\n",
            "WARNING:tensorflow:From C:\\Venvs\\tcc\\tcc-test\\lib\\site-packages\\tensorflow\\python\\ops\\math_ops.py:3066: to_int32 (from tensorflow.python.ops.math_ops) is deprecated and will be removed in a future version.\n",
            "Instructions for updating:\n",
            "Use tf.cast instead.\n"
          ]
        }
      ],
      "source": [
        "import tflearn\n",
        "from tflearn.layers.conv import conv_2d, max_pool_2d\n",
        "from tflearn.layers.core import input_data, dropout, fully_connected\n",
        "from tflearn.layers.estimator import regression\n",
        "# {64, 64, 128,128, 256,256, 512, 512}\n",
        "convnet \u003d input_data(shape\u003d[None, IMG_SIZE_LINHA, 6, 1], name\u003d\u0027input\u0027)\n",
        "\n",
        "convnet \u003d conv_2d(convnet, 64, 2, activation\u003d\u0027relu\u0027, weights_init\u003d\"xavier\") # 64\n",
        "convnet \u003d conv_2d(convnet, 64, 2, activation\u003d\u0027relu\u0027, weights_init\u003d\"xavier\") # 64\n",
        "convnet \u003d max_pool_2d(convnet, 2)\n",
        "\n",
        "convnet \u003d conv_2d(convnet, 128, 2, activation\u003d\u0027relu\u0027, weights_init\u003d\"xavier\") # 128\n",
        "convnet \u003d conv_2d(convnet, 128, 2, activation\u003d\u0027relu\u0027, weights_init\u003d\"xavier\") # 128\n",
        "convnet \u003d max_pool_2d(convnet, 2)\n",
        "\n",
        "convnet \u003d conv_2d(convnet, 256, 2, activation\u003d\u0027relu\u0027, weights_init\u003d\"xavier\") # 256\n",
        "convnet \u003d conv_2d(convnet, 256, 2, activation\u003d\u0027relu\u0027, weights_init\u003d\"xavier\") # 256\n",
        "convnet \u003d max_pool_2d(convnet, 2)\n",
        "\n",
        "convnet \u003d conv_2d(convnet, 512, 2, activation\u003d\u0027relu\u0027, weights_init\u003d\"xavier\") # 512\n",
        "convnet \u003d max_pool_2d(convnet, 2)\n",
        "\n",
        "convnet \u003d conv_2d(convnet, 512, 2, activation\u003d\u0027relu\u0027, weights_init\u003d\"xavier\") # 512\n",
        "convnet \u003d max_pool_2d(convnet, 2)\n",
        "\n",
        "\n",
        "convnet \u003d fully_connected(convnet, 1024, activation\u003d\u0027relu\u0027, weights_init\u003dtflearn.initializations.truncated_normal(stddev\u003d0.005))\n",
        "convnet \u003d dropout(convnet, 0.5)\n",
        "convnet \u003d fully_connected(convnet, 2048, activation\u003d\u0027relu\u0027, weights_init\u003dtflearn.initializations.truncated_normal(stddev\u003d0.005))\n",
        "convnet \u003d dropout(convnet, 0.5)\n",
        "\n",
        "convnet \u003d fully_connected(convnet, 10, activation\u003d\u0027softmax\u0027, weights_init\u003d\"xavier\")\n",
        "convnet \u003d regression(convnet, optimizer\u003d\u0027adam\u0027, learning_rate\u003dLEARNING_RATE, loss\u003d\u0027categorical_crossentropy\u0027, name\u003d\u0027targets\u0027)\n",
        "\n",
        "model \u003d tflearn.DNN(convnet, tensorboard_dir\u003d\u0027log\u0027)\n",
        "\n"
      ]
    },
    {
      "cell_type": "code",
      "execution_count": 27,
      "metadata": {
        "pycharm": {
          "is_executing": false,
          "metadata": false,
          "name": "#%%\n"
        }
      },
      "outputs": [],
      "source": [
        "if os.path.exists(f\"{MODEL_NAME}.meta\"):\n",
        "    model.load()\n",
        "    print(\"Modelo Carregado Com Sucesso!\")"
      ]
    },
    {
      "cell_type": "code",
      "execution_count": 9,
      "metadata": {
        "pycharm": {
          "is_executing": false,
          "metadata": false,
          "name": "#%%\n"
        }
      },
      "outputs": [
        {
          "name": "stdout",
          "output_type": "stream",
          "text": [
            "[[array([[100, 100,  99, 102, 110, 112],\n",
            "       [ 95,  97, 100, 103, 108, 108],\n",
            "       [ 85,  93, 103, 106, 103, 103],\n",
            "       [ 84,  90,  97,  99,  96,  98],\n",
            "       [ 88,  88,  88,  87,  88,  92],\n",
            "       [ 74,  73,  71,  69,  69,  74],\n",
            "       [ 55,  55,  53,  50,  48,  53],\n",
            "       [ 63,  64,  69,  68,  61,  60],\n",
            "       [ 70,  73,  85,  85,  73,  68],\n",
            "       [ 64,  65,  68,  67,  62,  64],\n",
            "       [ 61,  60,  56,  54,  54,  62],\n",
            "       [ 66,  65,  61,  60,  62,  68],\n",
            "       [ 71,  69,  66,  65,  66,  70],\n",
            "       [ 71,  70,  67,  65,  65,  67],\n",
            "       [ 72,  70,  67,  65,  64,  65]], dtype\u003duint8)\n",
            "  array([0, 0, 1, 0, 0, 0, 0, 0, 0, 0])]\n",
            " [array([[ 93, 101, 105, 104, 104, 106],\n",
            "       [102, 106, 107, 106, 105, 105],\n",
            "       [115, 115, 115, 112, 109, 107],\n",
            "       [127, 132, 137, 130, 122, 117],\n",
            "       [118, 116, 107, 113, 118, 117],\n",
            "       [104,  97,  69,  90, 110, 114],\n",
            "       [ 99,  95,  58,  82, 105, 111],\n",
            "       [101,  94,  53,  80, 106, 114],\n",
            "       [105,  95,  52,  80, 109, 116],\n",
            "       [105,  99,  55,  82, 108, 115],\n",
            "       [105, 100,  56,  83, 110, 119],\n",
            "       [108, 102,  62,  87, 112, 122],\n",
            "       [120, 113,  88,  99, 112, 119],\n",
            "       [114, 115, 109, 113, 118, 121],\n",
            "       [106, 114, 124, 124, 123, 125]], dtype\u003duint8)\n",
            "  array([0, 1, 0, 0, 0, 0, 0, 0, 0, 0])]\n",
            " [array([[188, 206, 222, 225, 225, 226],\n",
            "       [200, 214, 228, 230, 230, 230],\n",
            "       [216, 224, 232, 234, 234, 232],\n",
            "       [233, 233, 232, 233, 233, 230],\n",
            "       [233, 230, 220, 212, 221, 216],\n",
            "       [232, 217, 194, 180, 208, 208],\n",
            "       [227, 198, 162, 150, 195, 207],\n",
            "       [216, 172, 132, 130, 184, 214],\n",
            "       [194, 161, 140, 146, 190, 218],\n",
            "       [171, 139, 124, 132, 179, 212],\n",
            "       [163, 133, 115, 115, 167, 206],\n",
            "       [201, 186, 165, 133, 175, 212],\n",
            "       [217, 211, 200, 174, 199, 219],\n",
            "       [219, 222, 220, 208, 217, 225],\n",
            "       [212, 221, 228, 229, 228, 229]], dtype\u003duint8)\n",
            "  array([0, 0, 0, 0, 1, 0, 0, 0, 0, 0])]]\n",
            "[[[100 100  99 102 110 112]\n",
            "  [ 95  97 100 103 108 108]\n",
            "  [ 85  93 103 106 103 103]\n",
            "  [ 84  90  97  99  96  98]\n",
            "  [ 88  88  88  87  88  92]\n",
            "  [ 74  73  71  69  69  74]\n",
            "  [ 55  55  53  50  48  53]\n",
            "  [ 63  64  69  68  61  60]\n",
            "  [ 70  73  85  85  73  68]\n",
            "  [ 64  65  68  67  62  64]\n",
            "  [ 61  60  56  54  54  62]\n",
            "  [ 66  65  61  60  62  68]\n",
            "  [ 71  69  66  65  66  70]\n",
            "  [ 71  70  67  65  65  67]\n",
            "  [ 72  70  67  65  64  65]]\n",
            "\n",
            " [[ 93 101 105 104 104 106]\n",
            "  [102 106 107 106 105 105]\n",
            "  [115 115 115 112 109 107]\n",
            "  [127 132 137 130 122 117]\n",
            "  [118 116 107 113 118 117]\n",
            "  [104  97  69  90 110 114]\n",
            "  [ 99  95  58  82 105 111]\n",
            "  [101  94  53  80 106 114]\n",
            "  [105  95  52  80 109 116]\n",
            "  [105  99  55  82 108 115]\n",
            "  [105 100  56  83 110 119]\n",
            "  [108 102  62  87 112 122]\n",
            "  [120 113  88  99 112 119]\n",
            "  [114 115 109 113 118 121]\n",
            "  [106 114 124 124 123 125]]\n",
            "\n",
            " [[188 206 222 225 225 226]\n",
            "  [200 214 228 230 230 230]\n",
            "  [216 224 232 234 234 232]\n",
            "  [233 233 232 233 233 230]\n",
            "  [233 230 220 212 221 216]\n",
            "  [232 217 194 180 208 208]\n",
            "  [227 198 162 150 195 207]\n",
            "  [216 172 132 130 184 214]\n",
            "  [194 161 140 146 190 218]\n",
            "  [171 139 124 132 179 212]\n",
            "  [163 133 115 115 167 206]\n",
            "  [201 186 165 133 175 212]\n",
            "  [217 211 200 174 199 219]\n",
            "  [219 222 220 208 217 225]\n",
            "  [212 221 228 229 228 229]]]\n",
            "[[[[100]\n",
            "   [100]\n",
            "   [ 99]\n",
            "   [102]\n",
            "   [110]\n",
            "   [112]]\n",
            "\n",
            "  [[ 95]\n",
            "   [ 97]\n",
            "   [100]\n",
            "   [103]\n",
            "   [108]\n",
            "   [108]]\n",
            "\n",
            "  [[ 85]\n",
            "   [ 93]\n",
            "   [103]\n",
            "   [106]\n",
            "   [103]\n",
            "   [103]]\n",
            "\n",
            "  [[ 84]\n",
            "   [ 90]\n",
            "   [ 97]\n",
            "   [ 99]\n",
            "   [ 96]\n",
            "   [ 98]]\n",
            "\n",
            "  [[ 88]\n",
            "   [ 88]\n",
            "   [ 88]\n",
            "   [ 87]\n",
            "   [ 88]\n",
            "   [ 92]]\n",
            "\n",
            "  [[ 74]\n",
            "   [ 73]\n",
            "   [ 71]\n",
            "   [ 69]\n",
            "   [ 69]\n",
            "   [ 74]]\n",
            "\n",
            "  [[ 55]\n",
            "   [ 55]\n",
            "   [ 53]\n",
            "   [ 50]\n",
            "   [ 48]\n",
            "   [ 53]]\n",
            "\n",
            "  [[ 63]\n",
            "   [ 64]\n",
            "   [ 69]\n",
            "   [ 68]\n",
            "   [ 61]\n",
            "   [ 60]]\n",
            "\n",
            "  [[ 70]\n",
            "   [ 73]\n",
            "   [ 85]\n",
            "   [ 85]\n",
            "   [ 73]\n",
            "   [ 68]]\n",
            "\n",
            "  [[ 64]\n",
            "   [ 65]\n",
            "   [ 68]\n",
            "   [ 67]\n",
            "   [ 62]\n",
            "   [ 64]]\n",
            "\n",
            "  [[ 61]\n",
            "   [ 60]\n",
            "   [ 56]\n",
            "   [ 54]\n",
            "   [ 54]\n",
            "   [ 62]]\n",
            "\n",
            "  [[ 66]\n",
            "   [ 65]\n",
            "   [ 61]\n",
            "   [ 60]\n",
            "   [ 62]\n",
            "   [ 68]]\n",
            "\n",
            "  [[ 71]\n",
            "   [ 69]\n",
            "   [ 66]\n",
            "   [ 65]\n",
            "   [ 66]\n",
            "   [ 70]]\n",
            "\n",
            "  [[ 71]\n",
            "   [ 70]\n",
            "   [ 67]\n",
            "   [ 65]\n",
            "   [ 65]\n",
            "   [ 67]]\n",
            "\n",
            "  [[ 72]\n",
            "   [ 70]\n",
            "   [ 67]\n",
            "   [ 65]\n",
            "   [ 64]\n",
            "   [ 65]]]\n",
            "\n",
            "\n",
            " [[[ 93]\n",
            "   [101]\n",
            "   [105]\n",
            "   [104]\n",
            "   [104]\n",
            "   [106]]\n",
            "\n",
            "  [[102]\n",
            "   [106]\n",
            "   [107]\n",
            "   [106]\n",
            "   [105]\n",
            "   [105]]\n",
            "\n",
            "  [[115]\n",
            "   [115]\n",
            "   [115]\n",
            "   [112]\n",
            "   [109]\n",
            "   [107]]\n",
            "\n",
            "  [[127]\n",
            "   [132]\n",
            "   [137]\n",
            "   [130]\n",
            "   [122]\n",
            "   [117]]\n",
            "\n",
            "  [[118]\n",
            "   [116]\n",
            "   [107]\n",
            "   [113]\n",
            "   [118]\n",
            "   [117]]\n",
            "\n",
            "  [[104]\n",
            "   [ 97]\n",
            "   [ 69]\n",
            "   [ 90]\n",
            "   [110]\n",
            "   [114]]\n",
            "\n",
            "  [[ 99]\n",
            "   [ 95]\n",
            "   [ 58]\n",
            "   [ 82]\n",
            "   [105]\n",
            "   [111]]\n",
            "\n",
            "  [[101]\n",
            "   [ 94]\n",
            "   [ 53]\n",
            "   [ 80]\n",
            "   [106]\n",
            "   [114]]\n",
            "\n",
            "  [[105]\n",
            "   [ 95]\n",
            "   [ 52]\n",
            "   [ 80]\n",
            "   [109]\n",
            "   [116]]\n",
            "\n",
            "  [[105]\n",
            "   [ 99]\n",
            "   [ 55]\n",
            "   [ 82]\n",
            "   [108]\n",
            "   [115]]\n",
            "\n",
            "  [[105]\n",
            "   [100]\n",
            "   [ 56]\n",
            "   [ 83]\n",
            "   [110]\n",
            "   [119]]\n",
            "\n",
            "  [[108]\n",
            "   [102]\n",
            "   [ 62]\n",
            "   [ 87]\n",
            "   [112]\n",
            "   [122]]\n",
            "\n",
            "  [[120]\n",
            "   [113]\n",
            "   [ 88]\n",
            "   [ 99]\n",
            "   [112]\n",
            "   [119]]\n",
            "\n",
            "  [[114]\n",
            "   [115]\n",
            "   [109]\n",
            "   [113]\n",
            "   [118]\n",
            "   [121]]\n",
            "\n",
            "  [[106]\n",
            "   [114]\n",
            "   [124]\n",
            "   [124]\n",
            "   [123]\n",
            "   [125]]]\n",
            "\n",
            "\n",
            " [[[188]\n",
            "   [206]\n",
            "   [222]\n",
            "   [225]\n",
            "   [225]\n",
            "   [226]]\n",
            "\n",
            "  [[200]\n",
            "   [214]\n",
            "   [228]\n",
            "   [230]\n",
            "   [230]\n",
            "   [230]]\n",
            "\n",
            "  [[216]\n",
            "   [224]\n",
            "   [232]\n",
            "   [234]\n",
            "   [234]\n",
            "   [232]]\n",
            "\n",
            "  [[233]\n",
            "   [233]\n",
            "   [232]\n",
            "   [233]\n",
            "   [233]\n",
            "   [230]]\n",
            "\n",
            "  [[233]\n",
            "   [230]\n",
            "   [220]\n",
            "   [212]\n",
            "   [221]\n",
            "   [216]]\n",
            "\n",
            "  [[232]\n",
            "   [217]\n",
            "   [194]\n",
            "   [180]\n",
            "   [208]\n",
            "   [208]]\n",
            "\n",
            "  [[227]\n",
            "   [198]\n",
            "   [162]\n",
            "   [150]\n",
            "   [195]\n",
            "   [207]]\n",
            "\n",
            "  [[216]\n",
            "   [172]\n",
            "   [132]\n",
            "   [130]\n",
            "   [184]\n",
            "   [214]]\n",
            "\n",
            "  [[194]\n",
            "   [161]\n",
            "   [140]\n",
            "   [146]\n",
            "   [190]\n",
            "   [218]]\n",
            "\n",
            "  [[171]\n",
            "   [139]\n",
            "   [124]\n",
            "   [132]\n",
            "   [179]\n",
            "   [212]]\n",
            "\n",
            "  [[163]\n",
            "   [133]\n",
            "   [115]\n",
            "   [115]\n",
            "   [167]\n",
            "   [206]]\n",
            "\n",
            "  [[201]\n",
            "   [186]\n",
            "   [165]\n",
            "   [133]\n",
            "   [175]\n",
            "   [212]]\n",
            "\n",
            "  [[217]\n",
            "   [211]\n",
            "   [200]\n",
            "   [174]\n",
            "   [199]\n",
            "   [219]]\n",
            "\n",
            "  [[219]\n",
            "   [222]\n",
            "   [220]\n",
            "   [208]\n",
            "   [217]\n",
            "   [225]]\n",
            "\n",
            "  [[212]\n",
            "   [221]\n",
            "   [228]\n",
            "   [229]\n",
            "   [228]\n",
            "   [229]]]]\n"
          ]
        }
      ],
      "source": [
        "train \u003d training_data[:-27]\n",
        "test \u003d training_data[-27:]\n",
        "print(train[:3])\n",
        "X \u003d np.array([data[0] for data in train])\n",
        "print(X[:3])\n",
        "X \u003d X.reshape(-1, IMG_SIZE_LINHA, 6, 1)\n",
        "print(X[:3])\n",
        "\n",
        "\n",
        "Y \u003d [data[1] for data in train]\n",
        "\n",
        "test_X \u003d np.array([data[0] for data in test])\n",
        "test_X \u003d test_X.reshape(-1, IMG_SIZE_LINHA, 6, 1)\n",
        "test_Y \u003d [data[1] for data in test]\n"
      ]
    },
    {
      "cell_type": "code",
      "execution_count": 12,
      "metadata": {
        "pycharm": {
          "is_executing": false,
          "metadata": false,
          "name": "#%%\n"
        }
      },
      "outputs": [
        {
          "name": "stdout",
          "output_type": "stream",
          "text": [
            "Training Step: 205  | total loss: 20.10259 | time: 0.314s\n",
            "\r",
            "| Adam | epoch: 103 | loss: 20.10259 - acc: 0.1270 -- iter: 064/109\n",
            "Training Step: 206  | total loss: 20.14307 | time: 1.499s\n",
            "\r",
            "| Adam | epoch: 103 | loss: 20.14307 - acc: 0.1252 | val_loss: 20.46742 - val_acc: 0.1111 -- iter: 109/109\n",
            "--\n"
          ]
        }
      ],
      "source": [
        "model.fit({\u0027input\u0027: X}, {\u0027targets\u0027: Y}, n_epoch\u003d100,\n",
        "          validation_set\u003d({\u0027input\u0027: test_X}, {\u0027targets\u0027: test_Y}), \n",
        "    snapshot_step\u003d500, show_metric\u003dTrue, run_id\u003dMODEL_NAME)"
      ]
    },
    {
      "cell_type": "code",
      "execution_count": 11,
      "metadata": {
        "pycharm": {
          "is_executing": false,
          "metadata": false,
          "name": "#%%\n"
        }
      },
      "outputs": [
        {
          "name": "stdout",
          "output_type": "stream",
          "text": [
            "INFO:tensorflow:C:\\Users\\skzt\\PycharmProjects\\tcc\\test\\LR-LPR-(15, 50)-0.01 is not in all_model_checkpoint_paths. Manually adding it.\n"
          ]
        }
      ],
      "source": [
        "model.save(MODEL_NAME)"
      ]
    },
    {
      "cell_type": "code",
      "execution_count": 1,
      "metadata": {
        "pycharm": {
          "is_executing": false,
          "metadata": false,
          "name": "#%%\n"
        }
      },
      "outputs": [],
      "source": []
    },
    {
      "cell_type": "code",
      "execution_count": 1,
      "metadata": {
        "pycharm": {
          "is_executing": false,
          "metadata": false,
          "name": "#%%\n"
        }
      },
      "outputs": [],
      "source": []
    },
    {
      "cell_type": "code",
      "execution_count": 1,
      "metadata": {
        "pycharm": {
          "is_executing": false,
          "metadata": false,
          "name": "#%%\n"
        }
      },
      "outputs": [],
      "source": []
    },
    {
      "cell_type": "code",
      "execution_count": 1,
      "metadata": {
        "pycharm": {
          "is_executing": false,
          "metadata": false,
          "name": "#%%\n"
        }
      },
      "outputs": [],
      "source": []
    },
    {
      "cell_type": "code",
      "execution_count": 22,
      "metadata": {
        "pycharm": {
          "is_executing": false,
          "metadata": false,
          "name": "#%%\n"
        }
      },
      "outputs": [],
      "source": [
        "del training_data\n"
      ]
    }
  ],
  "metadata": {
    "kernelspec": {
      "display_name": "PyCharm (test)",
      "language": "python",
      "name": "pycharm-789f41f"
    },
    "language_info": {
      "codemirror_mode": {
        "name": "ipython",
        "version": 3
      },
      "file_extension": ".py",
      "mimetype": "text/x-python",
      "name": "python",
      "nbconvert_exporter": "python",
      "pygments_lexer": "ipython3",
      "version": "3.6.8"
    }
  },
  "nbformat": 4,
  "nbformat_minor": 1
}