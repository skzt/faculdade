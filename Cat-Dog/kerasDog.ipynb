{
 "cells": [
  {
   "cell_type": "code",
   "execution_count": 1,
   "outputs": [
    {
     "name": "stderr",
     "text": [
      "Using TensorFlow backend.\n"
     ],
     "output_type": "stream"
    }
   ],
   "source": [
    "\n",
    "import numpy as np\n",
    "from keras.backend import clear_session\n",
    "from keras.callbacks import TensorBoard\n",
    "from keras.layers import Activation, Dropout\n",
    "from keras.layers import Conv2D\n",
    "from keras.layers import Dense\n",
    "from keras.layers import Flatten\n",
    "from keras.layers import MaxPooling2D\n",
    "from keras.models import Sequential\n",
    "from time import strftime\n",
    "from keras.optimizers import Adam, SGD\n",
    "from keras_tqdm import TQDMNotebookCallback\n"
   ],
   "metadata": {
    "collapsed": false,
    "pycharm": {
     "name": "#%%\n",
     "is_executing": false
    }
   }
  },
  {
   "cell_type": "code",
   "execution_count": 13,
   "outputs": [],
   "source": [
    "DATASET = \"cat-dog-25000-GrayScale-(50, 50).npy\"\n",
    "LR = 0.001\n",
    "ROW_SIZE = 50\n",
    "COL_SIZE = 50\n",
    "EPOCHS = 10\n",
    "CLASSES = 2 #[ DOG, CAT ]\n",
    "MODEL_NAME = f\"cat-dog-{EPOCHS}-4\""
   ],
   "metadata": {
    "collapsed": false,
    "pycharm": {
     "name": "#%%\n",
     "is_executing": false
    }
   }
  },
  {
   "cell_type": "code",
   "execution_count": 3,
   "outputs": [],
   "source": [
    "def lprNet():\n",
    "    new_model = Sequential()\n",
    "\n",
    "    new_model.add(Conv2D(128, kernel_size=(3, 3), input_shape=(ROW_SIZE, COL_SIZE, 1)))\n",
    "    new_model.add(Activation('relu'))\n",
    "    new_model.add(MaxPooling2D(pool_size=(2,2)))\n",
    "\n",
    "    new_model.add(Conv2D(64, kernel_size=(3, 3)))\n",
    "    new_model.add(Activation('relu'))\n",
    "    new_model.add(MaxPooling2D(pool_size=(2,2)))\n",
    "\n",
    "    new_model.add(Conv2D(32, kernel_size=(3, 3)))\n",
    "    new_model.add(Activation('relu'))\n",
    "    new_model.add(MaxPooling2D(pool_size=(2,2)))\n",
    "\n",
    "    new_model.add(Conv2D(32, kernel_size=(3, 3)))\n",
    "    new_model.add(Activation('relu'))\n",
    "    new_model.add(MaxPooling2D(pool_size=(2,2)))\n",
    "\n",
    "    new_model.add(Flatten())\n",
    "    new_model.add(Dense(64))\n",
    "    new_model.add(Activation('relu'))\n",
    "    new_model.add(Dropout(0.2))\n",
    "\n",
    "    new_model.add(Dense(2, activation=\"softmax\"))\n",
    "\n",
    "    return new_model\n",
    "    "
   ],
   "metadata": {
    "collapsed": false,
    "pycharm": {
     "name": "#%%\n",
     "is_executing": false
    }
   }
  },
  {
   "cell_type": "code",
   "execution_count": 10,
   "outputs": [],
   "source": [
    "def generateData():\n",
    "    data = np.load(DATASET, allow_pickle=True)\n",
    "    np.random.shuffle(data)\n",
    "    \n",
    "    X = []\n",
    "    y = []\n",
    "    \n",
    "    def to_categorical(y):\n",
    "        if y.upper() == 'CAT':\n",
    "            return [0,1]\n",
    "        if y.upper() == 'DOG':\n",
    "             return [1,0]\n",
    "    \n",
    "    for img in data:\n",
    "        X.append(img[0])\n",
    "        y.append(to_categorical(img[1]))\n",
    "    X = np.array(X).reshape(-1, ROW_SIZE, COL_SIZE, 1)\n",
    "    return X, np.array(y)\n"
   ],
   "metadata": {
    "collapsed": false,
    "pycharm": {
     "name": "#%%\n",
     "is_executing": false
    }
   }
  },
  {
   "cell_type": "code",
   "execution_count": 11,
   "outputs": [],
   "source": [
    "X, y = generateData()\n",
    "X = X/255.0\n",
    "\n",
    "modelo = lprNet()\n",
    "optimizer = SGD(momentum=0.01, nesterov=True)\n",
    "tensorBoard = TensorBoard(log_dir=f\"../logs/alexandre/{MODEL_NAME}-{strftime('%d-%m-%Y')}-{strftime('%H-%M-%S')}\")\n",
    "\n",
    "modelo.compile(optimizer=\"adam\", loss='categorical_crossentropy', metrics=['accuracy'])\n",
    "modelo.fit(X,\n",
    "           y,\n",
    "           batch_size=32,\n",
    "           epochs=EPOCHS,\n",
    "           validation_split=0.1,\n",
    "           callbacks=[TQDMNotebookCallback(leave_inner=True, leave_outer=True),\n",
    "                      tensorBoard],\n",
    "           verbose=0\n",
    "            )\n",
    "modelo.save(f\"{MODEL_NAME}.h5\")\n",
    "clear_session()\n"
   ],
   "metadata": {
    "collapsed": false,
    "pycharm": {
     "name": "#%%\n",
     "is_executing": false
    }
   }
  }
 ],
 "metadata": {
  "language_info": {
   "codemirror_mode": {
    "name": "ipython",
    "version": 2
   },
   "file_extension": ".py",
   "mimetype": "text/x-python",
   "name": "python",
   "nbconvert_exporter": "python",
   "pygments_lexer": "ipython2",
   "version": "2.7.6"
  },
  "kernelspec": {
   "name": "python3",
   "language": "python",
   "display_name": "Python 3"
  },
  "pycharm": {
   "stem_cell": {
    "cell_type": "raw",
    "source": [],
    "metadata": {
     "collapsed": false
    }
   }
  }
 },
 "nbformat": 4,
 "nbformat_minor": 0
}