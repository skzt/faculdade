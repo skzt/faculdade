{
 "cells": [
  {
   "cell_type": "code",
   "execution_count": 1,
   "metadata": {
    "pycharm": {
     "is_executing": false
    }
   },
   "outputs": [
    {
     "name": "stdout",
     "text": [
      "curses is not supported on this machine (please install/reinstall curses for an optimal experience)\nWARNING:tensorflow:From C:\\VirtualEnv\\tcc-venv\\lib\\site-packages\\tensorflow\\python\\framework\\op_def_library.py:263: colocate_with (from tensorflow.python.framework.ops) is deprecated and will be removed in a future version.\nInstructions for updating:\nColocations handled automatically by placer.\n"
     ],
     "output_type": "stream"
    }
   ],
   "source": [
    "%reset -f\n",
    "\n",
    "from time import strftime\n",
    "\n",
    "import numpy as np\n",
    "import matplotlib.pyplot as plt\n",
    "import tflearn\n",
    "from tflearn.layers.conv import conv_2d, max_pool_2d\n",
    "from tflearn.layers.core import input_data, dropout, fully_connected\n",
    "from tflearn.layers.estimator import regression\n",
    "%matplotlib inline"
   ]
  },
  {
   "cell_type": "code",
   "execution_count": 2,
   "metadata": {
    "pycharm": {
     "name": "#%%\n",
     "is_executing": false
    }
   },
   "outputs": [],
   "source": [
    "DATASET = \"cat-dog-25000-GrayScale-(50, 50).npy\"\n",
    "TEST_DIR = \"./cat-dog-12500-GrayScale-(50, 50)-test.npy\"\n",
    "LR = 0.001\n",
    "ROW_SIZE = 50\n",
    "COL_SIZE = 50\n",
    "EPOCHS = 1\n",
    "CLASSES = 2 #[ DOG, CAT ]\n",
    "MODEL_NAME = f\"cat-dog-{EPOCHS}-6\""
   ]
  },
  {
   "cell_type": "code",
   "execution_count": 3,
   "metadata": {
    "pycharm": {
     "name": "#%%\n",
     "is_executing": false
    }
   },
   "outputs": [],
   "source": [
    "def generateData():\n",
    "    data = np.load(DATASET, allow_pickle=True)\n",
    "    np.random.shuffle(data)\n",
    "    \n",
    "    X = []\n",
    "    y = []\n",
    "    \n",
    "    def to_categorical(y):\n",
    "        if y.upper() == 'CAT':\n",
    "            return [0,1]\n",
    "        if y.upper() == 'DOG':\n",
    "             return [1,0]\n",
    "    \n",
    "    for img in data:\n",
    "        X.append(img[0])\n",
    "        y.append(to_categorical(img[1]))\n",
    "    X = np.array(X).reshape(-1, ROW_SIZE, COL_SIZE, 1)\n",
    "    return X, np.array(y)\n"
   ]
  },
  {
   "cell_type": "code",
   "execution_count": 4,
   "metadata": {
    "pycharm": {
     "name": "#%%\n",
     "is_executing": false
    }
   },
   "outputs": [
    {
     "name": "stdout",
     "text": [
      "Training Step: 359  | total loss: \u001b[1m\u001b[32m0.58551\u001b[0m\u001b[0m | time: 8.014s\n\u001b[2K\r| Adam | epoch: 001 | loss: 0.58551 - acc: 0.6969 -- iter: 22976/23000\n",
      "Training Step: 360  | total loss: \u001b[1m\u001b[32m0.58874\u001b[0m\u001b[0m | time: 9.132s\n\u001b[2K\r| Adam | epoch: 001 | loss: 0.58874 - acc: 0.6882 | val_loss: 0.56803 - val_acc: 0.7095 -- iter: 23000/23000\n--\n",
      "INFO:tensorflow:C:\\Users\\Skzt-Desk\\PycharmProjects\\faculdade\\Cat-Dog\\cat-dog-1-6.model is not in all_model_checkpoint_paths. Manually adding it.\n"
     ],
     "output_type": "stream"
    }
   ],
   "source": [
    "X, y = generateData()\n",
    "X = X/255.0\n",
    "\n",
    "test_x = X[23000:]\n",
    "test_y = y[23000:]\n",
    "\n",
    "X = X[:23000]\n",
    "y = y[:23000]\n",
    "\n",
    "convnet = input_data(shape=[None, ROW_SIZE, COL_SIZE, 1], name='input')\n",
    "\n",
    "convnet = conv_2d(convnet, 128, 3, activation='relu')\n",
    "convnet = max_pool_2d(convnet, 2)\n",
    "\n",
    "convnet = conv_2d(convnet, 64, 3, activation='relu')\n",
    "convnet = max_pool_2d(convnet, 2)\n",
    "\n",
    "convnet = conv_2d(convnet, 32, 3, activation='relu')\n",
    "convnet = max_pool_2d(convnet, 2)\n",
    "\n",
    "convnet = fully_connected(convnet, 64, activation='relu')\n",
    "convnet = dropout(convnet, 0.8)\n",
    "\n",
    "convnet = fully_connected(convnet, 2, activation='softmax')\n",
    "convnet = regression(convnet, optimizer='adam', learning_rate=LR, loss='categorical_crossentropy', name='targets')\n",
    "\n",
    "model = tflearn.DNN(convnet, tensorboard_dir=f\"../logs/alexandre/{MODEL_NAME}-{strftime('%d-%m-%Y')}-{strftime('%H-%M-%S')}\")\n",
    "\n",
    "model.fit({'input': X}, {'targets': y}, n_epoch=EPOCHS, validation_set=({'input': test_x}, {'targets': test_y}), \n",
    "    snapshot_step=500, show_metric=True, run_id=MODEL_NAME)\n",
    "\n",
    "model.save(f\"{MODEL_NAME}.model\")"
   ]
  },
  {
   "cell_type": "code",
   "execution_count": null,
   "metadata": {
    "pycharm": {
     "name": "#%%\n",
     "is_executing": true
    }
   },
   "outputs": [],
   "source": [
    "model = model.load(f\"{MODEL_NAME}.model\")"
   ]
  },
  {
   "cell_type": "code",
   "execution_count": null,
   "metadata": {
    "pycharm": {
     "name": "#%%\n",
     "is_executing": true
    }
   },
   "outputs": [],
   "source": [
    "fig = plt.figure()\n",
    "num = 0\n",
    "\n",
    "testing_data = np.load(TEST_DIR, allow_pickle=True)\n",
    "with open(\"result.txt\", 'w') as fp:\n",
    "    for img_data in testing_data:\n",
    "        img = img_data[0]\n",
    "        orig = img\n",
    "        img = img.reshape(-1, ROW_SIZE, COL_SIZE, 1)\n",
    "        prediction = model.predict(img)[0]\n",
    "        str_label = f\"Numero: {np.argmax(prediction)} ({img_data[1]})\"\n",
    "        output = [\"{0:.2f}%\".format(i * 100) for i in prediction]\n",
    "        fp.write(f\"{str(output)}\\n\")\n",
    "        \n",
    "        if num < 12:\n",
    "            print([\"{0:.2f}%\".format(i * 100) for i in prediction])\n",
    "            y = fig.add_subplot(3, 4, num + 1)\n",
    "            y.imshow(orig, cmap='gray')\n",
    "            plt.title(str_label)\n",
    "            y.axes.get_xaxis().set_visible(False)\n",
    "            y.axes.get_yaxis().set_visible(False)\n",
    "        num += 1\n",
    "    plt.show()\n",
    "\n",
    "\n"
   ]
  },
  {
   "cell_type": "code",
   "execution_count": null,
   "metadata": {
    "pycharm": {
     "is_executing": true
    }
   },
   "outputs": [],
   "source": []
  }
 ],
 "metadata": {
  "kernelspec": {
   "display_name": "PyCharm (faculdade)",
   "language": "python",
   "name": "pycharm-9d50dc8"
  },
  "language_info": {
   "codemirror_mode": {
    "name": "ipython",
    "version": 3
   },
   "file_extension": ".py",
   "mimetype": "text/x-python",
   "name": "python",
   "nbconvert_exporter": "python",
   "pygments_lexer": "ipython3",
   "version": "3.7.3"
  },
  "pycharm": {
   "stem_cell": {
    "cell_type": "raw",
    "source": [],
    "metadata": {
     "collapsed": false
    }
   }
  }
 },
 "nbformat": 4,
 "nbformat_minor": 1
}