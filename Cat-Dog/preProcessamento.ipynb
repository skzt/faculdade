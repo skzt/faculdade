{
 "cells": [
  {
   "cell_type": "code",
   "execution_count": 1,
   "metadata": {
    "collapsed": true,
    "pycharm": {
     "is_executing": false
    }
   },
   "outputs": [],
   "source": [
    "import os\n",
    "\n",
    "import cv2\n",
    "import numpy as np\n",
    "from tqdm.auto import tqdm\n"
   ]
  },
  {
   "cell_type": "code",
   "execution_count": 2,
   "metadata": {
    "pycharm": {
     "is_executing": false,
     "name": "#%%\n"
    }
   },
   "outputs": [],
   "source": [
    "DIR_TREINO = \"../Datasets/cat-dog/train\"\n",
    "DIR_TEST = \"../Datasets/cat-dog/test\"\n",
    "\n",
    "ROW_SIZE = 50\n",
    "COL_SIZE = 50\n",
    "CLASSES = 2\n",
    "\n"
   ]
  },
  {
   "cell_type": "code",
   "execution_count": 4,
   "metadata": {
    "pycharm": {
     "is_executing": false,
     "name": "#%%\n"
    }
   },
   "outputs": [],
   "source": [
    "# Pre processa as imagens de treino\n",
    "# trainin_data -> [ [ IMG_MATRIX, IMG_LABEL ], ... ]\n",
    "\n",
    "training_data = []\n",
    "for img_name in tqdm(os.listdir(DIR_TREINO)):\n",
    "    img = cv2.imread(os.path.join(DIR_TREINO, img_name), cv2.IMREAD_GRAYSCALE)\n",
    "    img = cv2.resize(img, (COL_SIZE, ROW_SIZE))\n",
    "    \n",
    "    training_data.append([img, img_name.split('.')[0]])\n",
    "training_data = np.array(training_data)\n",
    "np.save(f\"cat-dog-{training_data.shape[0]}-GrayScale-({ROW_SIZE}, {COL_SIZE}).npy\", training_data)\n",
    "del training_data\n"
   ]
  },
  {
   "cell_type": "code",
   "execution_count": 8,
   "metadata": {
    "pycharm": {
     "is_executing": false,
     "name": "#%%\n"
    }
   },
   "outputs": [
    {
     "data": {
      "application/vnd.jupyter.widget-view+json": {
       "model_id": "1e69002b887e42bd99fd68efe3586b3b",
       "version_major": 2,
       "version_minor": 0
      },
      "text/plain": [
       "HBox(children=(IntProgress(value=0, max=12500), HTML(value='')))"
      ]
     },
     "metadata": {},
     "output_type": "display_data"
    },
    {
     "name": "stdout",
     "output_type": "stream",
     "text": [
      "\n"
     ]
    }
   ],
   "source": [
    "# Pre processa as imagens de teste\n",
    "\n",
    "testing_data = []\n",
    "for img_name in tqdm(os.listdir(DIR_TEST)):\n",
    "    img = cv2.imread(os.path.join(DIR_TEST, img_name), cv2.IMREAD_GRAYSCALE)\n",
    "    img = cv2.resize(img, (COL_SIZE, ROW_SIZE))\n",
    "    testing_data.append([img, str(img_name)])\n",
    "testing_data = np.array(testing_data)\n",
    "np.save(f\"cat-dog-{testing_data.shape[0]}-GrayScale-({ROW_SIZE}, {COL_SIZE})-test.npy\", testing_data)\n",
    "del testing_data"
   ]
  },
  {
   "cell_type": "code",
   "execution_count": null,
   "metadata": {
    "pycharm": {
     "name": "#%%\n"
    }
   },
   "outputs": [],
   "source": []
  },
  {
   "cell_type": "code",
   "execution_count": null,
   "metadata": {
    "pycharm": {
     "name": "#%%\n"
    }
   },
   "outputs": [],
   "source": []
  },
  {
   "cell_type": "code",
   "execution_count": null,
   "metadata": {
    "pycharm": {
     "name": "#%%\n"
    }
   },
   "outputs": [],
   "source": []
  },
  {
   "cell_type": "code",
   "execution_count": null,
   "metadata": {
    "pycharm": {
     "name": "#%%\n"
    }
   },
   "outputs": [],
   "source": []
  },
  {
   "cell_type": "code",
   "execution_count": null,
   "metadata": {
    "pycharm": {
     "name": "#%%\n"
    }
   },
   "outputs": [],
   "source": []
  },
  {
   "cell_type": "code",
   "execution_count": 3,
   "metadata": {
    "pycharm": {
     "is_executing": false,
     "name": "#%%\n"
    }
   },
   "outputs": [],
   "source": [
    "x = np.load(\"cat-dog-25000-GrayScale-(50, 50).npy\", allow_pickle=True)"
   ]
  },
  {
   "cell_type": "code",
   "execution_count": 9,
   "metadata": {
    "pycharm": {
     "is_executing": false,
     "name": "#%%\n"
    }
   },
   "outputs": [],
   "source": [
    "del x"
   ]
  },
  {
   "cell_type": "code",
   "execution_count": null,
   "metadata": {
    "pycharm": {
     "name": "#%%\n"
    }
   },
   "outputs": [],
   "source": [
    "\n"
   ]
  }
 ],
 "metadata": {
  "kernelspec": {
   "display_name": "Python 3",
   "language": "python",
   "name": "python3"
  },
  "language_info": {
   "codemirror_mode": {
    "name": "ipython",
    "version": 3
   },
   "file_extension": ".py",
   "mimetype": "text/x-python",
   "name": "python",
   "nbconvert_exporter": "python",
   "pygments_lexer": "ipython3",
   "version": "3.7.3"
  },
  "pycharm": {
   "stem_cell": {
    "cell_type": "raw",
    "metadata": {
     "collapsed": false
    },
    "source": []
   }
  }
 },
 "nbformat": 4,
 "nbformat_minor": 1
}
