{
 "cells": [
  {
   "cell_type": "code",
   "execution_count": 2,
   "metadata": {
    "collapsed": true,
    "pycharm": {
     "is_executing": false
    }
   },
   "outputs": [],
   "source": [
    "import os\n",
    "\n",
    "import cv2\n",
    "import numpy as np\n",
    "from tqdm.auto import tqdm\n"
   ]
  },
  {
   "cell_type": "code",
   "execution_count": 3,
   "outputs": [],
   "source": [
    "DIR_TREINO = \"../Datasets/cat-dog/train\"\n",
    "DIR_TEST = \"../Datasets/cat-dog/test\"\n",
    "\n",
    "ROW_SIZE = 50\n",
    "COL_SIZE = 50\n",
    "CLASSES = 2\n",
    "\n"
   ],
   "metadata": {
    "collapsed": false,
    "pycharm": {
     "name": "#%%\n",
     "is_executing": false
    }
   }
  },
  {
   "cell_type": "code",
   "execution_count": 4,
   "outputs": [],
   "source": [
    "# Pre processa as imagens de treino\n",
    "# trainin_data -> [ [ IMG_MATRIX, IMG_LABEL ], ... ]\n",
    "\n",
    "training_data = []\n",
    "for img_name in tqdm(os.listdir(DIR_TREINO)):\n",
    "    img = cv2.imread(os.path.join(DIR_TREINO, img_name), cv2.IMREAD_GRAYSCALE)\n",
    "    img = cv2.resize(img, (COL_SIZE, ROW_SIZE))\n",
    "    \n",
    "    training_data.append([img, img_name.split('.')[0]])\n",
    "training_data = np.array(training_data)\n",
    "np.save(f\"cat-dog-{training_data.shape[0]}-GrayScale-({ROW_SIZE}, {COL_SIZE}).npy\", training_data)\n",
    "del training_data\n"
   ],
   "metadata": {
    "collapsed": false,
    "pycharm": {
     "name": "#%%\n",
     "is_executing": false
    }
   }
  },
  {
   "cell_type": "code",
   "execution_count": 8,
   "outputs": [
    {
     "data": {
      "text/plain": "HBox(children=(IntProgress(value=0, description='Preparando dados', max=10, style=ProgressStyle(description_wi…",
      "application/vnd.jupyter.widget-view+json": {
       "version_major": 2,
       "version_minor": 0,
       "model_id": "1aa300f94d5047febc7d64bc0b89a79e"
      }
     },
     "metadata": {},
     "output_type": "display_data"
    },
    {
     "name": "stdout",
     "text": [
      "\n"
     ],
     "output_type": "stream"
    }
   ],
   "source": [
    "# Pre processa as imagens de teste\n",
    "\n",
    "testing_data = []\n",
    "for img_name in tqdm(os.listdir(DIR_TEST)):\n",
    "    img = cv2.imread(os.path.join(DIR_TEST, img_name), cv2.IMREAD_GRAYSCALE)\n",
    "    img = cv2.resize(img, (COL_SIZE, ROW_SIZE))\n",
    "    testing_data.append([img, str(num_folder)])\n",
    "testing_data = np.array(testing_data)\n",
    "np.save(f\"alexandre-real-{testing_data.shape[0]}-GrayScale-({ROW_SIZE}, {COL_SIZE})-test.npy\", testing_data)\n",
    "del testing_data"
   ],
   "metadata": {
    "collapsed": false,
    "pycharm": {
     "name": "#%%\n",
     "is_executing": false
    }
   }
  },
  {
   "cell_type": "code",
   "execution_count": 3,
   "outputs": [],
   "source": [
    "\n"
   ],
   "metadata": {
    "collapsed": false,
    "pycharm": {
     "name": "#%%\n",
     "is_executing": false
    }
   }
  }
 ],
 "metadata": {
  "language_info": {
   "codemirror_mode": {
    "name": "ipython",
    "version": 2
   },
   "file_extension": ".py",
   "mimetype": "text/x-python",
   "name": "python",
   "nbconvert_exporter": "python",
   "pygments_lexer": "ipython2",
   "version": "2.7.6"
  },
  "kernelspec": {
   "name": "python3",
   "language": "python",
   "display_name": "Python 3"
  },
  "pycharm": {
   "stem_cell": {
    "cell_type": "raw",
    "source": [],
    "metadata": {
     "collapsed": false
    }
   }
  }
 },
 "nbformat": 4,
 "nbformat_minor": 0
}