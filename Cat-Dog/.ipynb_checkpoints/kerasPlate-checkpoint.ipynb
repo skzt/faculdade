{
 "cells": [
  {
   "cell_type": "code",
   "execution_count": 1,
   "metadata": {
    "pycharm": {
     "is_executing": false,
     "name": "#%%\n"
    }
   },
   "outputs": [
    {
     "name": "stderr",
     "output_type": "stream",
     "text": [
      "Using TensorFlow backend.\n"
     ]
    }
   ],
   "source": [
    "import os\n",
    "from random import shuffle, randint\n",
    "from time import strftime\n",
    "\n",
    "import cv2\n",
    "import numpy as np\n",
    "from keras.backend import clear_session\n",
    "from keras.callbacks import TensorBoard\n",
    "from keras.layers import Activation\n",
    "from keras.layers import Conv2D\n",
    "from keras.layers import Dense\n",
    "from keras.layers import Flatten\n",
    "from keras.layers import MaxPooling2D\n",
    "from keras.models import Sequential\n",
    "from keras.optimizers import Adam\n",
    "from keras_tqdm import TQDMNotebookCallback\n",
    "from tqdm.auto import tqdm"
   ]
  },
  {
   "cell_type": "code",
   "execution_count": 3,
   "metadata": {
    "pycharm": {
     "is_executing": false,
     "name": "#%%\n"
    }
   },
   "outputs": [],
   "source": [
    "DATASET = \"cat-dog-25000-GrayScale-(50, 50).npy\"\n",
    "LR = 0.001\n",
    "ROW_SIZE = 50\n",
    "COL_SIZE = 50\n",
    "EPOCHS = 3\n",
    "CLASSES = 2 #[ DOG, CAT ]\n",
    "MODEL_NAME = f\"cat-dog-{EPOCHS}-1\""
   ]
  },
  {
   "cell_type": "code",
   "execution_count": 4,
   "metadata": {
    "pycharm": {
     "name": "#%%\n"
    }
   },
   "outputs": [],
   "source": [
    "def lprNet():\n",
    "    new_model = Sequential()\n",
    "\n",
    "    new_model.add(Conv2D(32, kernel_size=(2, 2), input_shape=(ROW_SIZE, COL_SIZE, 1)))\n",
    "    new_model.add(Activation('relu'))\n",
    "    # new_model.add(MaxPooling2D(5))\n",
    "\n",
    "    new_model.add(Conv2D(64, kernel_size=(2, 2)))\n",
    "    new_model.add(Activation('relu'))\n",
    "    new_model.add(MaxPooling2D())\n",
    "\n",
    "    # new_model.add(Conv2D(128, kernel_size=(1, 1)))\n",
    "    # new_model.add(Activation('relu'))\n",
    "    # new_model.add(MaxPooling2D(1))\n",
    "    #\n",
    "    # new_model.add(Conv2D(64, kernel_size=(1, 1)))\n",
    "    # new_model.add(Activation('relu'))\n",
    "    # new_model.add(MaxPooling2D(1))\n",
    "    #\n",
    "    # new_model.add(Conv2D(32, kernel_size=(1, 1)))\n",
    "    # new_model.add(Activation('relu'))\n",
    "    # new_model.add(MaxPooling2D(1))\n",
    "\n",
    "    new_model.add(Flatten())\n",
    "    new_model.add(Dense(64))\n",
    "    new_model.add(Activation('relu'))\n",
    "    # new_model.add(Dropout(0.2))\n",
    "\n",
    "    new_model.add(Dense(2, activation=\"softmax\"))\n",
    "\n",
    "    return new_model\n",
    "    "
   ]
  },
  {
   "cell_type": "code",
   "execution_count": 20,
   "metadata": {
    "pycharm": {
     "is_executing": false,
     "name": "#%%\n"
    }
   },
   "outputs": [],
   "source": [
    "def generateData():\n",
    "    data = np.load(DATASET, allow_pickle=True)\n",
    "    np.random.shuffle(data)\n",
    "    \n",
    "    X = []\n",
    "    y = []\n",
    "    \n",
    "    def to_categorical(y):\n",
    "        if y.upper() == 'CAT':\n",
    "            return [0,1]\n",
    "        if y.upper() == 'DOG':\n",
    "             return [1,0]\n",
    "    \n",
    "    for img in data:\n",
    "        X.append(img[0].reshape(-1, ROW_SIZE, COL_SIZE, 1))\n",
    "        y.append(to_categorical(img[1]))\n",
    "     \n",
    "    return np.array(X), np.array(y)"
   ]
  },
  {
   "cell_type": "code",
   "execution_count": null,
   "metadata": {
    "pycharm": {
     "name": "#%%\n"
    }
   },
   "outputs": [],
   "source": [
    "def treinar(model, tensorboard):\n",
    "    for _ in range(int(EPOCHS/10)):\n",
    "        X, Y, test_x, test_y = generateData()\n",
    "        model\n",
    "        # TODO: testar com os test_x antes do proximo fit\n",
    "    model.save(f\"{MODEL_NAME}.h5\")\n",
    "    clear_session()"
   ]
  },
  {
   "cell_type": "code",
   "execution_count": null,
   "metadata": {
    "pycharm": {
     "name": "#%%\n"
    }
   },
   "outputs": [],
   "source": [
    "X, y = generateData()\n",
    "modelo = lprNet()\n",
    "optimizer = Adam(lr=LR)\n",
    "tensorBoard = TensorBoard(log_dir=f\"../logs/alexandre/{MODEL_NAME}-{strftime('%d-%m-%Y')}-{strftime('%H-%M-%S')}\",\n",
    "                          update_freq=144)\n",
    "\n",
    "modelo.compile(optimizer=optimizer, loss='categorical_crossentropy', metrics=['accuracy'])\n",
    "modelo.fit(X,\n",
    "           y,\n",
    "           batch_size=32,\n",
    "           epochs=EPOCHS,\n",
    "           validation_split=0.2,\n",
    "           callbacks=[TQDMNotebookCallback(leave_inner=True, leave_outer=True),\n",
    "                      tensorBoard],\n",
    "           verbose=0\n",
    "            )\n",
    "treinar(modelo, tensorBoard)"
   ]
  },
  {
   "cell_type": "code",
   "execution_count": null,
   "metadata": {
    "pycharm": {
     "name": "#%%\n"
    }
   },
   "outputs": [],
   "source": []
  },
  {
   "cell_type": "code",
   "execution_count": null,
   "metadata": {
    "pycharm": {
     "name": "#%%\n"
    }
   },
   "outputs": [],
   "source": []
  },
  {
   "cell_type": "code",
   "execution_count": null,
   "metadata": {
    "pycharm": {
     "name": "#%%\n"
    }
   },
   "outputs": [],
   "source": []
  },
  {
   "cell_type": "code",
   "execution_count": null,
   "metadata": {
    "pycharm": {
     "name": "#%%\n"
    }
   },
   "outputs": [],
   "source": []
  },
  {
   "cell_type": "code",
   "execution_count": null,
   "metadata": {
    "pycharm": {
     "name": "#%%\n"
    }
   },
   "outputs": [],
   "source": []
  },
  {
   "cell_type": "code",
   "execution_count": null,
   "metadata": {
    "pycharm": {
     "name": "#%%\n"
    }
   },
   "outputs": [],
   "source": []
  },
  {
   "cell_type": "code",
   "execution_count": null,
   "metadata": {
    "pycharm": {
     "name": "#%%\n"
    }
   },
   "outputs": [],
   "source": []
  },
  {
   "cell_type": "code",
   "execution_count": null,
   "metadata": {
    "pycharm": {
     "name": "#%%\n"
    }
   },
   "outputs": [],
   "source": []
  },
  {
   "cell_type": "code",
   "execution_count": null,
   "metadata": {
    "pycharm": {
     "name": "#%%\n"
    }
   },
   "outputs": [],
   "source": []
  },
  {
   "cell_type": "code",
   "execution_count": null,
   "metadata": {
    "pycharm": {
     "name": "#%%\n"
    }
   },
   "outputs": [],
   "source": []
  },
  {
   "cell_type": "code",
   "execution_count": null,
   "metadata": {
    "pycharm": {
     "name": "#%%\n"
    }
   },
   "outputs": [],
   "source": []
  },
  {
   "cell_type": "code",
   "execution_count": null,
   "metadata": {
    "pycharm": {
     "name": "#%%\n"
    }
   },
   "outputs": [],
   "source": []
  },
  {
   "cell_type": "code",
   "execution_count": null,
   "metadata": {
    "pycharm": {
     "name": "#%%\n"
    }
   },
   "outputs": [],
   "source": []
  },
  {
   "cell_type": "code",
   "execution_count": null,
   "metadata": {
    "pycharm": {
     "name": "#%%\n"
    }
   },
   "outputs": [],
   "source": []
  },
  {
   "cell_type": "code",
   "execution_count": null,
   "metadata": {
    "pycharm": {
     "name": "#%%\n"
    }
   },
   "outputs": [],
   "source": []
  },
  {
   "cell_type": "code",
   "execution_count": null,
   "metadata": {
    "pycharm": {
     "name": "#%%\n"
    }
   },
   "outputs": [],
   "source": []
  },
  {
   "cell_type": "code",
   "execution_count": null,
   "metadata": {
    "pycharm": {
     "name": "#%%\n"
    }
   },
   "outputs": [],
   "source": []
  },
  {
   "cell_type": "code",
   "execution_count": null,
   "metadata": {
    "collapsed": true
   },
   "outputs": [],
   "source": [
    "\n",
    "\n"
   ]
  }
 ],
 "metadata": {
  "kernelspec": {
   "display_name": "Python 3",
   "language": "python",
   "name": "python3"
  },
  "language_info": {
   "codemirror_mode": {
    "name": "ipython",
    "version": 3
   },
   "file_extension": ".py",
   "mimetype": "text/x-python",
   "name": "python",
   "nbconvert_exporter": "python",
   "pygments_lexer": "ipython3",
   "version": "3.7.3"
  },
  "pycharm": {
   "stem_cell": {
    "cell_type": "raw",
    "metadata": {
     "collapsed": false
    },
    "source": []
   }
  }
 },
 "nbformat": 4,
 "nbformat_minor": 1
}
