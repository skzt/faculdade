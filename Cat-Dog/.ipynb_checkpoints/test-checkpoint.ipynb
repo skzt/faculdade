{
 "cells": [
  {
   "cell_type": "code",
   "execution_count": 16,
   "metadata": {
    "pycharm": {
     "is_executing": false,
     "name": "#%%\n"
    }
   },
   "outputs": [],
   "source": [
    "\n",
    "import numpy as np\n",
    "from keras.backend import clear_session\n",
    "from keras.callbacks import TensorBoard\n",
    "from keras.layers import Activation, Dropout\n",
    "from keras.layers import Conv2D\n",
    "from keras.layers import Dense\n",
    "from keras.layers import Flatten\n",
    "from keras.layers import MaxPooling2D\n",
    "from keras.models import Sequential\n",
    "from time import strftime\n",
    "from keras.optimizers import Adam, SGD\n",
    "from keras_tqdm import TQDMNotebookCallback\n",
    "import tflearn.datasets.mnist as mnist\n"
   ]
  },
  {
   "cell_type": "code",
   "execution_count": 17,
   "metadata": {
    "pycharm": {
     "is_executing": false,
     "name": "#%%\n"
    }
   },
   "outputs": [],
   "source": [
    "DATASET = \"cat-dog-25000-GrayScale-(50, 50).npy\"\n",
    "LR = 0.001\n",
    "ROW_SIZE = 28\n",
    "COL_SIZE = 28\n",
    "EPOCHS = 3\n",
    "CLASSES = 2 #[ DOG, CAT ]\n",
    "MODEL_NAME = f\"mnist\""
   ]
  },
  {
   "cell_type": "code",
   "execution_count": 18,
   "metadata": {
    "pycharm": {
     "is_executing": false,
     "name": "#%%\n"
    }
   },
   "outputs": [],
   "source": [
    "def lprNet():\n",
    "    new_model = Sequential()\n",
    "\n",
    "    new_model.add(Conv2D(128, kernel_size=(3, 3), input_shape=(ROW_SIZE, COL_SIZE, 1)))\n",
    "    new_model.add(Activation('relu'))\n",
    "    new_model.add(MaxPooling2D(pool_size=(2,2)))\n",
    "\n",
    "    new_model.add(Conv2D(64, kernel_size=(3, 3)))\n",
    "    new_model.add(Activation('relu'))\n",
    "    new_model.add(MaxPooling2D(pool_size=(2,2)))\n",
    "\n",
    "    new_model.add(Conv2D(32, kernel_size=(3, 3)))\n",
    "    new_model.add(Activation('relu'))\n",
    "    new_model.add(MaxPooling2D(pool_size=(2,2)))\n",
    "\n",
    "    new_model.add(Flatten())\n",
    "    new_model.add(Dense(64))\n",
    "    new_model.add(Activation('relu'))\n",
    "    new_model.add(Dropout(0.2))\n",
    "\n",
    "    new_model.add(Dense(10, activation=\"softmax\"))\n",
    "\n",
    "    return new_model\n",
    "    "
   ]
  },
  {
   "cell_type": "code",
   "execution_count": 19,
   "metadata": {
    "pycharm": {
     "is_executing": false,
     "name": "#%%\n"
    }
   },
   "outputs": [],
   "source": [
    "def generateData():\n",
    "    data = np.load(DATASET, allow_pickle=True)\n",
    "    np.random.shuffle(data)\n",
    "    \n",
    "    X = []\n",
    "    y = []\n",
    "    \n",
    "    def to_categorical(y):\n",
    "        if y.upper() == 'CAT':\n",
    "            return [0,1]\n",
    "        if y.upper() == 'DOG':\n",
    "             return [1,0]\n",
    "    \n",
    "    for img in data:\n",
    "        X.append(img[0])\n",
    "        y.append(to_categorical(img[1]))\n",
    "    X = np.array(X).reshape(-1, ROW_SIZE, COL_SIZE, 1)\n",
    "    return X, np.array(y)\n"
   ]
  },
  {
   "cell_type": "code",
   "execution_count": 20,
   "metadata": {
    "pycharm": {
     "is_executing": false,
     "name": "#%%\n"
    }
   },
   "outputs": [
    {
     "name": "stdout",
     "output_type": "stream",
     "text": [
      "Extracting mnist/train-images-idx3-ubyte.gz\n",
      "Extracting mnist/train-labels-idx1-ubyte.gz\n",
      "Extracting mnist/t10k-images-idx3-ubyte.gz\n",
      "Extracting mnist/t10k-labels-idx1-ubyte.gz\n"
     ]
    },
    {
     "data": {
      "application/vnd.jupyter.widget-view+json": {
       "model_id": "b23d4cee6a594b62a5b1f9d8a7ae5ad7",
       "version_major": 2,
       "version_minor": 0
      },
      "text/plain": [
       "HBox(children=(IntProgress(value=0, description='Training', max=3, style=ProgressStyle(description_width='init…"
      ]
     },
     "metadata": {},
     "output_type": "display_data"
    },
    {
     "data": {
      "application/vnd.jupyter.widget-view+json": {
       "model_id": "7fe129ac04544336ad891b268620aed7",
       "version_major": 2,
       "version_minor": 0
      },
      "text/plain": [
       "HBox(children=(IntProgress(value=0, description='Epoch 0', max=55000, style=ProgressStyle(description_width='i…"
      ]
     },
     "metadata": {},
     "output_type": "display_data"
    },
    {
     "data": {
      "application/vnd.jupyter.widget-view+json": {
       "model_id": "5f88bfed023c43efabcb1504d55e28a8",
       "version_major": 2,
       "version_minor": 0
      },
      "text/plain": [
       "HBox(children=(IntProgress(value=0, description='Epoch 1', max=55000, style=ProgressStyle(description_width='i…"
      ]
     },
     "metadata": {},
     "output_type": "display_data"
    },
    {
     "data": {
      "application/vnd.jupyter.widget-view+json": {
       "model_id": "8d053c8bfc4a45f2ae4d4c1fd134956e",
       "version_major": 2,
       "version_minor": 0
      },
      "text/plain": [
       "HBox(children=(IntProgress(value=0, description='Epoch 2', max=55000, style=ProgressStyle(description_width='i…"
      ]
     },
     "metadata": {},
     "output_type": "display_data"
    }
   ],
   "source": [
    "# X, y = generateData()\n",
    "X, Y, test_x, test_y = mnist.load_data(one_hot=True)\n",
    "X = X.reshape([-1, 28, 28, 1])\n",
    "test_x = test_x.reshape([-1, 28, 28, 1])\n",
    "\n",
    "modelo = lprNet()\n",
    "optimizer = SGD(momentum=0.01, nesterov=True)\n",
    "tensorBoard = TensorBoard(log_dir=f\"../logs/alexandre/{MODEL_NAME}-{strftime('%d-%m-%Y')}-{strftime('%H-%M-%S')}\")\n",
    "\n",
    "modelo.compile(optimizer=\"adam\", loss='categorical_crossentropy', metrics=['accuracy'])\n",
    "modelo.fit(X,\n",
    "           Y,\n",
    "           batch_size=32,\n",
    "           epochs=EPOCHS,\n",
    "           validation_data=(test_x, test_y),\n",
    "           callbacks=[TQDMNotebookCallback(leave_inner=True, leave_outer=True),\n",
    "                      tensorBoard],\n",
    "           verbose=0\n",
    "            )\n",
    "modelo.save(f\"{MODEL_NAME}.h5\")\n",
    "clear_session()"
   ]
  },
  {
   "cell_type": "code",
   "execution_count": null,
   "metadata": {},
   "outputs": [],
   "source": [
    "\n",
    "\n"
   ]
  },
  {
   "cell_type": "code",
   "execution_count": null,
   "metadata": {},
   "outputs": [],
   "source": [
    "a = cv2.read"
   ]
  }
 ],
 "metadata": {
  "kernelspec": {
   "display_name": "Python 3",
   "language": "python",
   "name": "python3"
  },
  "language_info": {
   "codemirror_mode": {
    "name": "ipython",
    "version": 3
   },
   "file_extension": ".py",
   "mimetype": "text/x-python",
   "name": "python",
   "nbconvert_exporter": "python",
   "pygments_lexer": "ipython3",
   "version": "3.7.3"
  },
  "pycharm": {
   "stem_cell": {
    "cell_type": "raw",
    "metadata": {
     "collapsed": false
    },
    "source": []
   }
  }
 },
 "nbformat": 4,
 "nbformat_minor": 1
}
