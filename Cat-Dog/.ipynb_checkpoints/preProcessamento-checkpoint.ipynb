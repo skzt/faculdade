{
 "cells": [
  {
   "cell_type": "code",
   "execution_count": 2,
   "metadata": {
    "pycharm": {
     "is_executing": false
    }
   },
   "outputs": [],
   "source": [
    "import os\n",
    "\n",
    "import cv2\n",
    "import numpy as np\n",
    "from tqdm.auto import tqdm\n"
   ]
  },
  {
   "cell_type": "code",
   "execution_count": 3,
   "metadata": {
    "pycharm": {
     "is_executing": false,
     "name": "#%%\n"
    }
   },
   "outputs": [],
   "source": [
    "DIR_TREINO = \"../Datasets/cat-dog/train\"\n",
    "DIR_TEST = \"../Datasets/cat-dog/test\"\n",
    "\n",
    "ROW_SIZE = 50\n",
    "COL_SIZE = 50\n",
    "CLASSES = 2\n",
    "\n"
   ]
  },
  {
   "cell_type": "code",
   "execution_count": 4,
   "metadata": {
    "pycharm": {
     "is_executing": false,
     "name": "#%%\n"
    }
   },
   "outputs": [
    {
     "data": {
      "application/vnd.jupyter.widget-view+json": {
       "model_id": "b2b3c78fd6ef4f25b2e787e8b4d4da60",
       "version_major": 2,
       "version_minor": 0
      },
      "text/plain": [
       "HBox(children=(IntProgress(value=0, max=25000), HTML(value='')))"
      ]
     },
     "metadata": {},
     "output_type": "display_data"
    },
    {
     "name": "stdout",
     "output_type": "stream",
     "text": [
      "\n"
     ]
    }
   ],
   "source": [
    "# Pre processa as imagens de treino\n",
    "# trainin_data -> [ [ IMG_MATRIX, IMG_LABEL ], ... ]\n",
    "\n",
    "training_data = []\n",
    "for img_name in tqdm(os.listdir(DIR_TREINO)):\n",
    "    img = cv2.imread(os.path.join(DIR_TREINO, img_name), cv2.IMREAD_GRAYSCALE)\n",
    "    img = cv2.resize(img, (COL_SIZE, ROW_SIZE))\n",
    "    \n",
    "    training_data.append([img, img_name.split('.')[0]])\n",
    "training_data = np.array(training_data)\n",
    "np.save(f\"cat-dog-{training_data.shape[0]}-GrayScale-({ROW_SIZE}, {COL_SIZE}).npy\", training_data)\n",
    "del training_data\n"
   ]
  },
  {
   "cell_type": "code",
   "execution_count": 8,
   "metadata": {
    "pycharm": {
     "is_executing": false,
     "name": "#%%\n"
    }
   },
   "outputs": [
    {
     "data": {
      "application/vnd.jupyter.widget-view+json": {
       "model_id": "1aa300f94d5047febc7d64bc0b89a79e",
       "version_major": 2,
       "version_minor": 0
      },
      "text/plain": [
       "HBox(children=(IntProgress(value=0, description='Preparando dados', max=10, style=ProgressStyle(description_wi…"
      ]
     },
     "metadata": {},
     "output_type": "display_data"
    },
    {
     "name": "stdout",
     "output_type": "stream",
     "text": [
      "\n"
     ]
    }
   ],
   "source": [
    "# Pre processa as imagens de teste\n",
    "\n",
    "testing_data = []\n",
    "for img_name in tqdm(os.listdir(DIR_TEST)):\n",
    "    img = cv2.imread(os.path.join(DIR_TEST, img_name), cv2.IMREAD_GRAYSCALE)\n",
    "    img = cv2.resize(img, (COL_SIZE, ROW_SIZE))\n",
    "    testing_data.append([img, str(num_folder)])\n",
    "testing_data = np.array(testing_data)\n",
    "np.save(f\"alexandre-real-{testing_data.shape[0]}-GrayScale-({ROW_SIZE}, {COL_SIZE})-test.npy\", testing_data)\n",
    "del testing_data"
   ]
  },
  {
   "cell_type": "code",
   "execution_count": 3,
   "metadata": {
    "pycharm": {
     "is_executing": false,
     "name": "#%%\n"
    }
   },
   "outputs": [],
   "source": [
    "\n"
   ]
  }
 ],
 "metadata": {
  "kernelspec": {
   "display_name": "Python 3",
   "language": "python",
   "name": "python3"
  },
  "language_info": {
   "codemirror_mode": {
    "name": "ipython",
    "version": 3
   },
   "file_extension": ".py",
   "mimetype": "text/x-python",
   "name": "python",
   "nbconvert_exporter": "python",
   "pygments_lexer": "ipython3",
   "version": "3.7.3"
  },
  "pycharm": {
   "stem_cell": {
    "cell_type": "raw",
    "metadata": {
     "collapsed": false
    },
    "source": []
   }
  }
 },
 "nbformat": 4,
 "nbformat_minor": 1
}
