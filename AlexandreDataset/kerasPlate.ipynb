{
 "cells": [
  {
   "cell_type": "code",
   "execution_count": null,
   "outputs": [],
   "source": [
    "import os\n",
    "from random import shuffle, randint\n",
    "from time import strftime\n",
    "\n",
    "import cv2\n",
    "import numpy as np\n",
    "from keras.callbacks import TensorBoard\n",
    "from keras.layers import Activation\n",
    "from keras.layers import Conv2D\n",
    "from keras.layers import Dense\n",
    "from keras.layers import Flatten\n",
    "from keras.layers import MaxPooling2D\n",
    "from keras.layers import Dropout\n",
    "from keras.models import Sequential\n",
    "from keras.optimizers import Adam\n",
    "from keras.utils import to_categorical\n",
    "from tqdm.auto import tqdm\n",
    "from keras_tqdm import TQDMNotebookCallback\n"
   ],
   "metadata": {
    "collapsed": false,
    "pycharm": {
     "name": "#%%\n"
    }
   }
  },
  {
   "cell_type": "code",
   "execution_count": null,
   "outputs": [],
   "source": [
    "DIR_TREINO = \"../Datasets/alexandre/train\"\n",
    "MODEL_NAME = \"alexandre01\"\n",
    "LR = 0.001\n",
    "ROW_SIZE = 8\n",
    "COL_SIZE = 5\n",
    "EPOCHS = 50\n",
    "CLASSES = 10\n"
   ],
   "metadata": {
    "collapsed": false,
    "pycharm": {
     "name": "#%%\n"
    }
   }
  },
  {
   "cell_type": "code",
   "execution_count": null,
   "outputs": [],
   "source": [
    "def lprNet():\n",
    "    new_model = Sequential()\n",
    "\n",
    "    new_model.add(Conv2D(32, kernel_size=(2, 2), input_shape=(ROW_SIZE, COL_SIZE, 1)))\n",
    "    new_model.add(Activation('relu'))\n",
    "    # new_model.add(MaxPooling2D(5))\n",
    "\n",
    "    new_model.add(Conv2D(64, kernel_size=(2, 2)))\n",
    "    new_model.add(Activation('relu'))\n",
    "    new_model.add(MaxPooling2D())\n",
    "\n",
    "    # new_model.add(Conv2D(128, kernel_size=(1, 1)))\n",
    "    # new_model.add(Activation('relu'))\n",
    "    # new_model.add(MaxPooling2D(1))\n",
    "    #\n",
    "    # new_model.add(Conv2D(64, kernel_size=(1, 1)))\n",
    "    # new_model.add(Activation('relu'))\n",
    "    # new_model.add(MaxPooling2D(1))\n",
    "    #\n",
    "    # new_model.add(Conv2D(32, kernel_size=(1, 1)))\n",
    "    # new_model.add(Activation('relu'))\n",
    "    # new_model.add(MaxPooling2D(1))\n",
    "\n",
    "    new_model.add(Flatten())\n",
    "    new_model.add(Dense(64))\n",
    "    new_model.add(Activation('relu'))\n",
    "    # new_model.add(Dropout(0.2))\n",
    "\n",
    "    new_model.add(Dense(CLASSES, activation=\"softmax\"))\n",
    "\n",
    "    return new_model\n"
   ],
   "metadata": {
    "collapsed": false,
    "pycharm": {
     "name": "#%%\n"
    }
   }
  },
  {
   "cell_type": "code",
   "execution_count": null,
   "outputs": [],
   "source": [
    "def generateData():\n",
    "    training_data = []\n",
    "    testing_data = []\n",
    "\n",
    "    # Algoritimo para Dataset Alexandre\n",
    "    for num_folder in tqdm(range(10), desc=\"Preparando dados\"):\n",
    "        test_labels = os.listdir(os.path.join(DIR_TREINO, str(num_folder)))\n",
    "        train_labels = []\n",
    "        # Loop responsavel por separar as labels de treino e test\n",
    "        for i in range(15):\n",
    "            index = randint(0, 17 - i)\n",
    "            train_labels.append(test_labels[index])\n",
    "            test_labels = test_labels[:index] + test_labels[index + 1:]\n",
    "\n",
    "        for img_name in train_labels:\n",
    "                img = cv2.imread(os.path.join(DIR_TREINO, str(num_folder), img_name),\n",
    "                                 cv2.IMREAD_GRAYSCALE)\n",
    "                img = cv2.resize(img, (ROW_SIZE, COL_SIZE))\n",
    "                training_data.append([img, to_categorical(str(num_folder), CLASSES, dtype='uint8')])\n",
    "\n",
    "        for img_name in test_labels:\n",
    "                img = cv2.imread(os.path.join(DIR_TREINO, str(num_folder), img_name),\n",
    "                                 cv2.IMREAD_GRAYSCALE)\n",
    "                img = cv2.resize(img, (ROW_SIZE, COL_SIZE))\n",
    "                testing_data.append([img, to_categorical(str(num_folder), CLASSES, dtype='uint8')])\n",
    "\n",
    "    shuffle(training_data)\n",
    "    shuffle(testing_data)\n",
    "\n",
    "    trainX = np.array([img[0] for img in training_data])\n",
    "    trainX = trainX.reshape(-1, ROW_SIZE, COL_SIZE, 1)\n",
    "    trainX = trainX / 255.0\n",
    "\n",
    "    trainY = np.array([img[1] for img in training_data])\n",
    "\n",
    "    testX = np.array([img[0] for img in testing_data])\n",
    "    testX = testX.reshape(-1, ROW_SIZE, COL_SIZE, 1)\n",
    "    testX = testX / 255.0\n",
    "\n",
    "    testY = np.array([img[1] for img in testing_data])\n",
    "    return trainX, trainY, testX, testY\n"
   ],
   "metadata": {
    "collapsed": false,
    "pycharm": {
     "name": "#%%\n"
    }
   }
  },
  {
   "cell_type": "code",
   "execution_count": null,
   "outputs": [],
   "source": [
    "def treinar(model, tensorboard):\n",
    "    for _ in range(int(EPOCHS/10)):\n",
    "        X, Y, test_x, test_y = generateData()\n",
    "        model.fit(X,\n",
    "                  Y,\n",
    "                  batch_size=32,\n",
    "                  epochs=10,\n",
    "                  validation_data=(test_x, test_y),\n",
    "                  callbacks=[TQDMNotebookCallback(leave_inner=True, leave_outer=True),\n",
    "                             tensorboard],\n",
    "                  verbose=0\n",
    "                  )\n",
    "        # TODO: testar com os test_x antes do proximo fit\n",
    "    model.save(f\"{MODEL_NAME}.h5\")\n"
   ],
   "metadata": {
    "collapsed": false,
    "pycharm": {
     "name": "#%%\n"
    }
   }
  },
  {
   "cell_type": "code",
   "execution_count": null,
   "outputs": [],
   "source": [
    "modelo = lprNet()\n",
    "optimizer = Adam(lr=LR)\n",
    "tensorBoard = TensorBoard(log_dir=f\"../logs/alexandre/{MODEL_NAME}-{strftime('%d-%m-%Y')}-{strftime('%H-%M-%S')}\",\n",
    "                          update_freq=144)\n",
    "\n",
    "modelo.compile(optimizer=optimizer, loss='categorical_crossentropy', metrics=['accuracy'])\n",
    "\n",
    "treinar(modelo, tensorBoard)\n"
   ],
   "metadata": {
    "collapsed": false,
    "pycharm": {
     "name": "#%%\n"
    }
   }
  },
  {
   "cell_type": "code",
   "execution_count": null,
   "outputs": [],
   "source": [],
   "metadata": {
    "collapsed": false,
    "pycharm": {
     "name": "#%%\n"
    }
   }
  },
  {
   "cell_type": "code",
   "execution_count": null,
   "outputs": [],
   "source": [],
   "metadata": {
    "collapsed": false,
    "pycharm": {
     "name": "#%%\n"
    }
   }
  },
  {
   "cell_type": "code",
   "execution_count": null,
   "outputs": [],
   "source": [],
   "metadata": {
    "collapsed": false,
    "pycharm": {
     "name": "#%%\n"
    }
   }
  },
  {
   "cell_type": "code",
   "execution_count": null,
   "outputs": [],
   "source": [],
   "metadata": {
    "collapsed": false,
    "pycharm": {
     "name": "#%%\n"
    }
   }
  },
  {
   "cell_type": "code",
   "execution_count": null,
   "outputs": [],
   "source": [],
   "metadata": {
    "collapsed": false,
    "pycharm": {
     "name": "#%%\n"
    }
   }
  },
  {
   "cell_type": "code",
   "execution_count": null,
   "outputs": [],
   "source": [],
   "metadata": {
    "collapsed": false,
    "pycharm": {
     "name": "#%%\n"
    }
   }
  },
  {
   "cell_type": "code",
   "execution_count": null,
   "outputs": [],
   "source": [],
   "metadata": {
    "collapsed": false,
    "pycharm": {
     "name": "#%%\n"
    }
   }
  },
  {
   "cell_type": "code",
   "execution_count": null,
   "outputs": [],
   "source": [],
   "metadata": {
    "collapsed": false,
    "pycharm": {
     "name": "#%%\n"
    }
   }
  },
  {
   "cell_type": "code",
   "execution_count": null,
   "outputs": [],
   "source": [],
   "metadata": {
    "collapsed": false,
    "pycharm": {
     "name": "#%%\n"
    }
   }
  },
  {
   "cell_type": "code",
   "execution_count": null,
   "outputs": [],
   "source": [],
   "metadata": {
    "collapsed": false,
    "pycharm": {
     "name": "#%%\n"
    }
   }
  },
  {
   "cell_type": "code",
   "execution_count": null,
   "outputs": [],
   "source": [],
   "metadata": {
    "collapsed": false,
    "pycharm": {
     "name": "#%%\n"
    }
   }
  },
  {
   "cell_type": "code",
   "execution_count": null,
   "outputs": [],
   "source": [],
   "metadata": {
    "collapsed": false,
    "pycharm": {
     "name": "#%%\n"
    }
   }
  },
  {
   "cell_type": "code",
   "execution_count": null,
   "outputs": [],
   "source": [],
   "metadata": {
    "collapsed": false,
    "pycharm": {
     "name": "#%%\n"
    }
   }
  },
  {
   "cell_type": "code",
   "execution_count": null,
   "outputs": [],
   "source": [],
   "metadata": {
    "collapsed": false,
    "pycharm": {
     "name": "#%%\n"
    }
   }
  },
  {
   "cell_type": "code",
   "execution_count": null,
   "outputs": [],
   "source": [],
   "metadata": {
    "collapsed": false,
    "pycharm": {
     "name": "#%%\n"
    }
   }
  },
  {
   "cell_type": "code",
   "execution_count": null,
   "outputs": [],
   "source": [],
   "metadata": {
    "collapsed": false,
    "pycharm": {
     "name": "#%%\n"
    }
   }
  },
  {
   "cell_type": "code",
   "execution_count": null,
   "outputs": [],
   "source": [],
   "metadata": {
    "collapsed": false,
    "pycharm": {
     "name": "#%%\n"
    }
   }
  },
  {
   "cell_type": "code",
   "execution_count": null,
   "outputs": [],
   "source": [],
   "metadata": {
    "collapsed": false,
    "pycharm": {
     "name": "#%%\n"
    }
   }
  },
  {
   "cell_type": "code",
   "execution_count": null,
   "outputs": [],
   "source": [],
   "metadata": {
    "collapsed": false,
    "pycharm": {
     "name": "#%%\n"
    }
   }
  },
  {
   "cell_type": "code",
   "execution_count": null,
   "outputs": [],
   "source": [],
   "metadata": {
    "collapsed": false,
    "pycharm": {
     "name": "#%%\n"
    }
   }
  },
  {
   "cell_type": "code",
   "execution_count": null,
   "outputs": [],
   "source": [],
   "metadata": {
    "collapsed": false,
    "pycharm": {
     "name": "#%%\n"
    }
   }
  },
  {
   "cell_type": "code",
   "execution_count": null,
   "outputs": [],
   "source": [],
   "metadata": {
    "collapsed": false,
    "pycharm": {
     "name": "#%%\n"
    }
   }
  },
  {
   "cell_type": "code",
   "execution_count": null,
   "outputs": [],
   "source": [],
   "metadata": {
    "collapsed": false,
    "pycharm": {
     "name": "#%%\n"
    }
   }
  },
  {
   "cell_type": "code",
   "execution_count": null,
   "outputs": [],
   "source": [],
   "metadata": {
    "collapsed": false,
    "pycharm": {
     "name": "#%%\n"
    }
   }
  },
  {
   "cell_type": "code",
   "execution_count": null,
   "outputs": [],
   "source": [],
   "metadata": {
    "collapsed": false,
    "pycharm": {
     "name": "#%%\n"
    }
   }
  },
  {
   "cell_type": "code",
   "execution_count": null,
   "metadata": {
    "collapsed": true,
    "pycharm": {
     "name": "#%%\n"
    }
   },
   "outputs": [],
   "source": [
    "\n"
   ]
  }
 ],
 "metadata": {
  "language_info": {
   "codemirror_mode": {
    "name": "ipython",
    "version": 2
   },
   "file_extension": ".py",
   "mimetype": "text/x-python",
   "name": "python",
   "nbconvert_exporter": "python",
   "pygments_lexer": "ipython2",
   "version": "2.7.6"
  },
  "kernelspec": {
   "name": "python3",
   "language": "python",
   "display_name": "Python 3"
  },
  "pycharm": {
   "stem_cell": {
    "cell_type": "raw",
    "source": [],
    "metadata": {
     "collapsed": false
    }
   }
  }
 },
 "nbformat": 4,
 "nbformat_minor": 0
}