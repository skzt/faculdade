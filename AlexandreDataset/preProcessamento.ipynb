{
 "cells": [
  {
   "cell_type": "code",
   "execution_count": 1,
   "metadata": {
    "collapsed": true,
    "pycharm": {
     "is_executing": false
    }
   },
   "outputs": [],
   "source": [
    "import os\n",
    "\n",
    "import cv2\n",
    "import numpy as np\n",
    "from tqdm.auto import tqdm\n"
   ]
  },
  {
   "cell_type": "code",
   "execution_count": 5,
   "outputs": [],
   "source": [
    "DIR_TREINO = \"../Datasets/alexandre/train\"\n",
    "DIR_TEST = \"../Datasets/alexandre/test\"\n",
    "\n",
    "ROW_SIZE = 8\n",
    "COL_SIZE = 5\n",
    "CLASSES = 10\n"
   ],
   "metadata": {
    "collapsed": false,
    "pycharm": {
     "name": "#%%\n",
     "is_executing": false
    }
   }
  },
  {
   "cell_type": "code",
   "execution_count": 6,
   "outputs": [
    {
     "data": {
      "text/plain": "HBox(children=(IntProgress(value=0, description='Preparando dados', max=10, style=ProgressStyle(description_wi…",
      "application/vnd.jupyter.widget-view+json": {
       "version_major": 2,
       "version_minor": 0,
       "model_id": "13d4b1c816d04ddaa21ac9edf5c4a736"
      }
     },
     "metadata": {},
     "output_type": "display_data"
    },
    {
     "name": "stdout",
     "text": [
      "\n"
     ],
     "output_type": "stream"
    }
   ],
   "source": [
    "# Pre processa as imagens de treino\n",
    "\n",
    "training_data = []\n",
    "for num_folder in tqdm(range(10), desc=\"Preparando dados\"):\n",
    "    for img_name in os.listdir(os.path.join(DIR_TREINO, str(num_folder))):\n",
    "        img = cv2.imread(os.path.join(DIR_TREINO, str(num_folder), img_name),\n",
    "                         cv2.IMREAD_GRAYSCALE)\n",
    "        img = cv2.resize(img, (COL_SIZE, ROW_SIZE))\n",
    "        training_data.append([img, str(num_folder)])\n",
    "training_data = np.array(training_data)\n",
    "np.save(f\"alexandre-real-{training_data.shape[0]}-GrayScale-({ROW_SIZE}, {COL_SIZE}).npy\", training_data)\n",
    "del training_data\n"
   ],
   "metadata": {
    "collapsed": false,
    "pycharm": {
     "name": "#%%\n",
     "is_executing": false
    }
   }
  },
  {
   "cell_type": "code",
   "execution_count": 8,
   "outputs": [
    {
     "data": {
      "text/plain": "HBox(children=(IntProgress(value=0, description='Preparando dados', max=10, style=ProgressStyle(description_wi…",
      "application/vnd.jupyter.widget-view+json": {
       "version_major": 2,
       "version_minor": 0,
       "model_id": "1aa300f94d5047febc7d64bc0b89a79e"
      }
     },
     "metadata": {},
     "output_type": "display_data"
    },
    {
     "name": "stdout",
     "text": [
      "\n"
     ],
     "output_type": "stream"
    }
   ],
   "source": [
    "# Pre processa as imagens de teste\n",
    "\n",
    "testing_data = []\n",
    "for num_folder in tqdm(range(10), desc=\"Preparando dados\"):\n",
    "    for img_name in os.listdir(os.path.join(DIR_TEST, str(num_folder))):\n",
    "        img = cv2.imread(os.path.join(DIR_TEST, str(num_folder), img_name),\n",
    "                         cv2.IMREAD_GRAYSCALE)\n",
    "        img = cv2.resize(img, (COL_SIZE, ROW_SIZE))\n",
    "        testing_data.append([img, str(num_folder)])\n",
    "testing_data = np.array(testing_data)\n",
    "np.save(f\"alexandre-real-{testing_data.shape[0]}-GrayScale-({ROW_SIZE}, {COL_SIZE})-test.npy\", testing_data)\n",
    "del testing_data"
   ],
   "metadata": {
    "collapsed": false,
    "pycharm": {
     "name": "#%%\n",
     "is_executing": false
    }
   }
  },
  {
   "cell_type": "code",
   "execution_count": null,
   "outputs": [],
   "source": [
    "\n"
   ],
   "metadata": {
    "collapsed": false,
    "pycharm": {
     "name": "#%%\n"
    }
   }
  }
 ],
 "metadata": {
  "language_info": {
   "codemirror_mode": {
    "name": "ipython",
    "version": 2
   },
   "file_extension": ".py",
   "mimetype": "text/x-python",
   "name": "python",
   "nbconvert_exporter": "python",
   "pygments_lexer": "ipython2",
   "version": "2.7.6"
  },
  "kernelspec": {
   "name": "python3",
   "language": "python",
   "display_name": "Python 3"
  },
  "pycharm": {
   "stem_cell": {
    "cell_type": "raw",
    "source": [],
    "metadata": {
     "collapsed": false
    }
   }
  }
 },
 "nbformat": 4,
 "nbformat_minor": 0
}