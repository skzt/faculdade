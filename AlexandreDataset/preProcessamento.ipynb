{
 "cells": [
  {
   "cell_type": "code",
   "execution_count": 31,
   "metadata": {
    "collapsed": true,
    "pycharm": {
     "is_executing": false
    }
   },
   "outputs": [],
   "source": [
    "%reset -f\n",
    "import os\n",
    "\n",
    "import cv2\n",
    "import random\n",
    "import numpy as np\n",
    "from tqdm.auto import tqdm\n",
    "\n"
   ]
  },
  {
   "cell_type": "code",
   "execution_count": 32,
   "outputs": [],
   "source": [
    "DIR_TREINO = \"../Datasets/alexandre/train\"\n",
    "DIR_TEST = \"../Datasets/alexandre/test\"\n",
    "\n",
    "ROW_SIZE = 8\n",
    "COL_SIZE = 6\n",
    "CLASSES = 10\n"
   ],
   "metadata": {
    "collapsed": false,
    "pycharm": {
     "name": "#%%\n",
     "is_executing": false
    }
   }
  },
  {
   "cell_type": "code",
   "execution_count": 33,
   "outputs": [
    {
     "data": {
      "text/plain": "HBox(children=(IntProgress(value=0, description='Preparando dados', max=10, style=ProgressStyle(description_wi…",
      "application/vnd.jupyter.widget-view+json": {
       "version_major": 2,
       "version_minor": 0,
       "model_id": "c2e27b5072764c12a1aa611474390d32"
      }
     },
     "metadata": {},
     "output_type": "display_data"
    },
    {
     "name": "stdout",
     "text": [
      "\n"
     ],
     "output_type": "stream"
    }
   ],
   "source": [
    "# Pre processa as imagens de treino\n",
    "\n",
    "training_data = []\n",
    "evaluating_data = []\n",
    "for num_folder in tqdm(range(10), desc=\"Preparando dados\"):\n",
    "    file_names = None\n",
    "    file_names = os.listdir(os.path.join(DIR_TREINO, str(num_folder)))\n",
    "    evaluating_samples = random.sample(range(10), 5) # Divisão 70-30: 70% para treino e 30% para validação.\n",
    "    \n",
    "    for index, img_name in enumerate(file_names):\n",
    "        img = cv2.imread(os.path.join(DIR_TREINO, str(num_folder), img_name))\n",
    "        img = cv2.cvtColor(img, cv2.COLOR_BGR2GRAY)\n",
    "        if img.shape != (8, 6):\n",
    "            img = cv2.resize(img, (COL_SIZE, ROW_SIZE))\n",
    "        if index in evaluating_samples:\n",
    "            evaluating_data.append([img, str(num_folder)])\n",
    "        else:\n",
    "            training_data.append([img, str(num_folder)])\n",
    "training_data = np.array(training_data)\n",
    "evaluating_data = np.array(evaluating_data)\n",
    "np.save(f\"alexandre-real-{training_data.shape[0]}-GrayScale-({ROW_SIZE}, {COL_SIZE})-train.npy\", training_data)\n",
    "np.save(f\"alexandre-real-{evaluating_data.shape[0]}-GrayScale-({ROW_SIZE}, {COL_SIZE})-ev.npy\", evaluating_data)\n",
    "del training_data\n",
    "del evaluating_data\n"
   ],
   "metadata": {
    "collapsed": false,
    "pycharm": {
     "name": "#%%\n",
     "is_executing": false
    }
   }
  },
  {
   "cell_type": "code",
   "execution_count": 4,
   "outputs": [
    {
     "data": {
      "text/plain": "HBox(children=(IntProgress(value=0, description='Preparando dados', max=10, style=ProgressStyle(description_wi…",
      "application/vnd.jupyter.widget-view+json": {
       "version_major": 2,
       "version_minor": 0,
       "model_id": "9f6cc483b2134a689086170211c2761d"
      }
     },
     "metadata": {},
     "output_type": "display_data"
    },
    {
     "name": "stdout",
     "text": [
      "\n"
     ],
     "output_type": "stream"
    }
   ],
   "source": [
    "# Pre processa as imagens de teste\n",
    "\n",
    "testing_data = []\n",
    "for num_folder in tqdm(range(10), desc=\"Preparando dados\"):\n",
    "    for img_name in os.listdir(os.path.join(DIR_TEST, str(num_folder))):\n",
    "        img = cv2.imread(os.path.join(DIR_TEST, str(num_folder), img_name))\n",
    "        img = cv2.cvtColor(img, cv2.COLOR_BGR2GRAY)\n",
    "        img = cv2.resize(img, (COL_SIZE, ROW_SIZE))\n",
    "        testing_data.append([img, str(num_folder)])\n",
    "testing_data = np.array(testing_data)\n",
    "np.save(f\"alexandre-real-{testing_data.shape[0]}-GrayScale-({ROW_SIZE}, {COL_SIZE})-test.npy\", testing_data)\n",
    "del testing_data"
   ],
   "metadata": {
    "collapsed": false,
    "pycharm": {
     "name": "#%%\n",
     "is_executing": false
    }
   }
  },
  {
   "cell_type": "code",
   "execution_count": 11,
   "outputs": [],
   "source": [
    "x = np.load('alexandre-real-20-GrayScale-(8, 6)-test.npy', allow_pickle=True)\n",
    "y = np.load('alexandre-real-180-GrayScale-(8, 6).npy', allow_pickle=True)"
   ],
   "metadata": {
    "collapsed": false,
    "pycharm": {
     "name": "#%%\n",
     "is_executing": false
    }
   }
  }
 ],
 "metadata": {
  "language_info": {
   "codemirror_mode": {
    "name": "ipython",
    "version": 2
   },
   "file_extension": ".py",
   "mimetype": "text/x-python",
   "name": "python",
   "nbconvert_exporter": "python",
   "pygments_lexer": "ipython2",
   "version": "2.7.6"
  },
  "kernelspec": {
   "name": "python3",
   "language": "python",
   "display_name": "Python 3"
  },
  "pycharm": {
   "stem_cell": {
    "cell_type": "raw",
    "source": [],
    "metadata": {
     "collapsed": false
    }
   }
  }
 },
 "nbformat": 4,
 "nbformat_minor": 0
}